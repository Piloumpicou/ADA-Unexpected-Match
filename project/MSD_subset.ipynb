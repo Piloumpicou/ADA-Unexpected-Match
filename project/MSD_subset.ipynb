{
 "cells": [
  {
   "cell_type": "code",
   "execution_count": 1,
   "metadata": {
    "collapsed": true
   },
   "outputs": [],
   "source": [
    "import numpy as np\n",
    "import pandas as pd\n",
    "import seaborn\n",
    "import matplotlib.pyplot as plt\n",
    "%matplotlib inline\n",
    "\n",
    "import os\n",
    "import glob\n",
    "import time\n",
    "\n",
    "import h5py\n",
    "\n",
    "import hdf5_getters\n",
    "from hdf5_getters import *"
   ]
  },
  {
   "cell_type": "code",
   "execution_count": null,
   "metadata": {
    "collapsed": true
   },
   "outputs": [],
   "source": []
  },
  {
   "cell_type": "code",
   "execution_count": 3,
   "metadata": {
    "collapsed": true
   },
   "outputs": [],
   "source": [
    "def count_all_files(basedir,ext='.h5') :\n",
    "    cnt = 0\n",
    "    for root, dirs, files in os.walk(basedir):\n",
    "        files = glob.glob(os.path.join(root,'*'+ext))\n",
    "        cnt += len(files)\n",
    "    return cnt"
   ]
  },
  {
   "cell_type": "code",
   "execution_count": 4,
   "metadata": {
    "collapsed": true
   },
   "outputs": [],
   "source": [
    "def get_all(getter, base_directory, ext='.h5'):\n",
    "    values = []\n",
    "    for root, dirs, files in os.walk(base_directory):\n",
    "        files = glob.glob(os.path.join(root,'*'+ext))\n",
    "        for f in files:\n",
    "            h5 = hdf5_getters.open_h5_file_read(f)\n",
    "            values.append( getter(h5) )\n",
    "            h5.close()\n",
    "    return values"
   ]
  },
  {
   "cell_type": "code",
   "execution_count": 7,
   "metadata": {
    "collapsed": true
   },
   "outputs": [],
   "source": [
    "def get_file_fields(file, all_getters):\n",
    "    fields = []\n",
    "    for getter_name in all_getters:\n",
    "        getter = getattr(hdf5_getters, getter_name)\n",
    "        fields.append(getter(h5))\n",
    "    return fields"
   ]
  },
  {
   "cell_type": "code",
   "execution_count": null,
   "metadata": {
    "collapsed": true
   },
   "outputs": [],
   "source": []
  },
  {
   "cell_type": "code",
   "execution_count": 5,
   "metadata": {
    "collapsed": true
   },
   "outputs": [],
   "source": [
    "base_directory = './millionsongsubset_full/MillionSongSubset/data'"
   ]
  },
  {
   "cell_type": "code",
   "execution_count": 8,
   "metadata": {},
   "outputs": [
    {
     "name": "stdout",
     "output_type": "stream",
     "text": [
      "Number of songs: 10000\n"
     ]
    }
   ],
   "source": [
    "print('Number of songs:', count_all_files(base_directory))"
   ]
  },
  {
   "cell_type": "code",
   "execution_count": 10,
   "metadata": {},
   "outputs": [
    {
     "name": "stdout",
     "output_type": "stream",
     "text": [
      "Number of getters: 55\n"
     ]
    }
   ],
   "source": [
    "all_getters = list(filter(lambda x: x[:3] == 'get',hdf5_getters.__dict__.keys()))\n",
    "print('Number of getters:', len(all_getters))"
   ]
  },
  {
   "cell_type": "code",
   "execution_count": null,
   "metadata": {
    "collapsed": true
   },
   "outputs": [],
   "source": []
  },
  {
   "cell_type": "code",
   "execution_count": null,
   "metadata": {
    "collapsed": true
   },
   "outputs": [],
   "source": []
  },
  {
   "cell_type": "markdown",
   "metadata": {},
   "source": [
    "#### Building the dataframe (only subset)"
   ]
  },
  {
   "cell_type": "code",
   "execution_count": null,
   "metadata": {
    "collapsed": true
   },
   "outputs": [],
   "source": [
    "#iterate over all the .h5 files, starting from the base directory\n",
    "#note: takes between ~8 to ~10 minutes\n",
    "start_time = time.time()\n",
    "\n",
    "values = []\n",
    "ext = '.h5'\n",
    "\n",
    "for root, dirs, files in os.walk(base_directory):\n",
    "    files = glob.glob(os.path.join(root,'*'+ext))\n",
    "    for f in files:\n",
    "        h5 = hdf5_getters.open_h5_file_read(f)\n",
    "        values.append(get_file_fields(h5, all_getters))\n",
    "        h5.close()        \n",
    "\n",
    "print(\"--- Execution time: %s seconds ---\" % (time.time() - start_time))"
   ]
  },
  {
   "cell_type": "code",
   "execution_count": null,
   "metadata": {
    "collapsed": true
   },
   "outputs": [],
   "source": [
    "#create the column names from the getter names\n",
    "column_names = []\n",
    "for getter_name in all_getters:\n",
    "    column_names.append(getter_name[4:].replace('_', ' '))"
   ]
  },
  {
   "cell_type": "code",
   "execution_count": null,
   "metadata": {
    "collapsed": true
   },
   "outputs": [],
   "source": [
    "#create a dataframe with the given column names\n",
    "data = pd.DataFrame(columns=column_names)\n",
    "data.head()"
   ]
  },
  {
   "cell_type": "code",
   "execution_count": null,
   "metadata": {
    "collapsed": true
   },
   "outputs": [],
   "source": [
    "#fill the dataframe row by row\n",
    "nb_entries = len(values)\n",
    "for i in range(0, nb_entries):\n",
    "    data.loc[i] = values[i]"
   ]
  },
  {
   "cell_type": "code",
   "execution_count": null,
   "metadata": {
    "collapsed": true
   },
   "outputs": [],
   "source": [
    "data.head()"
   ]
  },
  {
   "cell_type": "code",
   "execution_count": null,
   "metadata": {
    "collapsed": true
   },
   "outputs": [],
   "source": [
    "#write the dataframe to a .csv file\n",
    "#note: takes several minutes\n",
    "start_time = time.time()\n",
    "data.to_csv('msd_data.csv', sep='\\t', encoding='utf-8')\n",
    "print(\"--- Execution time: %s seconds ---\" % (time.time() - start_time))"
   ]
  },
  {
   "cell_type": "code",
   "execution_count": null,
   "metadata": {
    "collapsed": true
   },
   "outputs": [],
   "source": []
  },
  {
   "cell_type": "markdown",
   "metadata": {},
   "source": [
    "#### Retrieving the dataframe"
   ]
  },
  {
   "cell_type": "code",
   "execution_count": 23,
   "metadata": {},
   "outputs": [
    {
     "data": {
      "text/html": [
       "<div>\n",
       "<style>\n",
       "    .dataframe thead tr:only-child th {\n",
       "        text-align: right;\n",
       "    }\n",
       "\n",
       "    .dataframe thead th {\n",
       "        text-align: left;\n",
       "    }\n",
       "\n",
       "    .dataframe tbody tr th {\n",
       "        vertical-align: top;\n",
       "    }\n",
       "</style>\n",
       "<table border=\"1\" class=\"dataframe\">\n",
       "  <thead>\n",
       "    <tr style=\"text-align: right;\">\n",
       "      <th></th>\n",
       "      <th>num songs</th>\n",
       "      <th>artist familiarity</th>\n",
       "      <th>artist hotttnesss</th>\n",
       "      <th>artist id</th>\n",
       "      <th>artist mbid</th>\n",
       "      <th>artist playmeid</th>\n",
       "      <th>artist 7digitalid</th>\n",
       "      <th>artist latitude</th>\n",
       "      <th>artist longitude</th>\n",
       "      <th>artist location</th>\n",
       "      <th>...</th>\n",
       "      <th>sections confidence</th>\n",
       "      <th>beats start</th>\n",
       "      <th>beats confidence</th>\n",
       "      <th>bars start</th>\n",
       "      <th>bars confidence</th>\n",
       "      <th>tatums start</th>\n",
       "      <th>tatums confidence</th>\n",
       "      <th>artist mbtags</th>\n",
       "      <th>artist mbtags count</th>\n",
       "      <th>year</th>\n",
       "    </tr>\n",
       "  </thead>\n",
       "  <tbody>\n",
       "    <tr>\n",
       "      <th>0</th>\n",
       "      <td>1</td>\n",
       "      <td>0.581794</td>\n",
       "      <td>0.401998</td>\n",
       "      <td>b'ARD7TVE1187B99BFB1'</td>\n",
       "      <td>b'e77e51a5-4761-45b3-9847-2051f811e366'</td>\n",
       "      <td>4479</td>\n",
       "      <td>165270</td>\n",
       "      <td>NaN</td>\n",
       "      <td>NaN</td>\n",
       "      <td>b'California - LA'</td>\n",
       "      <td>...</td>\n",
       "      <td>[ 1.     1.     0.218  0.133  0.384  0.326  0....</td>\n",
       "      <td>[   0.58521    1.19196    1.78893    2.37813  ...</td>\n",
       "      <td>[ 0.834  0.851  0.65   0.635  0.532  0.753  0....</td>\n",
       "      <td>[   0.58521    2.94247    5.14371    7.74554  ...</td>\n",
       "      <td>[ 0.643  0.746  0.722  0.095  0.091  0.362  0....</td>\n",
       "      <td>[   0.28519    0.58521    0.89422    1.19196  ...</td>\n",
       "      <td>[ 0.779  0.734  0.674  0.637  0.597  0.532  0....</td>\n",
       "      <td>[]</td>\n",
       "      <td>[]</td>\n",
       "      <td>0</td>\n",
       "    </tr>\n",
       "    <tr>\n",
       "      <th>1</th>\n",
       "      <td>1</td>\n",
       "      <td>0.630630</td>\n",
       "      <td>0.417500</td>\n",
       "      <td>b'ARMJAGH1187FB546F3'</td>\n",
       "      <td>b'1c78ab62-db33-4433-8d0b-7c8dcf1849c2'</td>\n",
       "      <td>22066</td>\n",
       "      <td>1998</td>\n",
       "      <td>35.14968</td>\n",
       "      <td>-90.04892</td>\n",
       "      <td>b'Memphis, TN'</td>\n",
       "      <td>...</td>\n",
       "      <td>[ 1.     0.451  0.27   0.397  0.225  0.426  0....</td>\n",
       "      <td>[   0.20627    0.71054    1.21836    1.71841  ...</td>\n",
       "      <td>[ 1.     0.945  0.714  0.973  0.818  0.974  0....</td>\n",
       "      <td>[   0.71054    2.71502    4.70861    6.69288  ...</td>\n",
       "      <td>[ 0.007  0.259  0.172  0.404  0.011  0.016  0....</td>\n",
       "      <td>[   0.20627    0.45904    0.71054    0.96834  ...</td>\n",
       "      <td>[ 0.969  0.929  0.897  0.871  0.856  0.845  0....</td>\n",
       "      <td>[b'classic pop and rock']</td>\n",
       "      <td>[1]</td>\n",
       "      <td>1969</td>\n",
       "    </tr>\n",
       "    <tr>\n",
       "      <th>2</th>\n",
       "      <td>1</td>\n",
       "      <td>0.487357</td>\n",
       "      <td>0.343428</td>\n",
       "      <td>b'ARKRRTF1187B9984DA'</td>\n",
       "      <td>b'7a273984-edd9-4451-9c4d-39b38f05ebcd'</td>\n",
       "      <td>13951</td>\n",
       "      <td>290021</td>\n",
       "      <td>NaN</td>\n",
       "      <td>NaN</td>\n",
       "      <td>b''</td>\n",
       "      <td>...</td>\n",
       "      <td>[ 1.     0.121  0.214  0.198  0.66   0.468  0....</td>\n",
       "      <td>[   0.73152    1.39732    2.04852    2.68691  ...</td>\n",
       "      <td>[ 0.98   0.399  0.185  0.27   0.422  0.     0....</td>\n",
       "      <td>[   0.73152    1.39732    2.04852    2.68691  ...</td>\n",
       "      <td>[ 0.98   0.399  0.185  0.27   0.422  0.     0....</td>\n",
       "      <td>[   0.42132    0.73152    1.06609    1.39732  ...</td>\n",
       "      <td>[ 0.482  0.676  0.627  0.549  0.279  0.264  0....</td>\n",
       "      <td>[]</td>\n",
       "      <td>[]</td>\n",
       "      <td>0</td>\n",
       "    </tr>\n",
       "    <tr>\n",
       "      <th>3</th>\n",
       "      <td>1</td>\n",
       "      <td>0.630382</td>\n",
       "      <td>0.454231</td>\n",
       "      <td>b'AR7G5I41187FB4CE6C'</td>\n",
       "      <td>b'e188a520-9cb7-4f73-a3d7-2f70c6538e92'</td>\n",
       "      <td>12697</td>\n",
       "      <td>19072</td>\n",
       "      <td>NaN</td>\n",
       "      <td>NaN</td>\n",
       "      <td>b'London, England'</td>\n",
       "      <td>...</td>\n",
       "      <td>[ 1.     0.086  0.153  0.146  0.088  0.217  0....</td>\n",
       "      <td>[   0.81002    1.30621    1.80617    2.2996   ...</td>\n",
       "      <td>[ 0.809  0.616  0.789  0.66   0.439  0.758  0....</td>\n",
       "      <td>[   1.30621    3.29887    5.30252    7.32327  ...</td>\n",
       "      <td>[ 0.017  0.05   0.014  0.008  0.114  0.019  0....</td>\n",
       "      <td>[   0.56254    0.81002    1.05749    1.30621  ...</td>\n",
       "      <td>[ 0.601  0.556  0.523  0.49   0.466  0.44   0....</td>\n",
       "      <td>[b'uk' b'british' b'english']</td>\n",
       "      <td>[1 1 1]</td>\n",
       "      <td>1982</td>\n",
       "    </tr>\n",
       "    <tr>\n",
       "      <th>4</th>\n",
       "      <td>1</td>\n",
       "      <td>0.651046</td>\n",
       "      <td>0.401724</td>\n",
       "      <td>b'ARXR32B1187FB57099'</td>\n",
       "      <td>b'c6903a2e-063c-4f91-a284-17b8f421be7b'</td>\n",
       "      <td>8355</td>\n",
       "      <td>30973</td>\n",
       "      <td>NaN</td>\n",
       "      <td>NaN</td>\n",
       "      <td>b''</td>\n",
       "      <td>...</td>\n",
       "      <td>[ 1.     0.768  0.611  0.388  0.52   0.42   0....</td>\n",
       "      <td>[  1.35760000e-01   5.99140000e-01   1.0636800...</td>\n",
       "      <td>[ 0.883  0.738  0.484  0.609  0.625  0.719  0....</td>\n",
       "      <td>[   1.06368    2.91491    4.76729    6.61852  ...</td>\n",
       "      <td>[ 0.175  0.409  0.639  0.067  0.016  0.066  0....</td>\n",
       "      <td>[  1.35760000e-01   3.69180000e-01   5.9914000...</td>\n",
       "      <td>[ 1.     0.98   0.932  0.87   0.82   0.793  0....</td>\n",
       "      <td>[]</td>\n",
       "      <td>[]</td>\n",
       "      <td>2007</td>\n",
       "    </tr>\n",
       "  </tbody>\n",
       "</table>\n",
       "<p>5 rows × 55 columns</p>\n",
       "</div>"
      ],
      "text/plain": [
       "   num songs  artist familiarity  artist hotttnesss              artist id  \\\n",
       "0          1            0.581794           0.401998  b'ARD7TVE1187B99BFB1'   \n",
       "1          1            0.630630           0.417500  b'ARMJAGH1187FB546F3'   \n",
       "2          1            0.487357           0.343428  b'ARKRRTF1187B9984DA'   \n",
       "3          1            0.630382           0.454231  b'AR7G5I41187FB4CE6C'   \n",
       "4          1            0.651046           0.401724  b'ARXR32B1187FB57099'   \n",
       "\n",
       "                               artist mbid  artist playmeid  \\\n",
       "0  b'e77e51a5-4761-45b3-9847-2051f811e366'             4479   \n",
       "1  b'1c78ab62-db33-4433-8d0b-7c8dcf1849c2'            22066   \n",
       "2  b'7a273984-edd9-4451-9c4d-39b38f05ebcd'            13951   \n",
       "3  b'e188a520-9cb7-4f73-a3d7-2f70c6538e92'            12697   \n",
       "4  b'c6903a2e-063c-4f91-a284-17b8f421be7b'             8355   \n",
       "\n",
       "   artist 7digitalid  artist latitude  artist longitude     artist location  \\\n",
       "0             165270              NaN               NaN  b'California - LA'   \n",
       "1               1998         35.14968         -90.04892      b'Memphis, TN'   \n",
       "2             290021              NaN               NaN                 b''   \n",
       "3              19072              NaN               NaN  b'London, England'   \n",
       "4              30973              NaN               NaN                 b''   \n",
       "\n",
       "   ...                                 sections confidence  \\\n",
       "0  ...   [ 1.     1.     0.218  0.133  0.384  0.326  0....   \n",
       "1  ...   [ 1.     0.451  0.27   0.397  0.225  0.426  0....   \n",
       "2  ...   [ 1.     0.121  0.214  0.198  0.66   0.468  0....   \n",
       "3  ...   [ 1.     0.086  0.153  0.146  0.088  0.217  0....   \n",
       "4  ...   [ 1.     0.768  0.611  0.388  0.52   0.42   0....   \n",
       "\n",
       "                                         beats start  \\\n",
       "0  [   0.58521    1.19196    1.78893    2.37813  ...   \n",
       "1  [   0.20627    0.71054    1.21836    1.71841  ...   \n",
       "2  [   0.73152    1.39732    2.04852    2.68691  ...   \n",
       "3  [   0.81002    1.30621    1.80617    2.2996   ...   \n",
       "4  [  1.35760000e-01   5.99140000e-01   1.0636800...   \n",
       "\n",
       "                                    beats confidence  \\\n",
       "0  [ 0.834  0.851  0.65   0.635  0.532  0.753  0....   \n",
       "1  [ 1.     0.945  0.714  0.973  0.818  0.974  0....   \n",
       "2  [ 0.98   0.399  0.185  0.27   0.422  0.     0....   \n",
       "3  [ 0.809  0.616  0.789  0.66   0.439  0.758  0....   \n",
       "4  [ 0.883  0.738  0.484  0.609  0.625  0.719  0....   \n",
       "\n",
       "                                          bars start  \\\n",
       "0  [   0.58521    2.94247    5.14371    7.74554  ...   \n",
       "1  [   0.71054    2.71502    4.70861    6.69288  ...   \n",
       "2  [   0.73152    1.39732    2.04852    2.68691  ...   \n",
       "3  [   1.30621    3.29887    5.30252    7.32327  ...   \n",
       "4  [   1.06368    2.91491    4.76729    6.61852  ...   \n",
       "\n",
       "                                     bars confidence  \\\n",
       "0  [ 0.643  0.746  0.722  0.095  0.091  0.362  0....   \n",
       "1  [ 0.007  0.259  0.172  0.404  0.011  0.016  0....   \n",
       "2  [ 0.98   0.399  0.185  0.27   0.422  0.     0....   \n",
       "3  [ 0.017  0.05   0.014  0.008  0.114  0.019  0....   \n",
       "4  [ 0.175  0.409  0.639  0.067  0.016  0.066  0....   \n",
       "\n",
       "                                        tatums start  \\\n",
       "0  [   0.28519    0.58521    0.89422    1.19196  ...   \n",
       "1  [   0.20627    0.45904    0.71054    0.96834  ...   \n",
       "2  [   0.42132    0.73152    1.06609    1.39732  ...   \n",
       "3  [   0.56254    0.81002    1.05749    1.30621  ...   \n",
       "4  [  1.35760000e-01   3.69180000e-01   5.9914000...   \n",
       "\n",
       "                                   tatums confidence  \\\n",
       "0  [ 0.779  0.734  0.674  0.637  0.597  0.532  0....   \n",
       "1  [ 0.969  0.929  0.897  0.871  0.856  0.845  0....   \n",
       "2  [ 0.482  0.676  0.627  0.549  0.279  0.264  0....   \n",
       "3  [ 0.601  0.556  0.523  0.49   0.466  0.44   0....   \n",
       "4  [ 1.     0.98   0.932  0.87   0.82   0.793  0....   \n",
       "\n",
       "                   artist mbtags artist mbtags count  year  \n",
       "0                             []                  []     0  \n",
       "1      [b'classic pop and rock']                 [1]  1969  \n",
       "2                             []                  []     0  \n",
       "3  [b'uk' b'british' b'english']             [1 1 1]  1982  \n",
       "4                             []                  []  2007  \n",
       "\n",
       "[5 rows x 55 columns]"
      ]
     },
     "execution_count": 23,
     "metadata": {},
     "output_type": "execute_result"
    }
   ],
   "source": [
    "data = pd.read_csv('msd_data_save.csv', sep='\\t', index_col=0)\n",
    "data.head()"
   ]
  },
  {
   "cell_type": "markdown",
   "metadata": {},
   "source": [
    "#### Basic statistics"
   ]
  },
  {
   "cell_type": "code",
   "execution_count": 29,
   "metadata": {},
   "outputs": [
    {
     "data": {
      "image/png": "[encoded data removed]",
      "text/plain": [
       "<matplotlib.figure.Figure at 0x284812ba240>"
      ]
     },
     "metadata": {},
     "output_type": "display_data"
    }
   ],
   "source": [
    "ax = data[data['year'] > 0]['year'].value_counts().sort_index().plot(kind='bar',\n",
    "                                                                      grid=True,\n",
    "                                                                      figsize=(14, 5),\n",
    "                                                                      title='Year distribution');\n",
    "\n",
    "ax.set_xlabel('year')\n",
    "ax.set_ylabel('number of songs');"
   ]
  },
  {
   "cell_type": "code",
   "execution_count": null,
   "metadata": {
    "collapsed": true
   },
   "outputs": [],
   "source": []
  },
  {
   "cell_type": "code",
   "execution_count": null,
   "metadata": {
    "collapsed": true
   },
   "outputs": [],
   "source": []
  },
  {
   "cell_type": "code",
   "execution_count": null,
   "metadata": {
    "collapsed": true
   },
   "outputs": [],
   "source": []
  }
 ],
 "metadata": {
  "kernelspec": {
   "display_name": "Python 3",
   "language": "python",
   "name": "python3"
  },
  "language_info": {
   "codemirror_mode": {
    "name": "ipython",
    "version": 3
   },
   "file_extension": ".py",
   "mimetype": "text/x-python",
   "name": "python",
   "nbconvert_exporter": "python",
   "pygments_lexer": "ipython3",
   "version": "3.6.2"
  }
 },
 "nbformat": 4,
 "nbformat_minor": 2
}
