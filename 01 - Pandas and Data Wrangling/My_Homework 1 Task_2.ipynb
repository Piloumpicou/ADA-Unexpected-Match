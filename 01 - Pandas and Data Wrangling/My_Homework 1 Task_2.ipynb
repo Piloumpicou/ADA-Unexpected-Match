{
 "cells": [
  {
   "cell_type": "markdown",
   "metadata": {},
   "source": [
    "# Table of Contents\n",
    " <p><div class=\"lev1\"><a href=\"#Task-1.-Compiling-Ebola-Data\"><span class=\"toc-item-num\">Task 1.&nbsp;&nbsp;</span>Compiling Ebola Data</a></div>\n",
    " <div class=\"lev1\"><a href=\"#Task-2.-RNA-Sequences\"><span class=\"toc-item-num\">Task 2.&nbsp;&nbsp;</span>RNA Sequences</a></div>\n",
    " <div class=\"lev1\"><a href=\"#Task-3.-Class-War-in-Titanic\"><span class=\"toc-item-num\">Task 3.&nbsp;&nbsp;</span>Class War in Titanic</a></div></p>"
   ]
  },
  {
   "cell_type": "code",
   "execution_count": 4,
   "metadata": {
    "collapsed": true
   },
   "outputs": [],
   "source": [
    "%matplotlib inline\n",
    "import pandas as pd\n",
    "import numpy as np\n",
    "import matplotlib.pyplot as plt\n",
    "import seaborn as sns\n",
    "import os\n",
    "import glob"
   ]
  },
  {
   "cell_type": "code",
   "execution_count": 5,
   "metadata": {
    "collapsed": true
   },
   "outputs": [],
   "source": [
    "DATA_FOLDER = '../../ADA2017-Tutorials/02 - Intro to pandas/Data/' # Use the data folder provided in Tutorial 02 - Intro to Pandas."
   ]
  },
  {
   "cell_type": "markdown",
   "metadata": {},
   "source": [
    "## Task 2. RNA Sequences\n",
    "\n",
    "In the `DATA_FOLDER/microbiome` subdirectory, there are 9 spreadsheets of microbiome data that was acquired from high-throughput RNA sequencing procedures, along with a 10<sup>th</sup> file that describes the content of each. \n",
    "\n",
    "Use pandas to import the first 9 spreadsheets into a single `DataFrame`.\n",
    "Then, add the metadata information from the 10<sup>th</sup> spreadsheet as columns in the combined `DataFrame`.\n",
    "Make sure that the final `DataFrame` has a unique index and all the `NaN` values have been replaced by the tag `unknown`."
   ]
  },
  {
   "cell_type": "code",
   "execution_count": 269,
   "metadata": {
    "collapsed": false
   },
   "outputs": [],
   "source": [
    "files_name = os.listdir(DATA_FOLDER + 'microbiome/')"
   ]
  },
  {
   "cell_type": "code",
   "execution_count": 318,
   "metadata": {
    "collapsed": false
   },
   "outputs": [],
   "source": [
    "rna_data = pd.DataFrame()\n",
    "\n",
    "for e,f in enumerate(list(filter(lambda n: 'MID' in n, files_name))) :\n",
    "    tmp = pd.read_excel(DATA_FOLDER + 'microbiome/' + f, 'Sheet 1', index_col=0, header=None)\n",
    "    #tmp.columns = ['MID'+ str(e+1)]  \n",
    "    rna_data = pd.concat([rna_data, tmp], axis=1)\n",
    "\n",
    "rna_data.fillna(\"unknown\", inplace = True)\n",
    "rna_data.index.name = 'Taxonomy'  "
   ]
  },
  {
   "cell_type": "markdown",
   "metadata": {},
   "source": [
    "Let's have a look at what we find in the metadata :"
   ]
  },
  {
   "cell_type": "code",
   "execution_count": 320,
   "metadata": {
    "collapsed": false
   },
   "outputs": [
    {
     "data": {
      "text/html": [
       "<div>\n",
       "<table border=\"1\" class=\"dataframe\">\n",
       "  <thead>\n",
       "    <tr style=\"text-align: right;\">\n",
       "      <th></th>\n",
       "      <th>BARCODE</th>\n",
       "      <th>GROUP</th>\n",
       "      <th>SAMPLE</th>\n",
       "    </tr>\n",
       "  </thead>\n",
       "  <tbody>\n",
       "    <tr>\n",
       "      <th>0</th>\n",
       "      <td>MID1</td>\n",
       "      <td>EXTRACTION CONTROL</td>\n",
       "      <td>NaN</td>\n",
       "    </tr>\n",
       "    <tr>\n",
       "      <th>1</th>\n",
       "      <td>MID2</td>\n",
       "      <td>NEC 1</td>\n",
       "      <td>tissue</td>\n",
       "    </tr>\n",
       "    <tr>\n",
       "      <th>2</th>\n",
       "      <td>MID3</td>\n",
       "      <td>Control 1</td>\n",
       "      <td>tissue</td>\n",
       "    </tr>\n",
       "    <tr>\n",
       "      <th>3</th>\n",
       "      <td>MID4</td>\n",
       "      <td>NEC 2</td>\n",
       "      <td>tissue</td>\n",
       "    </tr>\n",
       "    <tr>\n",
       "      <th>4</th>\n",
       "      <td>MID5</td>\n",
       "      <td>Control 2</td>\n",
       "      <td>tissue</td>\n",
       "    </tr>\n",
       "    <tr>\n",
       "      <th>5</th>\n",
       "      <td>MID6</td>\n",
       "      <td>NEC 1</td>\n",
       "      <td>stool</td>\n",
       "    </tr>\n",
       "    <tr>\n",
       "      <th>6</th>\n",
       "      <td>MID7</td>\n",
       "      <td>Control 1</td>\n",
       "      <td>stool</td>\n",
       "    </tr>\n",
       "    <tr>\n",
       "      <th>7</th>\n",
       "      <td>MID8</td>\n",
       "      <td>NEC 2</td>\n",
       "      <td>stool</td>\n",
       "    </tr>\n",
       "    <tr>\n",
       "      <th>8</th>\n",
       "      <td>MID9</td>\n",
       "      <td>Control 2</td>\n",
       "      <td>stool</td>\n",
       "    </tr>\n",
       "  </tbody>\n",
       "</table>\n",
       "</div>"
      ],
      "text/plain": [
       "  BARCODE               GROUP  SAMPLE\n",
       "0    MID1  EXTRACTION CONTROL     NaN\n",
       "1    MID2               NEC 1  tissue\n",
       "2    MID3           Control 1  tissue\n",
       "3    MID4               NEC 2  tissue\n",
       "4    MID5           Control 2  tissue\n",
       "5    MID6               NEC 1   stool\n",
       "6    MID7           Control 1   stool\n",
       "7    MID8               NEC 2   stool\n",
       "8    MID9           Control 2   stool"
      ]
     },
     "execution_count": 320,
     "metadata": {},
     "output_type": "execute_result"
    }
   ],
   "source": [
    "pd.read_excel(DATA_FOLDER+\"microbiome/metadata.xls\")"
   ]
  },
  {
   "cell_type": "markdown",
   "metadata": {},
   "source": [
    "We will add the values of metadata as columns in the data, and columns of metadata as column names : <br>\n",
    "\n",
    "\n",
    "Metadata's values $\\rightarrow$ Data's columns <br>\n",
    "Metadata's columns $\\rightarrow$ Data's columns name"
   ]
  },
  {
   "cell_type": "code",
   "execution_count": 321,
   "metadata": {
    "collapsed": false
   },
   "outputs": [],
   "source": [
    "rna_data.columns = meta.transpose().values.tolist()#[::-1]\n",
    "rna_data.columns.names = meta.transpose().index.values.tolist()#[::-1]"
   ]
  },
  {
   "cell_type": "code",
   "execution_count": 322,
   "metadata": {
    "collapsed": false
   },
   "outputs": [
    {
     "data": {
      "text/html": [
       "<div>\n",
       "<table border=\"1\" class=\"dataframe\">\n",
       "  <thead>\n",
       "    <tr>\n",
       "      <th>BARCODE</th>\n",
       "      <th>MID1</th>\n",
       "      <th>MID2</th>\n",
       "      <th>MID3</th>\n",
       "      <th>MID4</th>\n",
       "      <th>MID5</th>\n",
       "      <th>MID6</th>\n",
       "      <th>MID7</th>\n",
       "      <th>MID8</th>\n",
       "      <th>MID9</th>\n",
       "    </tr>\n",
       "    <tr>\n",
       "      <th>GROUP</th>\n",
       "      <th>EXTRACTION CONTROL</th>\n",
       "      <th>NEC 1</th>\n",
       "      <th>Control 1</th>\n",
       "      <th>NEC 2</th>\n",
       "      <th>Control 2</th>\n",
       "      <th>NEC 1</th>\n",
       "      <th>Control 1</th>\n",
       "      <th>NEC 2</th>\n",
       "      <th>Control 2</th>\n",
       "    </tr>\n",
       "    <tr>\n",
       "      <th>SAMPLE</th>\n",
       "      <th>unknows</th>\n",
       "      <th>tissue</th>\n",
       "      <th>tissue</th>\n",
       "      <th>tissue</th>\n",
       "      <th>tissue</th>\n",
       "      <th>stool</th>\n",
       "      <th>stool</th>\n",
       "      <th>stool</th>\n",
       "      <th>stool</th>\n",
       "    </tr>\n",
       "    <tr>\n",
       "      <th>Taxonomy</th>\n",
       "      <th></th>\n",
       "      <th></th>\n",
       "      <th></th>\n",
       "      <th></th>\n",
       "      <th></th>\n",
       "      <th></th>\n",
       "      <th></th>\n",
       "      <th></th>\n",
       "      <th></th>\n",
       "    </tr>\n",
       "  </thead>\n",
       "  <tbody>\n",
       "    <tr>\n",
       "      <th>Archaea \"Crenarchaeota\" Thermoprotei Acidilobales Acidilobaceae Acidilobus</th>\n",
       "      <td>unknown</td>\n",
       "      <td>2</td>\n",
       "      <td>1</td>\n",
       "      <td>unknown</td>\n",
       "      <td>5</td>\n",
       "      <td>unknown</td>\n",
       "      <td>unknown</td>\n",
       "      <td>unknown</td>\n",
       "      <td>unknown</td>\n",
       "    </tr>\n",
       "    <tr>\n",
       "      <th>Archaea \"Crenarchaeota\" Thermoprotei Acidilobales Caldisphaeraceae Caldisphaera</th>\n",
       "      <td>unknown</td>\n",
       "      <td>14</td>\n",
       "      <td>15</td>\n",
       "      <td>unknown</td>\n",
       "      <td>26</td>\n",
       "      <td>unknown</td>\n",
       "      <td>1</td>\n",
       "      <td>unknown</td>\n",
       "      <td>1</td>\n",
       "    </tr>\n",
       "    <tr>\n",
       "      <th>Archaea \"Crenarchaeota\" Thermoprotei Desulfurococcales Desulfurococcaceae Ignisphaera</th>\n",
       "      <td>7</td>\n",
       "      <td>23</td>\n",
       "      <td>14</td>\n",
       "      <td>2</td>\n",
       "      <td>28</td>\n",
       "      <td>7</td>\n",
       "      <td>8</td>\n",
       "      <td>unknown</td>\n",
       "      <td>16</td>\n",
       "    </tr>\n",
       "    <tr>\n",
       "      <th>Archaea \"Crenarchaeota\" Thermoprotei Desulfurococcales Desulfurococcaceae Stetteria</th>\n",
       "      <td>unknown</td>\n",
       "      <td>unknown</td>\n",
       "      <td>unknown</td>\n",
       "      <td>unknown</td>\n",
       "      <td>1</td>\n",
       "      <td>unknown</td>\n",
       "      <td>unknown</td>\n",
       "      <td>unknown</td>\n",
       "      <td>unknown</td>\n",
       "    </tr>\n",
       "    <tr>\n",
       "      <th>Archaea \"Crenarchaeota\" Thermoprotei Desulfurococcales Desulfurococcaceae Sulfophobococcus</th>\n",
       "      <td>unknown</td>\n",
       "      <td>1</td>\n",
       "      <td>4</td>\n",
       "      <td>unknown</td>\n",
       "      <td>5</td>\n",
       "      <td>1</td>\n",
       "      <td>2</td>\n",
       "      <td>unknown</td>\n",
       "      <td>2</td>\n",
       "    </tr>\n",
       "  </tbody>\n",
       "</table>\n",
       "</div>"
      ],
      "text/plain": [
       "BARCODE                                                          MID1  \\\n",
       "GROUP                                              EXTRACTION CONTROL   \n",
       "SAMPLE                                                        unknows   \n",
       "Taxonomy                                                                \n",
       "Archaea \"Crenarchaeota\" Thermoprotei Acidilobal...            unknown   \n",
       "Archaea \"Crenarchaeota\" Thermoprotei Acidilobal...            unknown   \n",
       "Archaea \"Crenarchaeota\" Thermoprotei Desulfuroc...                  7   \n",
       "Archaea \"Crenarchaeota\" Thermoprotei Desulfuroc...            unknown   \n",
       "Archaea \"Crenarchaeota\" Thermoprotei Desulfuroc...            unknown   \n",
       "\n",
       "BARCODE                                                MID2      MID3  \\\n",
       "GROUP                                                 NEC 1 Control 1   \n",
       "SAMPLE                                               tissue    tissue   \n",
       "Taxonomy                                                                \n",
       "Archaea \"Crenarchaeota\" Thermoprotei Acidilobal...        2         1   \n",
       "Archaea \"Crenarchaeota\" Thermoprotei Acidilobal...       14        15   \n",
       "Archaea \"Crenarchaeota\" Thermoprotei Desulfuroc...       23        14   \n",
       "Archaea \"Crenarchaeota\" Thermoprotei Desulfuroc...  unknown   unknown   \n",
       "Archaea \"Crenarchaeota\" Thermoprotei Desulfuroc...        1         4   \n",
       "\n",
       "BARCODE                                                MID4      MID5  \\\n",
       "GROUP                                                 NEC 2 Control 2   \n",
       "SAMPLE                                               tissue    tissue   \n",
       "Taxonomy                                                                \n",
       "Archaea \"Crenarchaeota\" Thermoprotei Acidilobal...  unknown         5   \n",
       "Archaea \"Crenarchaeota\" Thermoprotei Acidilobal...  unknown        26   \n",
       "Archaea \"Crenarchaeota\" Thermoprotei Desulfuroc...        2        28   \n",
       "Archaea \"Crenarchaeota\" Thermoprotei Desulfuroc...  unknown         1   \n",
       "Archaea \"Crenarchaeota\" Thermoprotei Desulfuroc...  unknown         5   \n",
       "\n",
       "BARCODE                                                MID6      MID7  \\\n",
       "GROUP                                                 NEC 1 Control 1   \n",
       "SAMPLE                                                stool     stool   \n",
       "Taxonomy                                                                \n",
       "Archaea \"Crenarchaeota\" Thermoprotei Acidilobal...  unknown   unknown   \n",
       "Archaea \"Crenarchaeota\" Thermoprotei Acidilobal...  unknown         1   \n",
       "Archaea \"Crenarchaeota\" Thermoprotei Desulfuroc...        7         8   \n",
       "Archaea \"Crenarchaeota\" Thermoprotei Desulfuroc...  unknown   unknown   \n",
       "Archaea \"Crenarchaeota\" Thermoprotei Desulfuroc...        1         2   \n",
       "\n",
       "BARCODE                                                MID8      MID9  \n",
       "GROUP                                                 NEC 2 Control 2  \n",
       "SAMPLE                                                stool     stool  \n",
       "Taxonomy                                                               \n",
       "Archaea \"Crenarchaeota\" Thermoprotei Acidilobal...  unknown   unknown  \n",
       "Archaea \"Crenarchaeota\" Thermoprotei Acidilobal...  unknown         1  \n",
       "Archaea \"Crenarchaeota\" Thermoprotei Desulfuroc...  unknown        16  \n",
       "Archaea \"Crenarchaeota\" Thermoprotei Desulfuroc...  unknown   unknown  \n",
       "Archaea \"Crenarchaeota\" Thermoprotei Desulfuroc...  unknown         2  "
      ]
     },
     "execution_count": 322,
     "metadata": {},
     "output_type": "execute_result"
    }
   ],
   "source": [
    "rna_data.head()"
   ]
  },
  {
   "cell_type": "markdown",
   "metadata": {},
   "source": [
    "Let's finally check that the indexes are unique :"
   ]
  },
  {
   "cell_type": "code",
   "execution_count": 315,
   "metadata": {
    "collapsed": false
   },
   "outputs": [
    {
     "data": {
      "text/plain": [
       "True"
      ]
     },
     "execution_count": 315,
     "metadata": {},
     "output_type": "execute_result"
    }
   ],
   "source": [
    "rna_data.index.is_unique"
   ]
  }
 ],
 "metadata": {
  "kernelspec": {
   "display_name": "Python 3",
   "language": "python",
   "name": "python3"
  },
  "language_info": {
   "codemirror_mode": {
    "name": "ipython",
    "version": 3
   },
   "file_extension": ".py",
   "mimetype": "text/x-python",
   "name": "python",
   "nbconvert_exporter": "python",
   "pygments_lexer": "ipython3",
   "version": "3.5.4"
  }
 },
 "nbformat": 4,
 "nbformat_minor": 2
}
