{
 "cells": [
  {
   "cell_type": "markdown",
   "metadata": {},
   "source": [
    "# MiR\n",
    "\n",
    "# Abstract\n",
    "A 150 word description of the project idea, goals, dataset used. What story you would like to tell and why? What's the motivation behind your project?\n",
    "\n",
    "# Research questions\n",
    "A list of research questions you would like to address during the project. \n",
    "\n",
    "# Dataset\n",
    "*List the dataset(s) you want to use, and some ideas on how do you expect to get, manage, process and enrich it/them. Show us you've read the docs and some examples, and you've a clear idea on what to expect. Discuss data size and format if relevant.*\n",
    "\n",
    "For now, there are two datasets which seem to be of interest for our project:\n",
    "\n",
    "- **the 'Million Song Dataset' (MSD), which is the main dataset we will be working on**\n",
    "<br>The files of the MSD are in HD5 format: most likely existing code snippets to handle this format/convert it to some other format which can then be processed using python/...\n",
    "There are 54 attributes per song; we have yet to see which will be the most relevant for our study.\n",
    "\n",
    "The dataset can be found at:\n",
    "https://labrosa.ee.columbia.edu/millionsong/pages/getting-dataset\n",
    "\n",
    "- possibly **the 'musiXmatch dataset'**\n",
    "<br>Although it is not listed in the proposed datasets, this dataset is strongly linked to the MSD, since it contains descriptions to the lyrics related to the MSD songs (roughly 779K songs covered).\n",
    "The lyrics are provided as a bag of stemmed words, with the top words per song. One of the main reason behind this representation choice is that the official lyrics are copyright protected.\n",
    "\n",
    "This dataset can be found at :\n",
    "http://labrosa.ee.columbia.edu/millionsong/musixmatch\n",
    "\n",
    "- The Echo Nest **Taste Profile Subset**\n",
    "<br >This dataset is linked to the first one as well. It provides triplets of [user - song - play count]\n",
    "\n",
    "\n",
    "# A list of internal milestones up until project milestone 2\n",
    "Add here a sketch of your planning for the next project milestone.\n",
    "\n",
    "- Provide a way to handle the dataset easily \n",
    "(among others, getting familiar with the work already performed on this dataset: maybe existing code snippets we can reuse?)\n",
    "- Explore the dataset: produce basic statistics to get a global overview of the dataset\n",
    "- Define which are the most relevant features we will keep for our future analysis\n",
    "- Find interestings ways of vizualising the data and our results \n",
    "- ...\n",
    "\n",
    "# Questions for TAa\n",
    "Add here some questions you have for us, in general or project-specific.\n",
    "\n",
    "Would it be worthwhile to analyse the corresponding audio? \n",
    "(if yes, what would be good existing libraries or tools for this task?)"
   ]
  }
 ],
 "metadata": {
  "kernelspec": {
   "display_name": "Python 3",
   "language": "python",
   "name": "python3"
  },
  "language_info": {
   "codemirror_mode": {
    "name": "ipython",
    "version": 3
   },
   "file_extension": ".py",
   "mimetype": "text/x-python",
   "name": "python",
   "nbconvert_exporter": "python",
   "pygments_lexer": "ipython3",
   "version": "3.6.2"
  }
 },
 "nbformat": 4,
 "nbformat_minor": 2
}
