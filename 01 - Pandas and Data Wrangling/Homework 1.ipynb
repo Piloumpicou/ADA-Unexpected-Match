{
 "cells": [
  {
   "cell_type": "markdown",
   "metadata": {},
   "source": [
    "# Table of Contents\n",
    " <p><div class=\"lev1\"><a href=\"#Task-1.-Compiling-Ebola-Data\"><span class=\"toc-item-num\">Task 1.&nbsp;&nbsp;</span>Compiling Ebola Data</a></div>\n",
    " <div class=\"lev1\"><a href=\"#Task-2.-RNA-Sequences\"><span class=\"toc-item-num\">Task 2.&nbsp;&nbsp;</span>RNA Sequences</a></div>\n",
    " <div class=\"lev1\"><a href=\"#Task-3.-Class-War-in-Titanic\"><span class=\"toc-item-num\">Task 3.&nbsp;&nbsp;</span>Class War in Titanic</a></div></p>"
   ]
  },
  {
   "cell_type": "code",
   "execution_count": 2,
   "metadata": {
    "collapsed": true
   },
   "outputs": [],
   "source": [
    "%matplotlib inline\n",
    "import pandas as pd\n",
    "import numpy as np\n",
    "import matplotlib.pyplot as plt\n",
    "import glob\n",
    "import os"
   ]
  },
  {
   "cell_type": "code",
   "execution_count": 3,
   "metadata": {
    "collapsed": true
   },
   "outputs": [],
   "source": [
    "DATA_FOLDER = '../../ADA2017-Tutorials/02 - Intro to Pandas/Data/' # Use the data folder provided in Tutorial 02 - Intro to Pandas."
   ]
  },
  {
   "cell_type": "markdown",
   "metadata": {},
   "source": [
    "## Task 1. Compiling Ebola Data\n",
    "\n",
    "The `DATA_FOLDER/ebola` folder contains summarized reports of Ebola cases from three countries (Guinea, Liberia and Sierra Leone) during the recent outbreak of the disease in West Africa. For each country, there are daily reports that contain various information about the outbreak in several cities in each country.\n",
    "\n",
    "Use pandas to import these data files into a single `Dataframe`.\n",
    "Using this `DataFrame`, calculate for *each country*, the *daily average per month* of *new cases* and *deaths*.\n",
    "Make sure you handle all the different expressions for *new cases* and *deaths* that are used in the reports."
   ]
  },
  {
   "cell_type": "markdown",
   "metadata": {},
   "source": [
    "We start by having a look at the files: "
   ]
  },
  {
   "cell_type": "code",
   "execution_count": 9,
   "metadata": {
    "collapsed": false
   },
   "outputs": [
    {
     "name": "stdout",
     "output_type": "stream",
     "text": [
      "Date,Description,Totals,Conakry,Gueckedou,Macenta,Dabola,Kissidougou,Dinguiraye,Telimele,Boffa,Kouroussa,Siguiri,Pita,Mzerekore,Yomou,Dubreka,Forecariah,Kerouane,Coyah,Dalaba,Beyla,Kindia,Lola\n",
      "2014-09-11,New cases of suspects,9,,4,1,,,,,,,,,,,,1,3,,,,,\n",
      "\n",
      "\n",
      "Date,Variable,National,Bomi County,Bong County,Gbarpolu County,Grand Bassa,Grand Cape Mount,Grand Gedeh,Grand Kru,Lofa County,Margibi County,Maryland County,Montserrado County,Nimba County,River Gee County,RiverCess County,Sinoe County\n",
      "9/17/2014,Specimens collected,,,,,,,,,,,,,,,,\n",
      "\n",
      "\n",
      "date,variable,Kailahun,Kenema,Kono,Kambia,Koinadugu,Bombali,Tonkolili,Port Loko,Pujehun,Bo,Moyamba,Bonthe,Western area urban,Western area rural,National\n",
      "2014-08-18,population,\"465,048\",\"653,013\",\"325,003\",\"341,690\",\"335,471\",\"494,139\",\"434,937\",\"557,978\",\"335,574\",\"654,142\",\"278,119\",\"168,729\",\"1,040,888\",\"263,619\",\"6,348,350\"\n",
      "\n",
      "\n"
     ]
    }
   ],
   "source": [
    "!cat '../../ADA2017-Tutorials/02 - Intro to Pandas/Data/ebola/guinea_data/2014-09-11.csv' | head -n 2 \n",
    "! echo \"\\n\"\n",
    "!cat '../../ADA2017-Tutorials/02 - Intro to Pandas/Data/ebola/liberia_data/2014-09-17-v125.csv' | head -n 2\n",
    "! echo \"\\n\"\n",
    "!cat '../../ADA2017-Tutorials/02 - Intro to Pandas/Data/ebola/sl_data/2014-08-18-v83.csv' | head -n 2\n",
    "! echo \"\\n\""
   ]
  },
  {
   "cell_type": "markdown",
   "metadata": {},
   "source": [
    "We can see that each country has is own schema, however the schemas look the same in the form : <br/>\n",
    "* Date\n",
    "* Description/Variable\n",
    "* Total/National\n",
    "* Countys"
   ]
  },
  {
   "cell_type": "markdown",
   "metadata": {},
   "source": [
    "Let's have a look at the possible values of the second field :\n",
    "\n",
    "`cat ../../ADA2017-Tutorials/02-\\ Intro\\ to\\ Pandas/Data/ebola/*/* |  cut -d, -f2  | sort | uniq`"
   ]
  },
  {
   "cell_type": "markdown",
   "metadata": {},
   "source": [
    "We have indication about the number of death and new case (and others).\n",
    "\n",
    "Several fields have quiet the same meaning ; for instance : new deaths registered and new deaths registered today.\n",
    "\n",
    "We need to compute the total number of new cases and deaths by day, so we need do sum this field to have a total.\n",
    "\n",
    "So we will build a table like this  with new case and death in columns:\n",
    "Date, Country, County, NCountyew case, death ...\n",
    "\n",
    "This table wille be much easier to compute for statistical.\n",
    "\n",
    "However the data are in \"tranpose\" format, so we will tranpose it to have it in good shape for statistical analysis.\n"
   ]
  },
  {
   "cell_type": "code",
   "execution_count": 142,
   "metadata": {
    "collapsed": false
   },
   "outputs": [
    {
     "data": {
      "text/plain": [
       "(3588, 144)"
      ]
     },
     "execution_count": 142,
     "metadata": {},
     "output_type": "execute_result"
    }
   ],
   "source": [
    "data = pd.DataFrame() # empty table\n",
    "\n",
    "# Limit the number of file to load : for debug purpose\n",
    "max_file = 10000\n",
    "max_file_i = 0\n",
    "\n",
    "# Browse all csv file\n",
    "for csv in glob.glob(DATA_FOLDER + \"ebola/*/*.csv\"): \n",
    "    \n",
    "    # Read the csv and replace '-' by nan, because \"-\" apers sometime\n",
    "    subframe =  pd.read_csv(csv, na_values=\"-\")\n",
    "    \n",
    "    # Rewrite columns indexes by lowercases\n",
    "    subframe.columns = [x.lower() for x in subframe.columns]\n",
    "    \n",
    "    # Rename 'description' to 'variable' (those columns are equivalent)\n",
    "    if(subframe.columns[1]==\"description\") : \n",
    "        subframe.rename(columns={'description': 'variable'}, inplace=True)\n",
    "\n",
    "    # Verify that the date is unique by files\n",
    "    assert len(subframe['date'].drop_duplicates()) == 1\n",
    "    uniquedate = pd.to_datetime(subframe['date'][0])\n",
    "    \n",
    "    # Remove the date column\n",
    "    subframe.drop('date', axis=1, inplace=True)\n",
    "    \n",
    "    # Place 'variable' in indexes. Hence, after the transposition, variable will become columns\n",
    "    subframe = subframe.set_index(\"variable\")\n",
    "    \n",
    "    # Transpose the Dataframe : 'variable' becomes column names and regions name are indexes. \n",
    "    subframe = subframe.transpose()\n",
    "    \n",
    "    # Again, put all indexs in lowercases\n",
    "    subframe.columns = [x.lower() for x in subframe.columns]\n",
    "    \n",
    "    # Convert if possible data to number\n",
    "    subframe = subframe.apply(pd.to_numeric,errors='ignore')\n",
    "    \n",
    "    # Put back the date\n",
    "    subframe['date'] = uniquedate\n",
    "\n",
    "    # Add a column for the country, depending on the file\n",
    "    if \"guinea\" in csv :\n",
    "        subframe['country'] = \"Guinea\"\n",
    "    if \"liberia\" in csv :\n",
    "        subframe['country'] = \"Liberia\"\n",
    "    if \"sl\" in csv :\n",
    "        subframe['country'] = \"Sierra Leone\"\n",
    "        \n",
    "\n",
    "    # Reset index to have no county in index\n",
    "    subframe.reset_index(level=0, inplace=True)  \n",
    "    \n",
    "    # Rename index to regions\n",
    "    subframe.rename(columns={'index': 'regions'}, inplace=True)\n",
    "\n",
    "    # Remove duplicated columns\n",
    "    subframe = subframe.loc[:,~subframe.columns.duplicated()]\n",
    "\n",
    "    # Reorder column names : first date, country, regions\n",
    "    #cols = ['date','country','regions'] + [col for col in subframe if (col != 'date' and col != 'country' and col != 'regions') ]\n",
    "    #subframe = subframe[cols]\n",
    "    \n",
    "    # Concatenate the file with the global dataframe\n",
    "    data = pd.concat([data,subframe], axis=0, ignore_index=True)\n",
    "    # Reorder columns\n",
    "    cols = ['date','country','regions']  + [col for col in data if (col != 'date' and col != 'country' and col != 'regions') ]\n",
    "    data = data[cols]\n",
    "       \n",
    "    # Break the loop if too much files\n",
    "    if(max_file_i>max_file):\n",
    "           break\n",
    "    max_file_i +=1\n",
    "\n",
    "data.shape"
   ]
  },
  {
   "cell_type": "markdown",
   "metadata": {},
   "source": [
    "We add the 2 columns for new cases and deaths by day. <br>\n",
    "We arbitrary chose to count each of <b>probable, suspect, and confirmed</b> cases."
   ]
  },
  {
   "cell_type": "code",
   "execution_count": 143,
   "metadata": {
    "collapsed": false
   },
   "outputs": [],
   "source": [
    "data['total_new_death'] = data['new deaths registered'].fillna(0) + \\\n",
    "                        data['new deaths registered today'].fillna(0) + \\\n",
    "                        data['newly reported deaths'].fillna(0) + \\\n",
    "                        data['etc_new_deaths'].fillna(0)\n",
    "\n",
    "data['total_newcase'] = data[\"total new cases registered so far\"].fillna(0) + \\\n",
    "                        data['new case/s (confirmed)'].fillna(0) + \\\n",
    "                        data['new case/s (probable)'].fillna(0) + \\\n",
    "                        data['new case/s (suspected)'].fillna(0) + \\\n",
    "                        data['new_confirmed'].fillna(0) + \\\n",
    "                        data['new_probable'].fillna(0) + \\\n",
    "                        data['new_suspected'].fillna(0); "
   ]
  },
  {
   "cell_type": "markdown",
   "metadata": {
    "collapsed": true
   },
   "source": [
    "And finaly compute the daily mean by country, and by month "
   ]
  },
  {
   "cell_type": "code",
   "execution_count": 243,
   "metadata": {
    "collapsed": false
   },
   "outputs": [
    {
     "data": {
      "text/plain": [
       "country       date      \n",
       "Guinea        2014-08-31      25.800000\n",
       "              2014-09-30      19.625000\n",
       "              2014-10-31      34.000000\n",
       "Liberia       2014-06-30       5.714286\n",
       "              2014-07-31       8.545455\n",
       "              2014-08-31      37.222222\n",
       "              2014-09-30      63.833333\n",
       "              2014-10-31      45.560000\n",
       "              2014-11-30      26.466667\n",
       "              2014-12-31    5178.555556\n",
       "Sierra Leone  2014-08-31      25.150000\n",
       "              2014-09-30      40.689655\n",
       "              2014-10-31      70.928571\n",
       "              2014-11-30      75.238095\n",
       "              2014-12-31      41.000000\n",
       "Name: total_newcase, dtype: float64"
      ]
     },
     "execution_count": 243,
     "metadata": {},
     "output_type": "execute_result"
    }
   ],
   "source": [
    "gb_data = data[data['regions'].isin([\"national\" ,\"totals\"])].set_index(\"date\").groupby(['country',pd.TimeGrouper(freq='M')])\n",
    "\n",
    "n_c_mean = gb_data['total_newcase'].mean()\n",
    "n_c_mean"
   ]
  },
  {
   "cell_type": "code",
   "execution_count": 247,
   "metadata": {
    "collapsed": false
   },
   "outputs": [
    {
     "data": {
      "text/plain": [
       "<matplotlib.text.Text at 0x2a03a1c0978>"
      ]
     },
     "execution_count": 247,
     "metadata": {},
     "output_type": "execute_result"
    },
    {
     "data": {
      "image/png": "[encoded data removed]",
      "text/plain": [
       "<matplotlib.figure.Figure at 0x2a03b24f668>"
      ]
     },
     "metadata": {},
     "output_type": "display_data"
    }
   ],
   "source": [
    "plt.figure(figsize=(15, 8))\n",
    "#n_c_mean.drop([('Liberia', pd.to_datetime('2014-12-31'))]).plot()\n",
    "n_c_mean.loc['Guinea'].plot(logy = True)\n",
    "n_c_mean.loc['Liberia'].plot(logy = True)\n",
    "n_c_mean.loc['Sierra Leone'].plot(logy = True)\n",
    "plt.legend(['Guinea', 'Liberia', 'Sierra Leone'], loc='upper left')\n",
    "plt.ylabel(\"# of new cases (log scale)\")\n",
    "plt.xlabel(\"Month\")\n",
    "plt.title('Mean number of new cases by month, by country')\n",
    "#plt.xlim((pd.to_datetime('2014-06-30'),pd.to_datetime('2015-01-31')))"
   ]
  },
  {
   "cell_type": "code",
   "execution_count": 246,
   "metadata": {
    "collapsed": false
   },
   "outputs": [
    {
     "data": {
      "text/plain": [
       "country       date      \n",
       "Guinea        2014-08-31     3.400000\n",
       "              2014-09-30     3.562500\n",
       "              2014-10-31    15.000000\n",
       "Liberia       2014-06-30     2.000000\n",
       "              2014-07-31     4.272727\n",
       "              2014-08-31    23.222222\n",
       "              2014-09-30    36.041667\n",
       "              2014-10-31    28.040000\n",
       "              2014-11-30    13.466667\n",
       "              2014-12-31     0.000000\n",
       "Sierra Leone  2014-08-31     0.000000\n",
       "              2014-09-30     0.275862\n",
       "              2014-10-31     3.535714\n",
       "              2014-11-30     0.571429\n",
       "              2014-12-31     2.200000\n",
       "Name: total_new_death, dtype: float64"
      ]
     },
     "execution_count": 246,
     "metadata": {},
     "output_type": "execute_result"
    }
   ],
   "source": [
    "deaths_mean = gb_data['total_new_death'].mean()\n",
    "deaths_mean"
   ]
  },
  {
   "cell_type": "code",
   "execution_count": 211,
   "metadata": {
    "collapsed": false
   },
   "outputs": [
    {
     "data": {
      "text/plain": [
       "<matplotlib.text.Text at 0x2a042768c88>"
      ]
     },
     "execution_count": 211,
     "metadata": {},
     "output_type": "execute_result"
    },
    {
     "data": {
      "image/png": "[encoded data removed]",
      "text/plain": [
       "<matplotlib.figure.Figure at 0x2a042304358>"
      ]
     },
     "metadata": {},
     "output_type": "display_data"
    }
   ],
   "source": [
    "plt.figure(figsize=(15, 8))\n",
    "#n_c_mean.drop([('Liberia', pd.to_datetime('2014-12-31'))]).plot()\n",
    "deaths_mean.loc['Guinea'].plot()\n",
    "deaths_mean.loc['Liberia'].plot()\n",
    "deaths_mean.loc['Sierra Leone'].plot()\n",
    "plt.legend(['Guinea', 'Liberia', 'Sierra Leone'], loc='upper left')\n",
    "plt.ylabel(\"# of deaths\")\n",
    "plt.xlabel(\"Month\")\n",
    "plt.title('Deaths daily average, by country, by month')\n",
    "#plt.xlim((pd.to_datetime('2014-06-30'),pd.to_datetime('2015-01-31')))"
   ]
  },
  {
   "cell_type": "markdown",
   "metadata": {},
   "source": [
    "By seeing the drop of deaths in decembre for Liberia, we can imagine that there is an error in the exploding number of new cases for the same country"
   ]
  },
  {
   "cell_type": "code",
   "execution_count": 288,
   "metadata": {
    "collapsed": false
   },
   "outputs": [
    {
     "data": {
      "text/plain": [
       "country  date      \n",
       "Liberia  2014-11-30    26.466667\n",
       "         2014-12-31     5.000000\n",
       "Name: total_newcase, dtype: float64"
      ]
     },
     "execution_count": 288,
     "metadata": {},
     "output_type": "execute_result"
    }
   ],
   "source": [
    "lib_expect = n_c_mean.iloc[8:10,].copy()\n",
    "lib_expect[1] = 5\n",
    "lib_expect"
   ]
  },
  {
   "cell_type": "code",
   "execution_count": 297,
   "metadata": {
    "collapsed": false
   },
   "outputs": [
    {
     "data": {
      "image/png": "[encoded data removed]",
      "text/plain": [
       "<matplotlib.figure.Figure at 0x2a04058c908>"
      ]
     },
     "metadata": {},
     "output_type": "display_data"
    }
   ],
   "source": [
    "plt.figure(figsize=(15, 8))\n",
    "deaths_mean.loc['Guinea'].plot(color='blue', style='--')\n",
    "deaths_mean.loc['Liberia'].plot(color='green', style='--')\n",
    "deaths_mean.loc['Sierra Leone'].plot(color='red', style='--')\n",
    "n_c_mean.loc['Guinea'].plot(color='blue', style='-')\n",
    "n_c_mean.loc['Liberia'].drop(pd.to_datetime('2014-12-31')).plot(color='green')\n",
    "#n_c_mean.loc['Liberia'].iloc[-2:,].plot(color='black', style=':')\n",
    "lib_expect['Liberia'].plot(color='grey', style = ':')\n",
    "n_c_mean.loc['Sierra Leone'].plot(color='red')\n",
    "\n",
    "\n",
    "plt.legend(['Guinea (#deaths)', 'Liberia (#deaths)', 'Sierra Leone (#deaths)', \\\n",
    "            'Guinea', 'Liberia', 'Expected new cases for Liberia', 'Sierra Leone'], loc='upper left')\n",
    "plt.xlabel(\"Month\")\n",
    "plt.ylim(0,85)\n",
    "plt.title(\"Average daily new cases and deaths by month, for 3 African countries\")\n",
    "plt.grid(True)"
   ]
  },
  {
   "cell_type": "markdown",
   "metadata": {},
   "source": [
    "## Task 2. RNA Sequences\n",
    "\n",
    "In the `DATA_FOLDER/microbiome` subdirectory, there are 9 spreadsheets of microbiome data that was acquired from high-throughput RNA sequencing procedures, along with a 10<sup>th</sup> file that describes the content of each. \n",
    "\n",
    "Use pandas to import the first 9 spreadsheets into a single `DataFrame`.\n",
    "Then, add the metadata information from the 10<sup>th</sup> spreadsheet as columns in the combined `DataFrame`.\n",
    "Make sure that the final `DataFrame` has a unique index and all the `NaN` values have been replaced by the tag `unknown`."
   ]
  },
  {
   "cell_type": "markdown",
   "metadata": {},
   "source": [
    "Here, each xml file have a bacterie name and a value.The name of file is he same as the name in the metadata.xml \n",
    "\n",
    "To begin , we merge xml file with bacterie name for key, after we rename collumn with name in metadata. "
   ]
  },
  {
   "cell_type": "code",
   "execution_count": 307,
   "metadata": {
    "collapsed": false
   },
   "outputs": [
    {
     "data": {
      "text/html": [
       "<div>\n",
       "<table border=\"1\" class=\"dataframe\">\n",
       "  <thead>\n",
       "    <tr>\n",
       "      <th>SAMPLE</th>\n",
       "      <th>unknows</th>\n",
       "      <th colspan=\"4\" halign=\"left\">tissue</th>\n",
       "      <th colspan=\"4\" halign=\"left\">stool</th>\n",
       "    </tr>\n",
       "    <tr>\n",
       "      <th>GROUP</th>\n",
       "      <th>EXTRACTION CONTROL</th>\n",
       "      <th>NEC 1</th>\n",
       "      <th>Control 1</th>\n",
       "      <th>NEC 2</th>\n",
       "      <th>Control 2</th>\n",
       "      <th>NEC 1</th>\n",
       "      <th>Control 1</th>\n",
       "      <th>NEC 2</th>\n",
       "      <th>Control 2</th>\n",
       "    </tr>\n",
       "    <tr>\n",
       "      <th>BARCODE</th>\n",
       "      <th>MID1</th>\n",
       "      <th>MID2</th>\n",
       "      <th>MID3</th>\n",
       "      <th>MID4</th>\n",
       "      <th>MID5</th>\n",
       "      <th>MID6</th>\n",
       "      <th>MID7</th>\n",
       "      <th>MID8</th>\n",
       "      <th>MID9</th>\n",
       "    </tr>\n",
       "    <tr>\n",
       "      <th>name</th>\n",
       "      <th></th>\n",
       "      <th></th>\n",
       "      <th></th>\n",
       "      <th></th>\n",
       "      <th></th>\n",
       "      <th></th>\n",
       "      <th></th>\n",
       "      <th></th>\n",
       "      <th></th>\n",
       "    </tr>\n",
       "  </thead>\n",
       "  <tbody>\n",
       "    <tr>\n",
       "      <th>Archaea \"Crenarchaeota\" Thermoprotei Desulfurococcales Desulfurococcaceae Ignisphaera</th>\n",
       "      <td>7</td>\n",
       "      <td>23</td>\n",
       "      <td>14</td>\n",
       "      <td>2</td>\n",
       "      <td>28</td>\n",
       "      <td>7</td>\n",
       "      <td>8</td>\n",
       "      <td>unknows</td>\n",
       "      <td>16</td>\n",
       "    </tr>\n",
       "    <tr>\n",
       "      <th>Archaea \"Crenarchaeota\" Thermoprotei Desulfurococcales Pyrodictiaceae Pyrolobus</th>\n",
       "      <td>2</td>\n",
       "      <td>2</td>\n",
       "      <td>unknows</td>\n",
       "      <td>unknows</td>\n",
       "      <td>3</td>\n",
       "      <td>2</td>\n",
       "      <td>1</td>\n",
       "      <td>unknows</td>\n",
       "      <td>unknows</td>\n",
       "    </tr>\n",
       "    <tr>\n",
       "      <th>Archaea \"Crenarchaeota\" Thermoprotei Sulfolobales Sulfolobaceae Stygiolobus</th>\n",
       "      <td>3</td>\n",
       "      <td>10</td>\n",
       "      <td>4</td>\n",
       "      <td>unknows</td>\n",
       "      <td>14</td>\n",
       "      <td>5</td>\n",
       "      <td>5</td>\n",
       "      <td>1</td>\n",
       "      <td>6</td>\n",
       "    </tr>\n",
       "    <tr>\n",
       "      <th>Archaea \"Crenarchaeota\" Thermoprotei Thermoproteales Thermofilaceae Thermofilum</th>\n",
       "      <td>3</td>\n",
       "      <td>9</td>\n",
       "      <td>5</td>\n",
       "      <td>unknows</td>\n",
       "      <td>10</td>\n",
       "      <td>4</td>\n",
       "      <td>5</td>\n",
       "      <td>unknows</td>\n",
       "      <td>5</td>\n",
       "    </tr>\n",
       "    <tr>\n",
       "      <th>Archaea \"Euryarchaeota\" \"Methanomicrobia\" Methanocellales Methanocellaceae Methanocella</th>\n",
       "      <td>7</td>\n",
       "      <td>9</td>\n",
       "      <td>7</td>\n",
       "      <td>1</td>\n",
       "      <td>17</td>\n",
       "      <td>12</td>\n",
       "      <td>18</td>\n",
       "      <td>unknows</td>\n",
       "      <td>14</td>\n",
       "    </tr>\n",
       "  </tbody>\n",
       "</table>\n",
       "</div>"
      ],
      "text/plain": [
       "SAMPLE                                                        unknows tissue  \\\n",
       "GROUP                                              EXTRACTION CONTROL  NEC 1   \n",
       "BARCODE                                                          MID1   MID2   \n",
       "name                                                                           \n",
       "Archaea \"Crenarchaeota\" Thermoprotei Desulfuroc...                  7     23   \n",
       "Archaea \"Crenarchaeota\" Thermoprotei Desulfuroc...                  2      2   \n",
       "Archaea \"Crenarchaeota\" Thermoprotei Sulfolobal...                  3     10   \n",
       "Archaea \"Crenarchaeota\" Thermoprotei Thermoprot...                  3      9   \n",
       "Archaea \"Euryarchaeota\" \"Methanomicrobia\" Metha...                  7      9   \n",
       "\n",
       "SAMPLE                                                                 \\\n",
       "GROUP                                              Control 1    NEC 2   \n",
       "BARCODE                                                 MID3     MID4   \n",
       "name                                                                    \n",
       "Archaea \"Crenarchaeota\" Thermoprotei Desulfuroc...        14        2   \n",
       "Archaea \"Crenarchaeota\" Thermoprotei Desulfuroc...   unknows  unknows   \n",
       "Archaea \"Crenarchaeota\" Thermoprotei Sulfolobal...         4  unknows   \n",
       "Archaea \"Crenarchaeota\" Thermoprotei Thermoprot...         5  unknows   \n",
       "Archaea \"Euryarchaeota\" \"Methanomicrobia\" Metha...         7        1   \n",
       "\n",
       "SAMPLE                                                       stool            \\\n",
       "GROUP                                              Control 2 NEC 1 Control 1   \n",
       "BARCODE                                                 MID5  MID6      MID7   \n",
       "name                                                                           \n",
       "Archaea \"Crenarchaeota\" Thermoprotei Desulfuroc...        28     7         8   \n",
       "Archaea \"Crenarchaeota\" Thermoprotei Desulfuroc...         3     2         1   \n",
       "Archaea \"Crenarchaeota\" Thermoprotei Sulfolobal...        14     5         5   \n",
       "Archaea \"Crenarchaeota\" Thermoprotei Thermoprot...        10     4         5   \n",
       "Archaea \"Euryarchaeota\" \"Methanomicrobia\" Metha...        17    12        18   \n",
       "\n",
       "SAMPLE                                                                 \n",
       "GROUP                                                 NEC 2 Control 2  \n",
       "BARCODE                                                MID8      MID9  \n",
       "name                                                                   \n",
       "Archaea \"Crenarchaeota\" Thermoprotei Desulfuroc...  unknows        16  \n",
       "Archaea \"Crenarchaeota\" Thermoprotei Desulfuroc...  unknows   unknows  \n",
       "Archaea \"Crenarchaeota\" Thermoprotei Sulfolobal...        1         6  \n",
       "Archaea \"Crenarchaeota\" Thermoprotei Thermoprot...  unknows         5  \n",
       "Archaea \"Euryarchaeota\" \"Methanomicrobia\" Metha...  unknows        14  "
      ]
     },
     "execution_count": 307,
     "metadata": {},
     "output_type": "execute_result"
    }
   ],
   "source": [
    "import glob\n",
    "from os.path import basename\n",
    "import os \n",
    "\n",
    "data = pd.DataFrame(columns =['name']) \n",
    "\n",
    "# For each  MID files\n",
    "for excel in  glob.glob(DATA_FOLDER+\"microbiome/*.xls\"): \n",
    "    if \"meta\" not in excel : \n",
    "        #get name of file/name of collumn of data\n",
    "        mid =os.path.splitext(basename(excel))[0]\n",
    "        # read without header\n",
    "        subdata  = pd.read_excel(excel,header=None)\n",
    "        # rename data with mid name\n",
    "        subdata.columns = [\"name\",mid]\n",
    "        # Test if bacteril name is unique, for integirty \n",
    "        assert ( any(subdata['name'].duplicated()) == False)\n",
    "        # we merge the Dataframe with the name for common key, \"outer\" add the new bacterie\n",
    "        data = data.merge(subdata,on='name', how='outer')\n",
    "        # change na by unknowd\n",
    "        data.fillna(\"unknows\", inplace = True)\n",
    "        \n",
    "\n",
    "# set name to index, do no crash , name are unique thanks to assert\n",
    "data = data.set_index('name')\n",
    "# sort collumn name\n",
    "data = data[[cn for cn in  sorted(data.columns) ]]\n",
    "\n",
    "meta  = pd.read_excel((DATA_FOLDER+\"microbiome/metadata.xls\"))\n",
    "meta.fillna(\"unknows\", inplace = True)\n",
    "# rename collone with data form metadata\n",
    "data.columns = [i for i in reversed(meta.transpose().values.tolist())]\n",
    "# name colonum with data from metadata\n",
    "data.columns.names = [i for i in reversed(meta.transpose().index.values.tolist())]\n",
    "\n",
    "data.head()    "
   ]
  },
  {
   "cell_type": "markdown",
   "metadata": {},
   "source": [
    "## Task 3. Class War in Titanic\n",
    "\n",
    "Use pandas to import the data file `Data/titanic.xls`. It contains data on all the passengers that travelled on the Titanic."
   ]
  },
  {
   "cell_type": "code",
   "execution_count": 15,
   "metadata": {
    "collapsed": false
   },
   "outputs": [
    {
     "data": {
      "text/html": [
       "<hr><h2>Data frame:titanic3</h2>1309 observations and 14 variables, maximum # NAs:1188<hr>\n",
       "<TABLE BORDER>\n",
       "<tr><td>Name</td><td>Labels</td><td>Units</td><td>Levels</td><td>Storage</td><td>NAs</td></tr>\n",
       "<tr><td>pclass</td><td></td><td></td><td><a href=\"#pclass\"><div align=right>  3</div></a></td><td>integer</td><td><div align=right>   0</div></td></tr>\n",
       "<tr><td>survived</td><td>Survived</td><td></td><td><div align=right></div></td><td>double</td><td><div align=right>   0</div></td></tr>\n",
       "<tr><td>name</td><td>Name</td><td></td><td><div align=right></div></td><td>character</td><td><div align=right>   0</div></td></tr>\n",
       "<tr><td>sex</td><td></td><td></td><td><a href=\"#sex\"><div align=right>  2</div></a></td><td>integer</td><td><div align=right>   0</div></td></tr>\n",
       "<tr><td>age</td><td>Age</td><td>Year</td><td><div align=right></div></td><td>double</td><td><div align=right> 263</div></td></tr>\n",
       "<tr><td>sibsp</td><td>Number of Siblings/Spouses Aboard</td><td></td><td><div align=right></div></td><td>double</td><td><div align=right>   0</div></td></tr>\n",
       "<tr><td>parch</td><td>Number of Parents/Children Aboard</td><td></td><td><div align=right></div></td><td>double</td><td><div align=right>   0</div></td></tr>\n",
       "<tr><td>ticket</td><td>Ticket Number</td><td></td><td><div align=right></div></td><td>character</td><td><div align=right>   0</div></td></tr>\n",
       "<tr><td>fare</td><td>Passenger Fare</td><td>British Pound (\\243)</td><td><div align=right></div></td><td>double</td><td><div align=right>   1</div></td></tr>\n",
       "<tr><td>cabin</td><td></td><td></td><td><a href=\"#cabin\"><div align=right>187</div></a></td><td>integer</td><td><div align=right>   0</div></td></tr>\n",
       "<tr><td>embarked</td><td></td><td></td><td><a href=\"#embarked\"><div align=right>  3</div></a></td><td>integer</td><td><div align=right>   2</div></td></tr>\n",
       "<tr><td>boat</td><td></td><td></td><td><a href=\"#boat\"><div align=right> 28</div></a></td><td>integer</td><td><div align=right>   0</div></td></tr>\n",
       "<tr><td>body</td><td>Body Identification Number</td><td></td><td><div align=right></div></td><td>double</td><td><div align=right>1188</div></td></tr>\n",
       "<tr><td>home.dest</td><td>Home/Destination</td><td></td><td><div align=right></div></td><td>character</td><td><div align=right>   0</div></td></tr>\n",
       "</TABLE>\n",
       "<hr>\n",
       "<TABLE BORDER>\n",
       "<tr><td>Variable</td><td>Levels</td></tr>\n",
       "<tr><td><a name=\"pclass\">pclass</a></td><td>1st</td></tr>\n",
       "<tr><td></td><td>2nd</td></tr>\n",
       "<tr><td></td><td>3rd</td></tr>\n",
       "<tr><td><a name=\"sex\">sex</a></td><td>female</td></tr>\n",
       "<tr><td></td><td>male</td></tr>\n",
       "<tr><td><a name=\"cabin\">cabin</a></td><td></td></tr>\n",
       "<tr><td></td><td>A10</td></tr>\n",
       "<tr><td></td><td>A11</td></tr>\n",
       "<tr><td></td><td>A14</td></tr>\n",
       "<tr><td></td><td>A16</td></tr>\n",
       "<tr><td></td><td>A18</td></tr>\n",
       "<tr><td></td><td>A19</td></tr>\n",
       "<tr><td></td><td>A20</td></tr>\n",
       "<tr><td></td><td>A21</td></tr>\n",
       "<tr><td></td><td>A23</td></tr>\n",
       "<tr><td></td><td>A24</td></tr>\n",
       "<tr><td></td><td>A26</td></tr>\n",
       "<tr><td></td><td>A29</td></tr>\n",
       "<tr><td></td><td>A31</td></tr>\n",
       "<tr><td></td><td>A32</td></tr>\n",
       "<tr><td></td><td>A34</td></tr>\n",
       "<tr><td></td><td>A36</td></tr>\n",
       "<tr><td></td><td>A5</td></tr>\n",
       "<tr><td></td><td>A6</td></tr>\n",
       "<tr><td></td><td>A7</td></tr>\n",
       "<tr><td></td><td>A9</td></tr>\n",
       "<tr><td></td><td>B10</td></tr>\n",
       "<tr><td></td><td>B101</td></tr>\n",
       "<tr><td></td><td>B102</td></tr>\n",
       "<tr><td></td><td>B11</td></tr>\n",
       "<tr><td></td><td>B18</td></tr>\n",
       "<tr><td></td><td>B19</td></tr>\n",
       "<tr><td></td><td>B20</td></tr>\n",
       "<tr><td></td><td>B22</td></tr>\n",
       "<tr><td></td><td>B24</td></tr>\n",
       "<tr><td></td><td>B26</td></tr>\n",
       "<tr><td></td><td>B28</td></tr>\n",
       "<tr><td></td><td>B3</td></tr>\n",
       "<tr><td></td><td>B30</td></tr>\n",
       "<tr><td></td><td>B35</td></tr>\n",
       "<tr><td></td><td>B36</td></tr>\n",
       "<tr><td></td><td>B37</td></tr>\n",
       "<tr><td></td><td>B38</td></tr>\n",
       "<tr><td></td><td>B39</td></tr>\n",
       "<tr><td></td><td>B4</td></tr>\n",
       "<tr><td></td><td>B41</td></tr>\n",
       "<tr><td></td><td>B42</td></tr>\n",
       "<tr><td></td><td>B45</td></tr>\n",
       "<tr><td></td><td>B49</td></tr>\n",
       "<tr><td></td><td>B5</td></tr>\n",
       "<tr><td></td><td>B50</td></tr>\n",
       "<tr><td></td><td>B51 B53 B55</td></tr>\n",
       "<tr><td></td><td>B52 B54 B56</td></tr>\n",
       "<tr><td></td><td>B57 B59 B63 B66</td></tr>\n",
       "<tr><td></td><td>B58 B60</td></tr>\n",
       "<tr><td></td><td>B61</td></tr>\n",
       "<tr><td></td><td>B69</td></tr>\n",
       "<tr><td></td><td>B71</td></tr>\n",
       "<tr><td></td><td>B73</td></tr>\n",
       "<tr><td></td><td>B77</td></tr>\n",
       "<tr><td></td><td>B78</td></tr>\n",
       "<tr><td></td><td>B79</td></tr>\n",
       "<tr><td></td><td>B80</td></tr>\n",
       "<tr><td></td><td>B82 B84</td></tr>\n",
       "<tr><td></td><td>B86</td></tr>\n",
       "<tr><td></td><td>B94</td></tr>\n",
       "<tr><td></td><td>B96 B98</td></tr>\n",
       "<tr><td></td><td>C101</td></tr>\n",
       "<tr><td></td><td>C103</td></tr>\n",
       "<tr><td></td><td>C104</td></tr>\n",
       "<tr><td></td><td>C105</td></tr>\n",
       "<tr><td></td><td>C106</td></tr>\n",
       "<tr><td></td><td>C110</td></tr>\n",
       "<tr><td></td><td>C111</td></tr>\n",
       "<tr><td></td><td>C116</td></tr>\n",
       "<tr><td></td><td>C118</td></tr>\n",
       "<tr><td></td><td>C123</td></tr>\n",
       "<tr><td></td><td>C124</td></tr>\n",
       "<tr><td></td><td>C125</td></tr>\n",
       "<tr><td></td><td>C126</td></tr>\n",
       "<tr><td></td><td>C128</td></tr>\n",
       "<tr><td></td><td>C130</td></tr>\n",
       "<tr><td></td><td>C132</td></tr>\n",
       "<tr><td></td><td>C148</td></tr>\n",
       "<tr><td></td><td>C2</td></tr>\n",
       "<tr><td></td><td>C22 C26</td></tr>\n",
       "<tr><td></td><td>C23 C25 C27</td></tr>\n",
       "<tr><td></td><td>C28</td></tr>\n",
       "<tr><td></td><td>C30</td></tr>\n",
       "<tr><td></td><td>C31</td></tr>\n",
       "<tr><td></td><td>C32</td></tr>\n",
       "<tr><td></td><td>C39</td></tr>\n",
       "<tr><td></td><td>C45</td></tr>\n",
       "<tr><td></td><td>C46</td></tr>\n",
       "<tr><td></td><td>C47</td></tr>\n",
       "<tr><td></td><td>C49</td></tr>\n",
       "<tr><td></td><td>C50</td></tr>\n",
       "<tr><td></td><td>C51</td></tr>\n",
       "<tr><td></td><td>C52</td></tr>\n",
       "<tr><td></td><td>C53</td></tr>\n",
       "<tr><td></td><td>C54</td></tr>\n",
       "<tr><td></td><td>C55 C57</td></tr>\n",
       "<tr><td></td><td>C6</td></tr>\n",
       "<tr><td></td><td>C62 C64</td></tr>\n",
       "<tr><td></td><td>C65</td></tr>\n",
       "<tr><td></td><td>C68</td></tr>\n",
       "<tr><td></td><td>C7</td></tr>\n",
       "<tr><td></td><td>C70</td></tr>\n",
       "<tr><td></td><td>C78</td></tr>\n",
       "<tr><td></td><td>C80</td></tr>\n",
       "<tr><td></td><td>C82</td></tr>\n",
       "<tr><td></td><td>C83</td></tr>\n",
       "<tr><td></td><td>C85</td></tr>\n",
       "<tr><td></td><td>C86</td></tr>\n",
       "<tr><td></td><td>C87</td></tr>\n",
       "<tr><td></td><td>C89</td></tr>\n",
       "<tr><td></td><td>C90</td></tr>\n",
       "<tr><td></td><td>C91</td></tr>\n",
       "<tr><td></td><td>C92</td></tr>\n",
       "<tr><td></td><td>C93</td></tr>\n",
       "<tr><td></td><td>C95</td></tr>\n",
       "<tr><td></td><td>C97</td></tr>\n",
       "<tr><td></td><td>C99</td></tr>\n",
       "<tr><td></td><td>D</td></tr>\n",
       "<tr><td></td><td>D10 D12</td></tr>\n",
       "<tr><td></td><td>D11</td></tr>\n",
       "<tr><td></td><td>D15</td></tr>\n",
       "<tr><td></td><td>D17</td></tr>\n",
       "<tr><td></td><td>D19</td></tr>\n",
       "<tr><td></td><td>D20</td></tr>\n",
       "<tr><td></td><td>D21</td></tr>\n",
       "<tr><td></td><td>D22</td></tr>\n",
       "<tr><td></td><td>D26</td></tr>\n",
       "<tr><td></td><td>D28</td></tr>\n",
       "<tr><td></td><td>D30</td></tr>\n",
       "<tr><td></td><td>D33</td></tr>\n",
       "<tr><td></td><td>D34</td></tr>\n",
       "<tr><td></td><td>D35</td></tr>\n",
       "<tr><td></td><td>D36</td></tr>\n",
       "<tr><td></td><td>D37</td></tr>\n",
       "<tr><td></td><td>D38</td></tr>\n",
       "<tr><td></td><td>D40</td></tr>\n",
       "<tr><td></td><td>D43</td></tr>\n",
       "<tr><td></td><td>D45</td></tr>\n",
       "<tr><td></td><td>D46</td></tr>\n",
       "<tr><td></td><td>D47</td></tr>\n",
       "<tr><td></td><td>D48</td></tr>\n",
       "<tr><td></td><td>D49</td></tr>\n",
       "<tr><td></td><td>D50</td></tr>\n",
       "<tr><td></td><td>D56</td></tr>\n",
       "<tr><td></td><td>D6</td></tr>\n",
       "<tr><td></td><td>D7</td></tr>\n",
       "<tr><td></td><td>D9</td></tr>\n",
       "<tr><td></td><td>E10</td></tr>\n",
       "<tr><td></td><td>E101</td></tr>\n",
       "<tr><td></td><td>E12</td></tr>\n",
       "<tr><td></td><td>E121</td></tr>\n",
       "<tr><td></td><td>E17</td></tr>\n",
       "<tr><td></td><td>E24</td></tr>\n",
       "<tr><td></td><td>E25</td></tr>\n",
       "<tr><td></td><td>E31</td></tr>\n",
       "<tr><td></td><td>E33</td></tr>\n",
       "<tr><td></td><td>E34</td></tr>\n",
       "<tr><td></td><td>E36</td></tr>\n",
       "<tr><td></td><td>E38</td></tr>\n",
       "<tr><td></td><td>E39 E41</td></tr>\n",
       "<tr><td></td><td>E40</td></tr>\n",
       "<tr><td></td><td>E44</td></tr>\n",
       "<tr><td></td><td>E45</td></tr>\n",
       "<tr><td></td><td>E46</td></tr>\n",
       "<tr><td></td><td>E49</td></tr>\n",
       "<tr><td></td><td>E50</td></tr>\n",
       "<tr><td></td><td>E52</td></tr>\n",
       "<tr><td></td><td>E58</td></tr>\n",
       "<tr><td></td><td>E60</td></tr>\n",
       "<tr><td></td><td>E63</td></tr>\n",
       "<tr><td></td><td>E67</td></tr>\n",
       "<tr><td></td><td>E68</td></tr>\n",
       "<tr><td></td><td>E77</td></tr>\n",
       "<tr><td></td><td>E8</td></tr>\n",
       "<tr><td></td><td>F</td></tr>\n",
       "<tr><td></td><td>F E46</td></tr>\n",
       "<tr><td></td><td>F E57</td></tr>\n",
       "<tr><td></td><td>F E69</td></tr>\n",
       "<tr><td></td><td>F G63</td></tr>\n",
       "<tr><td></td><td>F G73</td></tr>\n",
       "<tr><td></td><td>F2</td></tr>\n",
       "<tr><td></td><td>F33</td></tr>\n",
       "<tr><td></td><td>F38</td></tr>\n",
       "<tr><td></td><td>F4</td></tr>\n",
       "<tr><td></td><td>G6</td></tr>\n",
       "<tr><td></td><td>T</td></tr>\n",
       "<tr><td><a name=\"embarked\">embarked</a></td><td>Cherbourg</td></tr>\n",
       "<tr><td></td><td>Queenstown</td></tr>\n",
       "<tr><td></td><td>Southampton</td></tr>\n",
       "<tr><td><a name=\"boat\">boat</a></td><td></td></tr>\n",
       "<tr><td></td><td>1</td></tr>\n",
       "<tr><td></td><td>10</td></tr>\n",
       "<tr><td></td><td>11</td></tr>\n",
       "<tr><td></td><td>12</td></tr>\n",
       "<tr><td></td><td>13</td></tr>\n",
       "<tr><td></td><td>13 15</td></tr>\n",
       "<tr><td></td><td>13 15 B</td></tr>\n",
       "<tr><td></td><td>14</td></tr>\n",
       "<tr><td></td><td>15</td></tr>\n",
       "<tr><td></td><td>15 16</td></tr>\n",
       "<tr><td></td><td>16</td></tr>\n",
       "<tr><td></td><td>2</td></tr>\n",
       "<tr><td></td><td>3</td></tr>\n",
       "<tr><td></td><td>4</td></tr>\n",
       "<tr><td></td><td>5</td></tr>\n",
       "<tr><td></td><td>5 7</td></tr>\n",
       "<tr><td></td><td>5 9</td></tr>\n",
       "<tr><td></td><td>6</td></tr>\n",
       "<tr><td></td><td>7</td></tr>\n",
       "<tr><td></td><td>8</td></tr>\n",
       "<tr><td></td><td>8 10</td></tr>\n",
       "<tr><td></td><td>9</td></tr>\n",
       "<tr><td></td><td>A</td></tr>\n",
       "<tr><td></td><td>B</td></tr>\n",
       "<tr><td></td><td>C</td></tr>\n",
       "<tr><td></td><td>C D</td></tr>\n",
       "<tr><td></td><td>D</td></tr>\n",
       "</TABLE>\n",
       "<hr>\n"
      ],
      "text/plain": [
       "<IPython.core.display.HTML object>"
      ]
     },
     "execution_count": 15,
     "metadata": {},
     "output_type": "execute_result"
    }
   ],
   "source": [
    "from IPython.core.display import HTML\n",
    "HTML(filename=DATA_FOLDER+'/titanic.html')"
   ]
  },
  {
   "cell_type": "markdown",
   "metadata": {},
   "source": [
    "For each of the following questions state clearly your assumptions and discuss your findings:\n",
    "1. Describe the *type* and the *value range* of each attribute. Indicate and transform the attributes that can be `Categorical`. \n",
    "2. Plot histograms for the *travel class*, *embarkation port*, *sex* and *age* attributes. For the latter one, use *discrete decade intervals*. \n",
    "3. Calculate the proportion of passengers by *cabin floor*. Present your results in a *pie chart*.\n",
    "4. For each *travel class*, calculate the proportion of the passengers that survived. Present your results in *pie charts*.\n",
    "5. Calculate the proportion of the passengers that survived by *travel class* and *sex*. Present your results in *a single histogram*.\n",
    "6. Create 2 equally populated *age categories* and calculate survival proportions by *age category*, *travel class* and *sex*. Present your results in a `DataFrame` with unique index."
   ]
  },
  {
   "cell_type": "markdown",
   "metadata": {},
   "source": [
    "1)\n",
    "====\n",
    "\n",
    "| Attribut       |   pclass |  suvived  |  name  |  sex        |  age     |  sibsp  |  parck  |  ticket     |  fare      |  cabin  |  embarked  |  boat    |  body   |  home.dest |     |\n",
    "| -------------- | -------- | --------- | ------ | ----------- | -------- | ------- | ------- | ----------- | ---------- | ------- | ---------- | -------- | ------- | ---------- | --- |\n",
    "| type           | integer  | Boolean   | string | Bolean      | interger | integer | integer | String      | float      | String  | Char       | Sttring  | integer | String     |     |\n",
    "| Value range    | 1/2/3    | 1/2       | text   | male/female | 0 to 100 | 0-3     | 0-4     | PC + number | 0 to 100.0 | text    | S-C-Q      | D ou 1-9 | >0      | city name  |     |\n",
    "| Categorisation | Yes      | Yes       | No    | Yes         | No       | No      | No      | No          | No         | No     | Yes        | No       | No      | No         |     |"
   ]
  },
  {
   "cell_type": "code",
   "execution_count": 16,
   "metadata": {
    "collapsed": true
   },
   "outputs": [],
   "source": [
    "# load data with categorization\n",
    "\n",
    "data  = pd.read_excel(DATA_FOLDER+\"titanic.xls\",dtype={'pclass':'category','survived':'category','sex':'category','embarked':'category'})\n"
   ]
  },
  {
   "cell_type": "markdown",
   "metadata": {},
   "source": [
    "2)\n",
    "===\n",
    "\n",
    "For each case we group by , and size element :"
   ]
  },
  {
   "cell_type": "code",
   "execution_count": 17,
   "metadata": {
    "collapsed": false
   },
   "outputs": [
    {
     "data": {
      "text/plain": [
       "<matplotlib.axes._subplots.AxesSubplot at 0x7f2ca48bb2e8>"
      ]
     },
     "execution_count": 17,
     "metadata": {},
     "output_type": "execute_result"
    },
    {
     "data": {
      "image/png": "[encoded data removed]",
      "text/plain": [
       "<matplotlib.figure.Figure at 0x7f2ca48bbd30>"
      ]
     },
     "metadata": {},
     "output_type": "display_data"
    }
   ],
   "source": [
    "data.groupby('pclass').size().plot(kind='bar')"
   ]
  },
  {
   "cell_type": "code",
   "execution_count": 18,
   "metadata": {
    "collapsed": false
   },
   "outputs": [
    {
     "data": {
      "text/plain": [
       "<matplotlib.axes._subplots.AxesSubplot at 0x7f2ca48775f8>"
      ]
     },
     "execution_count": 18,
     "metadata": {},
     "output_type": "execute_result"
    },
    {
     "data": {
      "image/png": "[encoded data removed]",
      "text/plain": [
       "<matplotlib.figure.Figure at 0x7f2ca48a76a0>"
      ]
     },
     "metadata": {},
     "output_type": "display_data"
    }
   ],
   "source": [
    "data.groupby('embarked').size().plot(kind='bar')"
   ]
  },
  {
   "cell_type": "code",
   "execution_count": 19,
   "metadata": {
    "collapsed": false
   },
   "outputs": [
    {
     "data": {
      "text/plain": [
       "<matplotlib.axes._subplots.AxesSubplot at 0x7f2ca4830fd0>"
      ]
     },
     "execution_count": 19,
     "metadata": {},
     "output_type": "execute_result"
    },
    {
     "data": {
      "image/png": "[encoded data removed]",
      "text/plain": [
       "<matplotlib.figure.Figure at 0x7f2ca48802e8>"
      ]
     },
     "metadata": {},
     "output_type": "display_data"
    }
   ],
   "source": [
    "data.groupby('sex').size().plot(kind='bar')"
   ]
  },
  {
   "cell_type": "markdown",
   "metadata": {},
   "source": [
    "here we separate age in decade interval wioth cut functions."
   ]
  },
  {
   "cell_type": "code",
   "execution_count": 20,
   "metadata": {
    "collapsed": false
   },
   "outputs": [
    {
     "data": {
      "text/plain": [
       "<matplotlib.axes._subplots.AxesSubplot at 0x7f2ca43156a0>"
      ]
     },
     "execution_count": 20,
     "metadata": {},
     "output_type": "execute_result"
    },
    {
     "data": {
      "image/png": "[encoded data removed]",
      "text/plain": [
       "<matplotlib.figure.Figure at 0x7f2ca4322470>"
      ]
     },
     "metadata": {},
     "output_type": "display_data"
    }
   ],
   "source": [
    "pd.cut(data['age'],bins  = 10 *np.arange(0,10)).value_counts().plot(kind='bar')\n"
   ]
  },
  {
   "cell_type": "markdown",
   "metadata": {},
   "source": [
    "3)\n",
    "===\n"
   ]
  },
  {
   "cell_type": "code",
   "execution_count": 21,
   "metadata": {
    "collapsed": false
   },
   "outputs": [
    {
     "name": "stdout",
     "output_type": "stream",
     "text": [
      "C    31.864407\n",
      "B    22.033898\n",
      "D    15.593220\n",
      "E    13.898305\n",
      "A     7.457627\n",
      "F     7.118644\n",
      "G     1.694915\n",
      "T     0.338983\n",
      "Name: cabin, dtype: float64\n"
     ]
    },
    {
     "data": {
      "text/plain": [
       "<matplotlib.axes._subplots.AxesSubplot at 0x7f2ca42ef0b8>"
      ]
     },
     "execution_count": 21,
     "metadata": {},
     "output_type": "execute_result"
    },
    {
     "data": {
      "image/png": "[encoded data removed]",
      "text/plain": [
       "<matplotlib.figure.Figure at 0x7f2ca42543c8>"
      ]
     },
     "metadata": {},
     "output_type": "display_data"
    }
   ],
   "source": [
    "cabine = data['cabin']\n",
    "# We remove pasenger without cabine and get first letter(levvel) \n",
    "cabinefloor = cabine[cabine.notnull()].str[0]\n",
    "# We calculate the proportion with value_count/sum\n",
    "proportion = cabinefloor.value_counts()/(cabinefloor.value_counts().sum())\n",
    "print(proportion*100)\n",
    "proportion.plot.pie()"
   ]
  },
  {
   "cell_type": "markdown",
   "metadata": {},
   "source": [
    "4)\n",
    "====\n",
    "\n",
    "Group by for get passenger by pclass , and calculation survival proportion"
   ]
  },
  {
   "cell_type": "code",
   "execution_count": 22,
   "metadata": {
    "collapsed": false
   },
   "outputs": [
    {
     "data": {
      "text/plain": [
       "<matplotlib.axes._subplots.AxesSubplot at 0x7f2ca41fb940>"
      ]
     },
     "execution_count": 22,
     "metadata": {},
     "output_type": "execute_result"
    },
    {
     "data": {
      "image/png": "[encoded data removed]",
      "text/plain": [
       "<matplotlib.figure.Figure at 0x7f2ca428cac8>"
      ]
     },
     "metadata": {},
     "output_type": "display_data"
    }
   ],
   "source": [
    "groupsuvived = data.groupby(\"pclass\").apply( lambda x : x['survived'].value_counts(sort=False)/(x['survived'].value_counts().sum())  ) \n",
    "groupsuvived = groupsuvived.transpose()\n",
    "#for i in range(1,4):\n",
    "    #print(groupsuvived[i])\n",
    "groupsuvived[1].plot.pie()\n",
    "\n"
   ]
  },
  {
   "cell_type": "code",
   "execution_count": 23,
   "metadata": {
    "collapsed": false
   },
   "outputs": [
    {
     "data": {
      "text/plain": [
       "<matplotlib.axes._subplots.AxesSubplot at 0x7f2ca4141d68>"
      ]
     },
     "execution_count": 23,
     "metadata": {},
     "output_type": "execute_result"
    },
    {
     "data": {
      "image/png": "[encoded data removed]",
      "text/plain": [
       "<matplotlib.figure.Figure at 0x7f2ca419c710>"
      ]
     },
     "metadata": {},
     "output_type": "display_data"
    }
   ],
   "source": [
    "groupsuvived[2].plot.pie()"
   ]
  },
  {
   "cell_type": "code",
   "execution_count": 16,
   "metadata": {
    "collapsed": false
   },
   "outputs": [
    {
     "data": {
      "text/plain": [
       "<matplotlib.axes._subplots.AxesSubplot at 0x7f2c13ef29e8>"
      ]
     },
     "execution_count": 16,
     "metadata": {},
     "output_type": "execute_result"
    },
    {
     "data": {
      "image/png": "[encoded data removed]",
      "text/plain": [
       "<matplotlib.figure.Figure at 0x7f2c13e80e80>"
      ]
     },
     "metadata": {},
     "output_type": "display_data"
    }
   ],
   "source": [
    "groupsuvived[3].plot.pie()"
   ]
  },
  {
   "cell_type": "markdown",
   "metadata": {},
   "source": [
    "5)\n",
    "===\n",
    "Idem ,groub by pclass and sex , and proportion calculation"
   ]
  },
  {
   "cell_type": "code",
   "execution_count": 17,
   "metadata": {
    "collapsed": false
   },
   "outputs": [
    {
     "data": {
      "text/html": [
       "<div>\n",
       "<style>\n",
       "    .dataframe thead tr:only-child th {\n",
       "        text-align: right;\n",
       "    }\n",
       "\n",
       "    .dataframe thead th {\n",
       "        text-align: left;\n",
       "    }\n",
       "\n",
       "    .dataframe tbody tr th {\n",
       "        vertical-align: top;\n",
       "    }\n",
       "</style>\n",
       "<table border=\"1\" class=\"dataframe\">\n",
       "  <thead>\n",
       "    <tr>\n",
       "      <th>pclass</th>\n",
       "      <th colspan=\"2\" halign=\"left\">1</th>\n",
       "      <th colspan=\"2\" halign=\"left\">2</th>\n",
       "      <th colspan=\"2\" halign=\"left\">3</th>\n",
       "    </tr>\n",
       "    <tr>\n",
       "      <th>sex</th>\n",
       "      <th>female</th>\n",
       "      <th>male</th>\n",
       "      <th>female</th>\n",
       "      <th>male</th>\n",
       "      <th>female</th>\n",
       "      <th>male</th>\n",
       "    </tr>\n",
       "    <tr>\n",
       "      <th>survived</th>\n",
       "      <th></th>\n",
       "      <th></th>\n",
       "      <th></th>\n",
       "      <th></th>\n",
       "      <th></th>\n",
       "      <th></th>\n",
       "    </tr>\n",
       "  </thead>\n",
       "  <tbody>\n",
       "    <tr>\n",
       "      <th>1</th>\n",
       "      <td>0.965278</td>\n",
       "      <td>0.340782</td>\n",
       "      <td>0.886792</td>\n",
       "      <td>0.146199</td>\n",
       "      <td>0.490741</td>\n",
       "      <td>0.15213</td>\n",
       "    </tr>\n",
       "  </tbody>\n",
       "</table>\n",
       "</div>"
      ],
      "text/plain": [
       "pclass           1                   2                   3         \n",
       "sex         female      male    female      male    female     male\n",
       "survived                                                           \n",
       "1         0.965278  0.340782  0.886792  0.146199  0.490741  0.15213"
      ]
     },
     "execution_count": 17,
     "metadata": {},
     "output_type": "execute_result"
    }
   ],
   "source": [
    "gbsexclass = data.groupby([\"pclass\",\"sex\"])\n",
    "gbsexclass = gbsexclass.apply( lambda x : x['survived'].value_counts(sort=False)/(x['survived'].value_counts().sum())  )\n",
    "gbsexclass = gbsexclass.transpose()\n",
    "gbsexclass = gbsexclass.drop(0)\n",
    "gbsexclass"
   ]
  },
  {
   "cell_type": "code",
   "execution_count": 18,
   "metadata": {
    "collapsed": false
   },
   "outputs": [
    {
     "data": {
      "text/plain": [
       "<matplotlib.axes._subplots.AxesSubplot at 0x7f2c13e52978>"
      ]
     },
     "execution_count": 18,
     "metadata": {},
     "output_type": "execute_result"
    },
    {
     "data": {
      "image/png": "[encoded data removed]",
      "text/plain": [
       "<matplotlib.figure.Figure at 0x7f2c13e78978>"
      ]
     },
     "metadata": {},
     "output_type": "display_data"
    }
   ],
   "source": [
    "gbsexclass.plot(kind=\"bar\")"
   ]
  },
  {
   "cell_type": "markdown",
   "metadata": {},
   "source": [
    "6)\n",
    "===\n",
    "Idem , but we use decade interval"
   ]
  },
  {
   "cell_type": "code",
   "execution_count": 19,
   "metadata": {
    "collapsed": false
   },
   "outputs": [
    {
     "data": {
      "text/html": [
       "<div>\n",
       "<style>\n",
       "    .dataframe thead tr:only-child th {\n",
       "        text-align: right;\n",
       "    }\n",
       "\n",
       "    .dataframe thead th {\n",
       "        text-align: left;\n",
       "    }\n",
       "\n",
       "    .dataframe tbody tr th {\n",
       "        vertical-align: top;\n",
       "    }\n",
       "</style>\n",
       "<table border=\"1\" class=\"dataframe\">\n",
       "  <thead>\n",
       "    <tr style=\"text-align: right;\">\n",
       "      <th></th>\n",
       "      <th></th>\n",
       "      <th>survived</th>\n",
       "      <th>0</th>\n",
       "      <th>1</th>\n",
       "    </tr>\n",
       "    <tr>\n",
       "      <th>pclass</th>\n",
       "      <th>sex</th>\n",
       "      <th>age_cat</th>\n",
       "      <th></th>\n",
       "      <th></th>\n",
       "    </tr>\n",
       "  </thead>\n",
       "  <tbody>\n",
       "    <tr>\n",
       "      <th rowspan=\"4\" valign=\"top\">1</th>\n",
       "      <th rowspan=\"2\" valign=\"top\">female</th>\n",
       "      <th>(0.0869, 40.083]</th>\n",
       "      <td>0.036145</td>\n",
       "      <td>0.963855</td>\n",
       "    </tr>\n",
       "    <tr>\n",
       "      <th>(40.083, 80.0]</th>\n",
       "      <td>0.040000</td>\n",
       "      <td>0.960000</td>\n",
       "    </tr>\n",
       "    <tr>\n",
       "      <th rowspan=\"2\" valign=\"top\">male</th>\n",
       "      <th>(0.0869, 40.083]</th>\n",
       "      <td>0.555556</td>\n",
       "      <td>0.444444</td>\n",
       "    </tr>\n",
       "    <tr>\n",
       "      <th>(40.083, 80.0]</th>\n",
       "      <td>0.734177</td>\n",
       "      <td>0.265823</td>\n",
       "    </tr>\n",
       "    <tr>\n",
       "      <th rowspan=\"4\" valign=\"top\">2</th>\n",
       "      <th rowspan=\"2\" valign=\"top\">female</th>\n",
       "      <th>(0.0869, 40.083]</th>\n",
       "      <td>0.091954</td>\n",
       "      <td>0.908046</td>\n",
       "    </tr>\n",
       "    <tr>\n",
       "      <th>(40.083, 80.0]</th>\n",
       "      <td>0.187500</td>\n",
       "      <td>0.812500</td>\n",
       "    </tr>\n",
       "    <tr>\n",
       "      <th rowspan=\"2\" valign=\"top\">male</th>\n",
       "      <th>(0.0869, 40.083]</th>\n",
       "      <td>0.830645</td>\n",
       "      <td>0.169355</td>\n",
       "    </tr>\n",
       "    <tr>\n",
       "      <th>(40.083, 80.0]</th>\n",
       "      <td>0.941176</td>\n",
       "      <td>0.058824</td>\n",
       "    </tr>\n",
       "    <tr>\n",
       "      <th rowspan=\"4\" valign=\"top\">3</th>\n",
       "      <th rowspan=\"2\" valign=\"top\">female</th>\n",
       "      <th>(0.0869, 40.083]</th>\n",
       "      <td>0.514286</td>\n",
       "      <td>0.485714</td>\n",
       "    </tr>\n",
       "    <tr>\n",
       "      <th>(40.083, 80.0]</th>\n",
       "      <td>0.666667</td>\n",
       "      <td>0.333333</td>\n",
       "    </tr>\n",
       "    <tr>\n",
       "      <th rowspan=\"2\" valign=\"top\">male</th>\n",
       "      <th>(0.0869, 40.083]</th>\n",
       "      <td>0.817891</td>\n",
       "      <td>0.182109</td>\n",
       "    </tr>\n",
       "    <tr>\n",
       "      <th>(40.083, 80.0]</th>\n",
       "      <td>0.944444</td>\n",
       "      <td>0.055556</td>\n",
       "    </tr>\n",
       "  </tbody>\n",
       "</table>\n",
       "</div>"
      ],
      "text/plain": [
       "survived                               0         1\n",
       "pclass sex    age_cat                             \n",
       "1      female (0.0869, 40.083]  0.036145  0.963855\n",
       "              (40.083, 80.0]    0.040000  0.960000\n",
       "       male   (0.0869, 40.083]  0.555556  0.444444\n",
       "              (40.083, 80.0]    0.734177  0.265823\n",
       "2      female (0.0869, 40.083]  0.091954  0.908046\n",
       "              (40.083, 80.0]    0.187500  0.812500\n",
       "       male   (0.0869, 40.083]  0.830645  0.169355\n",
       "              (40.083, 80.0]    0.941176  0.058824\n",
       "3      female (0.0869, 40.083]  0.514286  0.485714\n",
       "              (40.083, 80.0]    0.666667  0.333333\n",
       "       male   (0.0869, 40.083]  0.817891  0.182109\n",
       "              (40.083, 80.0]    0.944444  0.055556"
      ]
     },
     "execution_count": 19,
     "metadata": {},
     "output_type": "execute_result"
    }
   ],
   "source": [
    "datawithcat =  data\n",
    "datawithcat['age_cat'] =  pd.cut(data['age'],2)\n",
    "datawithcat = data.groupby([\"pclass\",\"sex\",\"age_cat\"]).apply( lambda x : x['survived'].value_counts(sort=False)/(x['survived'].value_counts().sum())  )\n",
    "datawithcat"
   ]
  },
  {
   "cell_type": "code",
   "execution_count": 26,
   "metadata": {
    "collapsed": false
   },
   "outputs": [
    {
     "data": {
      "text/plain": [
       "<matplotlib.axes._subplots.AxesSubplot at 0x7f2c13a166d8>"
      ]
     },
     "execution_count": 26,
     "metadata": {},
     "output_type": "execute_result"
    },
    {
     "data": {
      "image/png": "[encoded data removed]",
      "text/plain": [
       "<matplotlib.figure.Figure at 0x7f2c13ac6cc0>"
      ]
     },
     "metadata": {},
     "output_type": "display_data"
    }
   ],
   "source": [
    "datawithcat.transpose().drop(0).plot(kind='bar')"
   ]
  },
  {
   "cell_type": "code",
   "execution_count": null,
   "metadata": {
    "collapsed": true
   },
   "outputs": [],
   "source": []
  }
 ],
 "metadata": {
  "kernelspec": {
   "display_name": "Python 3",
   "language": "python",
   "name": "python3"
  },
  "language_info": {
   "codemirror_mode": {
    "name": "ipython",
    "version": 3
   },
   "file_extension": ".py",
   "mimetype": "text/x-python",
   "name": "python",
   "nbconvert_exporter": "python",
   "pygments_lexer": "ipython3",
   "version": "3.5.4"
  }
 },
 "nbformat": 4,
 "nbformat_minor": 2
}
