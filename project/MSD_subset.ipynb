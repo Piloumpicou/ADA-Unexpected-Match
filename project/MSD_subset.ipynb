{
 "cells": [
  {
   "cell_type": "markdown",
   "metadata": {},
   "source": [
    "# ADA Project: 2018's Best hit Recipe 🎙🎵"
   ]
  },
  {
   "cell_type": "code",
   "execution_count": 1,
   "metadata": {
    "collapsed": true
   },
   "outputs": [],
   "source": [
    "import numpy as np\n",
    "import pandas as pd\n",
    "\n",
    "import seaborn\n",
    "import matplotlib.pyplot as plt\n",
    "%matplotlib inline\n",
    "\n",
    "import os\n",
    "import glob\n",
    "import time\n",
    "import csv\n",
    "\n",
    "import h5py\n",
    "import hdf5_getters\n",
    "from hdf5_getters import *\n",
    "\n",
    "from operator import methodcaller"
   ]
  },
  {
   "cell_type": "code",
   "execution_count": null,
   "metadata": {
    "collapsed": true
   },
   "outputs": [],
   "source": []
  },
  {
   "cell_type": "code",
   "execution_count": 28,
   "metadata": {
    "collapsed": true
   },
   "outputs": [],
   "source": [
    "def count_all_files(base_directory, ext='.h5') :\n",
    "    cnt = 0\n",
    "    for root, dirs, files in os.walk(base_directory):\n",
    "        files = glob.glob(os.path.join(root,'*'+ext))\n",
    "        cnt += len(files)\n",
    "    return cnt"
   ]
  },
  {
   "cell_type": "code",
   "execution_count": 29,
   "metadata": {
    "collapsed": true
   },
   "outputs": [],
   "source": [
    "def get_all(getter, base_directory, ext='.h5'):\n",
    "    values = []\n",
    "    for root, dirs, files in os.walk(base_directory):\n",
    "        files = glob.glob(os.path.join(root,'*'+ext))\n",
    "        for f in files:\n",
    "            h5 = hdf5_getters.open_h5_file_read(f)\n",
    "            values.append( getter(h5) )\n",
    "            h5.close()\n",
    "    return values"
   ]
  },
  {
   "cell_type": "code",
   "execution_count": 30,
   "metadata": {
    "collapsed": true
   },
   "outputs": [],
   "source": [
    "def get_file_fields(file, all_getters):\n",
    "    fields = []\n",
    "    for getter_name in all_getters:\n",
    "        getter = getattr(hdf5_getters, getter_name)\n",
    "        fields.append(getter(h5))\n",
    "    return fields"
   ]
  },
  {
   "cell_type": "code",
   "execution_count": null,
   "metadata": {
    "collapsed": true
   },
   "outputs": [],
   "source": []
  },
  {
   "cell_type": "code",
   "execution_count": 2,
   "metadata": {
    "collapsed": true
   },
   "outputs": [],
   "source": [
    "base_directory = './millionsongsubset_full/MillionSongSubset/data'"
   ]
  },
  {
   "cell_type": "code",
   "execution_count": 32,
   "metadata": {},
   "outputs": [
    {
     "name": "stdout",
     "output_type": "stream",
     "text": [
      "Number of songs: 10000\n"
     ]
    }
   ],
   "source": [
    "print('Number of songs:', count_all_files(base_directory))"
   ]
  },
  {
   "cell_type": "code",
   "execution_count": 3,
   "metadata": {},
   "outputs": [
    {
     "name": "stdout",
     "output_type": "stream",
     "text": [
      "['get_num_songs', 'get_artist_familiarity', 'get_artist_hotttnesss', 'get_artist_id', 'get_artist_mbid', 'get_artist_playmeid', 'get_artist_7digitalid', 'get_artist_latitude', 'get_artist_longitude', 'get_artist_location', 'get_artist_name', 'get_release', 'get_release_7digitalid', 'get_song_id', 'get_song_hotttnesss', 'get_title', 'get_track_7digitalid', 'get_similar_artists', 'get_artist_terms', 'get_artist_terms_freq', 'get_artist_terms_weight', 'get_analysis_sample_rate', 'get_audio_md5', 'get_danceability', 'get_duration', 'get_end_of_fade_in', 'get_energy', 'get_key', 'get_key_confidence', 'get_loudness', 'get_mode', 'get_mode_confidence', 'get_start_of_fade_out', 'get_tempo', 'get_time_signature', 'get_time_signature_confidence', 'get_track_id', 'get_segments_start', 'get_segments_confidence', 'get_segments_pitches', 'get_segments_timbre', 'get_segments_loudness_max', 'get_segments_loudness_max_time', 'get_segments_loudness_start', 'get_sections_start', 'get_sections_confidence', 'get_beats_start', 'get_beats_confidence', 'get_bars_start', 'get_bars_confidence', 'get_tatums_start', 'get_tatums_confidence', 'get_artist_mbtags', 'get_artist_mbtags_count', 'get_year']\n",
      "Number of getters: 55\n"
     ]
    }
   ],
   "source": [
    "all_getters = list(filter(lambda x: x[:3] == 'get',hdf5_getters.__dict__.keys()))\n",
    "print(all_getters)\n",
    "print('Number of getters:', len(all_getters))"
   ]
  },
  {
   "cell_type": "code",
   "execution_count": null,
   "metadata": {
    "collapsed": true
   },
   "outputs": [],
   "source": []
  },
  {
   "cell_type": "code",
   "execution_count": null,
   "metadata": {
    "collapsed": true
   },
   "outputs": [],
   "source": []
  },
  {
   "cell_type": "markdown",
   "metadata": {},
   "source": [
    "#### Building the dataframe (only subset)\n",
    "\n",
    "*note: skip this section if the dataframe has  already been saved to .csv*"
   ]
  },
  {
   "cell_type": "code",
   "execution_count": 34,
   "metadata": {},
   "outputs": [
    {
     "name": "stdout",
     "output_type": "stream",
     "text": [
      "--- Execution time: 610.5978236198425 seconds ---\n"
     ]
    }
   ],
   "source": [
    "#iterate over all the .h5 files, starting from the base directory\n",
    "#note: takes between ~8 to ~10 minutes\n",
    "start_time = time.time()\n",
    "\n",
    "values = []\n",
    "ext = '.h5'\n",
    "\n",
    "for root, dirs, files in os.walk(base_directory):\n",
    "    files = glob.glob(os.path.join(root, '*'+ext))\n",
    "    for f in files:\n",
    "        h5 = hdf5_getters.open_h5_file_read(f)\n",
    "        values.append(get_file_fields(h5, all_getters))\n",
    "        h5.close()        \n",
    "\n",
    "print(\"--- Execution time: %s seconds ---\" % (time.time() - start_time))"
   ]
  },
  {
   "cell_type": "code",
   "execution_count": 35,
   "metadata": {
    "collapsed": true
   },
   "outputs": [],
   "source": [
    "#create the column names from the getter names\n",
    "#strip the name of 'get_'\n",
    "column_names = [name[4:].replace('_', ' ') for name in all_getters]\n",
    "#column_names = []\n",
    "#for getter_name in all_getters:\n",
    "#    column_names.append(getter_name[4:].replace('_', ' '))"
   ]
  },
  {
   "cell_type": "code",
   "execution_count": 36,
   "metadata": {},
   "outputs": [
    {
     "name": "stdout",
     "output_type": "stream",
     "text": [
      "--- Execution time: 0.01060795783996582 seconds ---\n"
     ]
    },
    {
     "data": {
      "text/html": [
       "<div>\n",
       "<style>\n",
       "    .dataframe thead tr:only-child th {\n",
       "        text-align: right;\n",
       "    }\n",
       "\n",
       "    .dataframe thead th {\n",
       "        text-align: left;\n",
       "    }\n",
       "\n",
       "    .dataframe tbody tr th {\n",
       "        vertical-align: top;\n",
       "    }\n",
       "</style>\n",
       "<table border=\"1\" class=\"dataframe\">\n",
       "  <thead>\n",
       "    <tr style=\"text-align: right;\">\n",
       "      <th></th>\n",
       "      <th>num songs</th>\n",
       "      <th>artist familiarity</th>\n",
       "      <th>artist hotttnesss</th>\n",
       "      <th>artist id</th>\n",
       "      <th>artist mbid</th>\n",
       "      <th>artist playmeid</th>\n",
       "      <th>artist 7digitalid</th>\n",
       "      <th>artist latitude</th>\n",
       "      <th>artist longitude</th>\n",
       "      <th>artist location</th>\n",
       "      <th>...</th>\n",
       "      <th>sections confidence</th>\n",
       "      <th>beats start</th>\n",
       "      <th>beats confidence</th>\n",
       "      <th>bars start</th>\n",
       "      <th>bars confidence</th>\n",
       "      <th>tatums start</th>\n",
       "      <th>tatums confidence</th>\n",
       "      <th>artist mbtags</th>\n",
       "      <th>artist mbtags count</th>\n",
       "      <th>year</th>\n",
       "    </tr>\n",
       "  </thead>\n",
       "  <tbody>\n",
       "  </tbody>\n",
       "</table>\n",
       "<p>0 rows × 55 columns</p>\n",
       "</div>"
      ],
      "text/plain": [
       "Empty DataFrame\n",
       "Columns: [num songs, artist familiarity, artist hotttnesss, artist id, artist mbid, artist playmeid, artist 7digitalid, artist latitude, artist longitude, artist location, artist name, release, release 7digitalid, song id, song hotttnesss, title, track 7digitalid, similar artists, artist terms, artist terms freq, artist terms weight, analysis sample rate, audio md5, danceability, duration, end of fade in, energy, key, key confidence, loudness, mode, mode confidence, start of fade out, tempo, time signature, time signature confidence, track id, segments start, segments confidence, segments pitches, segments timbre, segments loudness max, segments loudness max time, segments loudness start, sections start, sections confidence, beats start, beats confidence, bars start, bars confidence, tatums start, tatums confidence, artist mbtags, artist mbtags count, year]\n",
       "Index: []\n",
       "\n",
       "[0 rows x 55 columns]"
      ]
     },
     "execution_count": 36,
     "metadata": {},
     "output_type": "execute_result"
    }
   ],
   "source": [
    "#create a dataframe with the given column names\n",
    "data = pd.DataFrame(columns=column_names)\n",
    "data.head()"
   ]
  },
  {
   "cell_type": "code",
   "execution_count": 37,
   "metadata": {
    "collapsed": true
   },
   "outputs": [],
   "source": [
    "#fill the dataframe row by row\n",
    "start_time = time.time()\n",
    "nb_entries = len(values)\n",
    "for i in range(0, nb_entries):\n",
    "    data.loc[i] = values[i]\n",
    "print(\"--- Execution time: %s seconds ---\" % (time.time() - start_time))"
   ]
  },
  {
   "cell_type": "code",
   "execution_count": 38,
   "metadata": {},
   "outputs": [
    {
     "data": {
      "text/html": [
       "<div>\n",
       "<style>\n",
       "    .dataframe thead tr:only-child th {\n",
       "        text-align: right;\n",
       "    }\n",
       "\n",
       "    .dataframe thead th {\n",
       "        text-align: left;\n",
       "    }\n",
       "\n",
       "    .dataframe tbody tr th {\n",
       "        vertical-align: top;\n",
       "    }\n",
       "</style>\n",
       "<table border=\"1\" class=\"dataframe\">\n",
       "  <thead>\n",
       "    <tr style=\"text-align: right;\">\n",
       "      <th></th>\n",
       "      <th>num songs</th>\n",
       "      <th>artist familiarity</th>\n",
       "      <th>artist hotttnesss</th>\n",
       "      <th>artist id</th>\n",
       "      <th>artist mbid</th>\n",
       "      <th>artist playmeid</th>\n",
       "      <th>artist 7digitalid</th>\n",
       "      <th>artist latitude</th>\n",
       "      <th>artist longitude</th>\n",
       "      <th>artist location</th>\n",
       "      <th>...</th>\n",
       "      <th>sections confidence</th>\n",
       "      <th>beats start</th>\n",
       "      <th>beats confidence</th>\n",
       "      <th>bars start</th>\n",
       "      <th>bars confidence</th>\n",
       "      <th>tatums start</th>\n",
       "      <th>tatums confidence</th>\n",
       "      <th>artist mbtags</th>\n",
       "      <th>artist mbtags count</th>\n",
       "      <th>year</th>\n",
       "    </tr>\n",
       "  </thead>\n",
       "  <tbody>\n",
       "    <tr>\n",
       "      <th>0</th>\n",
       "      <td>1</td>\n",
       "      <td>0.581794</td>\n",
       "      <td>0.401998</td>\n",
       "      <td>b'ARD7TVE1187B99BFB1'</td>\n",
       "      <td>b'e77e51a5-4761-45b3-9847-2051f811e366'</td>\n",
       "      <td>4479</td>\n",
       "      <td>165270</td>\n",
       "      <td>NaN</td>\n",
       "      <td>NaN</td>\n",
       "      <td>b'California - LA'</td>\n",
       "      <td>...</td>\n",
       "      <td>[1.0, 1.0, 0.218, 0.133, 0.384, 0.326, 0.373, ...</td>\n",
       "      <td>[0.58521, 1.19196, 1.78893, 2.37813, 2.94247, ...</td>\n",
       "      <td>[0.834, 0.851, 0.65, 0.635, 0.532, 0.753, 0.62...</td>\n",
       "      <td>[0.58521, 2.94247, 5.14371, 7.74554, 10.36149,...</td>\n",
       "      <td>[0.643, 0.746, 0.722, 0.095, 0.091, 0.362, 0.4...</td>\n",
       "      <td>[0.28519, 0.58521, 0.89422, 1.19196, 1.49119, ...</td>\n",
       "      <td>[0.779, 0.734, 0.674, 0.637, 0.597, 0.532, 0.4...</td>\n",
       "      <td>[]</td>\n",
       "      <td>[]</td>\n",
       "      <td>0</td>\n",
       "    </tr>\n",
       "    <tr>\n",
       "      <th>1</th>\n",
       "      <td>1</td>\n",
       "      <td>0.630630</td>\n",
       "      <td>0.417500</td>\n",
       "      <td>b'ARMJAGH1187FB546F3'</td>\n",
       "      <td>b'1c78ab62-db33-4433-8d0b-7c8dcf1849c2'</td>\n",
       "      <td>22066</td>\n",
       "      <td>1998</td>\n",
       "      <td>35.14968</td>\n",
       "      <td>-90.04892</td>\n",
       "      <td>b'Memphis, TN'</td>\n",
       "      <td>...</td>\n",
       "      <td>[1.0, 0.451, 0.27, 0.397, 0.225, 0.426, 0.459,...</td>\n",
       "      <td>[0.20627, 0.71054, 1.21836, 1.71841, 2.21729, ...</td>\n",
       "      <td>[1.0, 0.945, 0.714, 0.973, 0.818, 0.974, 0.878...</td>\n",
       "      <td>[0.71054, 2.71502, 4.70861, 6.69288, 8.66941, ...</td>\n",
       "      <td>[0.007, 0.259, 0.172, 0.404, 0.011, 0.016, 0.0...</td>\n",
       "      <td>[0.20627, 0.45904, 0.71054, 0.96834, 1.21836, ...</td>\n",
       "      <td>[0.969, 0.929, 0.897, 0.871, 0.856, 0.845, 0.8...</td>\n",
       "      <td>[b'classic pop and rock']</td>\n",
       "      <td>[1]</td>\n",
       "      <td>1969</td>\n",
       "    </tr>\n",
       "    <tr>\n",
       "      <th>2</th>\n",
       "      <td>1</td>\n",
       "      <td>0.487357</td>\n",
       "      <td>0.343428</td>\n",
       "      <td>b'ARKRRTF1187B9984DA'</td>\n",
       "      <td>b'7a273984-edd9-4451-9c4d-39b38f05ebcd'</td>\n",
       "      <td>13951</td>\n",
       "      <td>290021</td>\n",
       "      <td>NaN</td>\n",
       "      <td>NaN</td>\n",
       "      <td>b''</td>\n",
       "      <td>...</td>\n",
       "      <td>[1.0, 0.121, 0.214, 0.198, 0.66, 0.468, 0.591,...</td>\n",
       "      <td>[0.73152, 1.39732, 2.04852, 2.68691, 3.315, 3....</td>\n",
       "      <td>[0.98, 0.399, 0.185, 0.27, 0.422, 0.0, 0.445, ...</td>\n",
       "      <td>[0.73152, 1.39732, 2.04852, 2.68691, 3.315, 3....</td>\n",
       "      <td>[0.98, 0.399, 0.185, 0.27, 0.422, 0.0, 0.445, ...</td>\n",
       "      <td>[0.42132, 0.73152, 1.06609, 1.39732, 1.72854, ...</td>\n",
       "      <td>[0.482, 0.676, 0.627, 0.549, 0.279, 0.264, 0.2...</td>\n",
       "      <td>[]</td>\n",
       "      <td>[]</td>\n",
       "      <td>0</td>\n",
       "    </tr>\n",
       "    <tr>\n",
       "      <th>3</th>\n",
       "      <td>1</td>\n",
       "      <td>0.630382</td>\n",
       "      <td>0.454231</td>\n",
       "      <td>b'AR7G5I41187FB4CE6C'</td>\n",
       "      <td>b'e188a520-9cb7-4f73-a3d7-2f70c6538e92'</td>\n",
       "      <td>12697</td>\n",
       "      <td>19072</td>\n",
       "      <td>NaN</td>\n",
       "      <td>NaN</td>\n",
       "      <td>b'London, England'</td>\n",
       "      <td>...</td>\n",
       "      <td>[1.0, 0.086, 0.153, 0.146, 0.088, 0.217, 0.372...</td>\n",
       "      <td>[0.81002, 1.30621, 1.80617, 2.2996, 2.80049, 3...</td>\n",
       "      <td>[0.809, 0.616, 0.789, 0.66, 0.439, 0.758, 0.60...</td>\n",
       "      <td>[1.30621, 3.29887, 5.30252, 7.32327, 9.33775, ...</td>\n",
       "      <td>[0.017, 0.05, 0.014, 0.008, 0.114, 0.019, 0.08...</td>\n",
       "      <td>[0.56254, 0.81002, 1.05749, 1.30621, 1.55494, ...</td>\n",
       "      <td>[0.601, 0.556, 0.523, 0.49, 0.466, 0.44, 0.428...</td>\n",
       "      <td>[b'uk', b'british', b'english']</td>\n",
       "      <td>[1, 1, 1]</td>\n",
       "      <td>1982</td>\n",
       "    </tr>\n",
       "    <tr>\n",
       "      <th>4</th>\n",
       "      <td>1</td>\n",
       "      <td>0.651046</td>\n",
       "      <td>0.401724</td>\n",
       "      <td>b'ARXR32B1187FB57099'</td>\n",
       "      <td>b'c6903a2e-063c-4f91-a284-17b8f421be7b'</td>\n",
       "      <td>8355</td>\n",
       "      <td>30973</td>\n",
       "      <td>NaN</td>\n",
       "      <td>NaN</td>\n",
       "      <td>b''</td>\n",
       "      <td>...</td>\n",
       "      <td>[1.0, 0.768, 0.611, 0.388, 0.52, 0.42, 0.499, ...</td>\n",
       "      <td>[0.13576, 0.59914, 1.06368, 1.52591, 1.99045, ...</td>\n",
       "      <td>[0.883, 0.738, 0.484, 0.609, 0.625, 0.719, 0.4...</td>\n",
       "      <td>[1.06368, 2.91491, 4.76729, 6.61852, 8.46978, ...</td>\n",
       "      <td>[0.175, 0.409, 0.639, 0.067, 0.016, 0.066, 0.0...</td>\n",
       "      <td>[0.13576, 0.36918, 0.59914, 0.83141, 1.06368, ...</td>\n",
       "      <td>[1.0, 0.98, 0.932, 0.87, 0.82, 0.793, 0.768, 0...</td>\n",
       "      <td>[]</td>\n",
       "      <td>[]</td>\n",
       "      <td>2007</td>\n",
       "    </tr>\n",
       "  </tbody>\n",
       "</table>\n",
       "<p>5 rows × 55 columns</p>\n",
       "</div>"
      ],
      "text/plain": [
       "  num songs  artist familiarity  artist hotttnesss              artist id  \\\n",
       "0         1            0.581794           0.401998  b'ARD7TVE1187B99BFB1'   \n",
       "1         1            0.630630           0.417500  b'ARMJAGH1187FB546F3'   \n",
       "2         1            0.487357           0.343428  b'ARKRRTF1187B9984DA'   \n",
       "3         1            0.630382           0.454231  b'AR7G5I41187FB4CE6C'   \n",
       "4         1            0.651046           0.401724  b'ARXR32B1187FB57099'   \n",
       "\n",
       "                               artist mbid artist playmeid artist 7digitalid  \\\n",
       "0  b'e77e51a5-4761-45b3-9847-2051f811e366'            4479            165270   \n",
       "1  b'1c78ab62-db33-4433-8d0b-7c8dcf1849c2'           22066              1998   \n",
       "2  b'7a273984-edd9-4451-9c4d-39b38f05ebcd'           13951            290021   \n",
       "3  b'e188a520-9cb7-4f73-a3d7-2f70c6538e92'           12697             19072   \n",
       "4  b'c6903a2e-063c-4f91-a284-17b8f421be7b'            8355             30973   \n",
       "\n",
       "   artist latitude  artist longitude     artist location  ...   \\\n",
       "0              NaN               NaN  b'California - LA'  ...    \n",
       "1         35.14968         -90.04892      b'Memphis, TN'  ...    \n",
       "2              NaN               NaN                 b''  ...    \n",
       "3              NaN               NaN  b'London, England'  ...    \n",
       "4              NaN               NaN                 b''  ...    \n",
       "\n",
       "                                 sections confidence  \\\n",
       "0  [1.0, 1.0, 0.218, 0.133, 0.384, 0.326, 0.373, ...   \n",
       "1  [1.0, 0.451, 0.27, 0.397, 0.225, 0.426, 0.459,...   \n",
       "2  [1.0, 0.121, 0.214, 0.198, 0.66, 0.468, 0.591,...   \n",
       "3  [1.0, 0.086, 0.153, 0.146, 0.088, 0.217, 0.372...   \n",
       "4  [1.0, 0.768, 0.611, 0.388, 0.52, 0.42, 0.499, ...   \n",
       "\n",
       "                                         beats start  \\\n",
       "0  [0.58521, 1.19196, 1.78893, 2.37813, 2.94247, ...   \n",
       "1  [0.20627, 0.71054, 1.21836, 1.71841, 2.21729, ...   \n",
       "2  [0.73152, 1.39732, 2.04852, 2.68691, 3.315, 3....   \n",
       "3  [0.81002, 1.30621, 1.80617, 2.2996, 2.80049, 3...   \n",
       "4  [0.13576, 0.59914, 1.06368, 1.52591, 1.99045, ...   \n",
       "\n",
       "                                    beats confidence  \\\n",
       "0  [0.834, 0.851, 0.65, 0.635, 0.532, 0.753, 0.62...   \n",
       "1  [1.0, 0.945, 0.714, 0.973, 0.818, 0.974, 0.878...   \n",
       "2  [0.98, 0.399, 0.185, 0.27, 0.422, 0.0, 0.445, ...   \n",
       "3  [0.809, 0.616, 0.789, 0.66, 0.439, 0.758, 0.60...   \n",
       "4  [0.883, 0.738, 0.484, 0.609, 0.625, 0.719, 0.4...   \n",
       "\n",
       "                                          bars start  \\\n",
       "0  [0.58521, 2.94247, 5.14371, 7.74554, 10.36149,...   \n",
       "1  [0.71054, 2.71502, 4.70861, 6.69288, 8.66941, ...   \n",
       "2  [0.73152, 1.39732, 2.04852, 2.68691, 3.315, 3....   \n",
       "3  [1.30621, 3.29887, 5.30252, 7.32327, 9.33775, ...   \n",
       "4  [1.06368, 2.91491, 4.76729, 6.61852, 8.46978, ...   \n",
       "\n",
       "                                     bars confidence  \\\n",
       "0  [0.643, 0.746, 0.722, 0.095, 0.091, 0.362, 0.4...   \n",
       "1  [0.007, 0.259, 0.172, 0.404, 0.011, 0.016, 0.0...   \n",
       "2  [0.98, 0.399, 0.185, 0.27, 0.422, 0.0, 0.445, ...   \n",
       "3  [0.017, 0.05, 0.014, 0.008, 0.114, 0.019, 0.08...   \n",
       "4  [0.175, 0.409, 0.639, 0.067, 0.016, 0.066, 0.0...   \n",
       "\n",
       "                                        tatums start  \\\n",
       "0  [0.28519, 0.58521, 0.89422, 1.19196, 1.49119, ...   \n",
       "1  [0.20627, 0.45904, 0.71054, 0.96834, 1.21836, ...   \n",
       "2  [0.42132, 0.73152, 1.06609, 1.39732, 1.72854, ...   \n",
       "3  [0.56254, 0.81002, 1.05749, 1.30621, 1.55494, ...   \n",
       "4  [0.13576, 0.36918, 0.59914, 0.83141, 1.06368, ...   \n",
       "\n",
       "                                   tatums confidence  \\\n",
       "0  [0.779, 0.734, 0.674, 0.637, 0.597, 0.532, 0.4...   \n",
       "1  [0.969, 0.929, 0.897, 0.871, 0.856, 0.845, 0.8...   \n",
       "2  [0.482, 0.676, 0.627, 0.549, 0.279, 0.264, 0.2...   \n",
       "3  [0.601, 0.556, 0.523, 0.49, 0.466, 0.44, 0.428...   \n",
       "4  [1.0, 0.98, 0.932, 0.87, 0.82, 0.793, 0.768, 0...   \n",
       "\n",
       "                     artist mbtags artist mbtags count  year  \n",
       "0                               []                  []     0  \n",
       "1        [b'classic pop and rock']                 [1]  1969  \n",
       "2                               []                  []     0  \n",
       "3  [b'uk', b'british', b'english']           [1, 1, 1]  1982  \n",
       "4                               []                  []  2007  \n",
       "\n",
       "[5 rows x 55 columns]"
      ]
     },
     "execution_count": 38,
     "metadata": {},
     "output_type": "execute_result"
    }
   ],
   "source": [
    "data.head()"
   ]
  },
  {
   "cell_type": "code",
   "execution_count": null,
   "metadata": {
    "collapsed": true
   },
   "outputs": [],
   "source": [
    "#write the dataframe to a .csv file\n",
    "#note: takes several minutes\n",
    "#start_time = time.time()\n",
    "#data.to_csv('msd_data.csv', sep='\\t', encoding='utf-8')\n",
    "#print(\"--- Execution time: %s seconds ---\" % (time.time() - start_time))"
   ]
  },
  {
   "cell_type": "code",
   "execution_count": null,
   "metadata": {
    "collapsed": true
   },
   "outputs": [],
   "source": []
  },
  {
   "cell_type": "code",
   "execution_count": 63,
   "metadata": {
    "collapsed": true
   },
   "outputs": [],
   "source": [
    "def save_to_csv(data, filename, folder='./data/'):\n",
    "    #note: newline='' prevents Python 3 from adding a new line after writing each row\n",
    "    with open(folder+filename, 'w', newline='') as f:\n",
    "        writer = csv.writer(f)\n",
    "        \n",
    "        if(type(data[0]) == np.ndarray):\n",
    "            #unfold the pandas series into an array of array\n",
    "            array = [subarray for subarray in data]\n",
    "            writer.writerows(array)\n",
    "        else:\n",
    "            writer.writerow(data)"
   ]
  },
  {
   "cell_type": "code",
   "execution_count": 6,
   "metadata": {
    "collapsed": true
   },
   "outputs": [],
   "source": [
    "def retrieve_csv(filename, retrieve_as='string', folder='./data/'):\n",
    "    data = []\n",
    "    with open(folder+filename, 'r') as f:\n",
    "        reader = csv.reader(f, delimiter=',')\n",
    "        for row in reader:\n",
    "            data.append(row)\n",
    "            \n",
    "    if(retrieve_as in ['integer', 'signed', 'unsigned', 'float']):\n",
    "        data = [pd.to_numeric(item, errors='coerce', downcast=retrieve_as) if(len(item) > 0) else item for item in data]\n",
    "            \n",
    "    if(len(data) == 1):\n",
    "        return data[0]\n",
    "    else:\n",
    "        return data"
   ]
  },
  {
   "cell_type": "markdown",
   "metadata": {},
   "source": [
    "#### Writing the dataframe to .csv"
   ]
  },
  {
   "cell_type": "code",
   "execution_count": 44,
   "metadata": {
    "collapsed": true
   },
   "outputs": [],
   "source": [
    "column_names = [name[4:].replace('_', ' ') for name in all_getters]"
   ]
  },
  {
   "cell_type": "code",
   "execution_count": 47,
   "metadata": {
    "scrolled": true
   },
   "outputs": [
    {
     "name": "stdout",
     "output_type": "stream",
     "text": [
      "1 num songs\n",
      "2 artist familiarity\n",
      "3 artist hotttnesss\n",
      "4 artist id\n",
      "5 artist mbid\n",
      "6 artist playmeid\n",
      "7 artist 7digitalid\n",
      "8 artist latitude\n",
      "9 artist longitude\n",
      "10 artist location\n",
      "11 artist name\n",
      "12 release\n",
      "13 release 7digitalid\n",
      "14 song id\n",
      "15 song hotttnesss\n",
      "16 title\n",
      "17 track 7digitalid\n",
      "18 similar artists\n",
      "19 artist terms\n",
      "20 artist terms freq\n",
      "21 artist terms weight\n",
      "22 analysis sample rate\n",
      "23 audio md5\n",
      "24 danceability\n",
      "25 duration\n",
      "26 end of fade in\n",
      "27 energy\n",
      "28 key\n",
      "29 key confidence\n",
      "30 loudness\n",
      "31 mode\n",
      "32 mode confidence\n",
      "33 start of fade out\n",
      "34 tempo\n",
      "35 time signature\n",
      "36 time signature confidence\n",
      "37 track id\n",
      "38 segments start\n",
      "39 segments confidence\n",
      "40 segments pitches\n",
      "41 segments timbre\n",
      "42 segments loudness max\n",
      "43 segments loudness max time\n",
      "44 segments loudness start\n",
      "45 sections start\n",
      "46 sections confidence\n",
      "47 beats start\n",
      "48 beats confidence\n",
      "49 bars start\n",
      "50 bars confidence\n",
      "51 tatums start\n",
      "52 tatums confidence\n",
      "53 artist mbtags\n",
      "54 artist mbtags count\n",
      "55 year\n"
     ]
    }
   ],
   "source": [
    "count = 0\n",
    "\n",
    "start_time = time.time()\n",
    "for column_name in column_names:\n",
    "    count += 1\n",
    "    print(count, column_name)\n",
    "    save_to_csv(data[column_name], folder+column_name.replace(' ', '_')+'.csv')\n",
    "    \n",
    "print(\"--- Execution time: %s seconds ---\" % (time.time() - start_time))"
   ]
  },
  {
   "cell_type": "code",
   "execution_count": null,
   "metadata": {
    "collapsed": true
   },
   "outputs": [],
   "source": []
  },
  {
   "cell_type": "markdown",
   "metadata": {},
   "source": [
    "#### Retrieving the dataframe\n",
    "\n",
    "The data needs to be read only once from the .h5 file structure. After that, the created dataframe is saved into multiple .csv files, one per column: it is from these files that the dataframe is loaded for the rest of the analysis.\n",
    "\n",
    "The additional `index.csv` file specifies the datatype of each column, in particular, if a the data in the /csv file should be converted to numeric or not."
   ]
  },
  {
   "cell_type": "code",
   "execution_count": 4,
   "metadata": {
    "collapsed": true
   },
   "outputs": [],
   "source": [
    "data = pd.DataFrame()"
   ]
  },
  {
   "cell_type": "code",
   "execution_count": 15,
   "metadata": {},
   "outputs": [
    {
     "data": {
      "text/plain": [
       "53"
      ]
     },
     "execution_count": 15,
     "metadata": {},
     "output_type": "execute_result"
    }
   ],
   "source": [
    "index = retrieve_csv('index.csv')\n",
    "index.remove(['segments pitches', 'object'])\n",
    "index.remove(['segments timbre', 'object'])\n",
    "len(index)"
   ]
  },
  {
   "cell_type": "code",
   "execution_count": 16,
   "metadata": {
    "scrolled": true
   },
   "outputs": [
    {
     "name": "stdout",
     "output_type": "stream",
     "text": [
      "['num songs', 'object']\n",
      "['artist familiarity', 'float']\n",
      "['artist hotttnesss', 'float']\n",
      "['artist id', 'object']\n",
      "['artist mbid', 'object']\n",
      "['artist playmeid', 'object']\n",
      "['artist 7digitalid', 'object']\n",
      "['artist latitude', 'float']\n",
      "['artist longitude', 'float']\n",
      "['artist location', 'object']\n",
      "['artist name', 'object']\n",
      "['release', 'object']\n",
      "['release 7digitalid', 'object']\n",
      "['song id', 'object']\n",
      "['song hotttnesss', 'float']\n",
      "['title', 'object']\n",
      "['track 7digitalid', 'object']\n",
      "['similar artists', 'object']\n",
      "['artist terms', 'object']\n",
      "['artist terms freq', 'object']\n",
      "['artist terms weight', 'object']\n",
      "['analysis sample rate', 'object']\n",
      "['audio md5', 'object']\n",
      "['danceability', 'float']\n",
      "['duration', 'float']\n",
      "['end of fade in', 'float']\n",
      "['energy', 'float']\n",
      "['key', 'object']\n",
      "['key confidence', 'float']\n",
      "['loudness', 'float']\n",
      "['mode', 'object']\n",
      "['mode confidence', 'float']\n",
      "['start of fade out', 'float']\n",
      "['tempo', 'float']\n",
      "['time signature', 'object']\n",
      "['time signature confidence', 'float']\n",
      "['track id', 'object']\n",
      "['segments start', 'object']\n",
      "['segments confidence', 'object']\n",
      "['segments loudness max', 'object']\n",
      "['segments loudness max time', 'object']\n",
      "['segments loudness start', 'object']\n",
      "['sections start', 'object']\n",
      "['sections confidence', 'object']\n",
      "['beats start', 'object']\n",
      "['beats confidence', 'object']\n",
      "['bars start', 'object']\n",
      "['bars confidence', 'object']\n",
      "['tatums start', 'object']\n",
      "['tatums confidence', 'object']\n",
      "['artist mbtags', 'object']\n",
      "['artist mbtags count', 'object']\n",
      "['year', 'integer']\n",
      "--- Execution time: 294.1059458255768 seconds ---\n"
     ]
    }
   ],
   "source": [
    "start_time = time.time()\n",
    "for idx in index:\n",
    "    print(idx)\n",
    "    column_name = idx[0]\n",
    "    retrieve_as = idx[1]\n",
    "    filename = column_name.replace(' ', '_')+'.csv'\n",
    "    data[column_name] = retrieve_csv(filename, retrieve_as=retrieve_as)\n",
    "\n",
    "print(\"--- Execution time: %s seconds ---\" % (time.time() - start_time))"
   ]
  },
  {
   "cell_type": "code",
   "execution_count": 22,
   "metadata": {},
   "outputs": [
    {
     "data": {
      "text/html": [
       "<div>\n",
       "<style>\n",
       "    .dataframe thead tr:only-child th {\n",
       "        text-align: right;\n",
       "    }\n",
       "\n",
       "    .dataframe thead th {\n",
       "        text-align: left;\n",
       "    }\n",
       "\n",
       "    .dataframe tbody tr th {\n",
       "        vertical-align: top;\n",
       "    }\n",
       "</style>\n",
       "<table border=\"1\" class=\"dataframe\">\n",
       "  <thead>\n",
       "    <tr style=\"text-align: right;\">\n",
       "      <th></th>\n",
       "      <th>num songs</th>\n",
       "      <th>artist familiarity</th>\n",
       "      <th>artist hotttnesss</th>\n",
       "      <th>artist id</th>\n",
       "      <th>artist mbid</th>\n",
       "      <th>artist playmeid</th>\n",
       "      <th>artist 7digitalid</th>\n",
       "      <th>artist latitude</th>\n",
       "      <th>artist longitude</th>\n",
       "      <th>artist location</th>\n",
       "      <th>...</th>\n",
       "      <th>sections confidence</th>\n",
       "      <th>beats start</th>\n",
       "      <th>beats confidence</th>\n",
       "      <th>bars start</th>\n",
       "      <th>bars confidence</th>\n",
       "      <th>tatums start</th>\n",
       "      <th>tatums confidence</th>\n",
       "      <th>artist mbtags</th>\n",
       "      <th>artist mbtags count</th>\n",
       "      <th>year</th>\n",
       "    </tr>\n",
       "  </thead>\n",
       "  <tbody>\n",
       "    <tr>\n",
       "      <th>0</th>\n",
       "      <td>1</td>\n",
       "      <td>0.581794</td>\n",
       "      <td>0.401998</td>\n",
       "      <td>b'ARD7TVE1187B99BFB1'</td>\n",
       "      <td>b'e77e51a5-4761-45b3-9847-2051f811e366'</td>\n",
       "      <td>4479</td>\n",
       "      <td>165270</td>\n",
       "      <td>NaN</td>\n",
       "      <td>NaN</td>\n",
       "      <td>b'California - LA'</td>\n",
       "      <td>...</td>\n",
       "      <td>[1.0, 1.0, 0.218, 0.133, 0.384, 0.326, 0.373, ...</td>\n",
       "      <td>[0.58521, 1.19196, 1.78893, 2.37813, 2.94247, ...</td>\n",
       "      <td>[0.834, 0.851, 0.65, 0.635, 0.532, 0.753, 0.62...</td>\n",
       "      <td>[0.58521, 2.94247, 5.14371, 7.74554, 10.36149,...</td>\n",
       "      <td>[0.643, 0.746, 0.722, 0.095, 0.091, 0.362, 0.4...</td>\n",
       "      <td>[0.28519, 0.58521, 0.89422, 1.19196, 1.49119, ...</td>\n",
       "      <td>[0.779, 0.734, 0.674, 0.637, 0.597, 0.532, 0.4...</td>\n",
       "      <td>[]</td>\n",
       "      <td>[]</td>\n",
       "      <td>0</td>\n",
       "    </tr>\n",
       "  </tbody>\n",
       "</table>\n",
       "<p>1 rows × 53 columns</p>\n",
       "</div>"
      ],
      "text/plain": [
       "  num songs  artist familiarity  artist hotttnesss              artist id  \\\n",
       "0         1            0.581794           0.401998  b'ARD7TVE1187B99BFB1'   \n",
       "\n",
       "                               artist mbid artist playmeid artist 7digitalid  \\\n",
       "0  b'e77e51a5-4761-45b3-9847-2051f811e366'            4479            165270   \n",
       "\n",
       "   artist latitude  artist longitude     artist location ...   \\\n",
       "0              NaN               NaN  b'California - LA' ...    \n",
       "\n",
       "                                 sections confidence  \\\n",
       "0  [1.0, 1.0, 0.218, 0.133, 0.384, 0.326, 0.373, ...   \n",
       "\n",
       "                                         beats start  \\\n",
       "0  [0.58521, 1.19196, 1.78893, 2.37813, 2.94247, ...   \n",
       "\n",
       "                                    beats confidence  \\\n",
       "0  [0.834, 0.851, 0.65, 0.635, 0.532, 0.753, 0.62...   \n",
       "\n",
       "                                          bars start  \\\n",
       "0  [0.58521, 2.94247, 5.14371, 7.74554, 10.36149,...   \n",
       "\n",
       "                                     bars confidence  \\\n",
       "0  [0.643, 0.746, 0.722, 0.095, 0.091, 0.362, 0.4...   \n",
       "\n",
       "                                        tatums start  \\\n",
       "0  [0.28519, 0.58521, 0.89422, 1.19196, 1.49119, ...   \n",
       "\n",
       "                                   tatums confidence artist mbtags  \\\n",
       "0  [0.779, 0.734, 0.674, 0.637, 0.597, 0.532, 0.4...            []   \n",
       "\n",
       "  artist mbtags count year  \n",
       "0                  []    0  \n",
       "\n",
       "[1 rows x 53 columns]"
      ]
     },
     "execution_count": 22,
     "metadata": {},
     "output_type": "execute_result"
    }
   ],
   "source": [
    "data.head(1)"
   ]
  },
  {
   "cell_type": "code",
   "execution_count": null,
   "metadata": {},
   "outputs": [],
   "source": []
  },
  {
   "cell_type": "code",
   "execution_count": 69,
   "metadata": {
    "collapsed": true
   },
   "outputs": [],
   "source": [
    "#old sutff\n",
    "#data = pd.read_csv('msd_data_save.csv', sep='\\t', index_col=0)\n",
    "#data.head()"
   ]
  },
  {
   "cell_type": "code",
   "execution_count": null,
   "metadata": {
    "collapsed": true
   },
   "outputs": [],
   "source": []
  },
  {
   "cell_type": "code",
   "execution_count": null,
   "metadata": {
    "collapsed": true
   },
   "outputs": [],
   "source": []
  },
  {
   "cell_type": "markdown",
   "metadata": {},
   "source": [
    "#### Formatting the dataframe"
   ]
  },
  {
   "cell_type": "code",
   "execution_count": 18,
   "metadata": {},
   "outputs": [
    {
     "data": {
      "text/plain": [
       "num songs                      object\n",
       "artist familiarity            float32\n",
       "artist hotttnesss             float32\n",
       "artist id                      object\n",
       "artist mbid                    object\n",
       "artist playmeid                object\n",
       "artist 7digitalid              object\n",
       "artist latitude               float32\n",
       "artist longitude              float32\n",
       "artist location                object\n",
       "artist name                    object\n",
       "release                        object\n",
       "release 7digitalid             object\n",
       "song id                        object\n",
       "song hotttnesss               float32\n",
       "title                          object\n",
       "track 7digitalid               object\n",
       "similar artists                object\n",
       "artist terms                   object\n",
       "artist terms freq              object\n",
       "artist terms weight            object\n",
       "analysis sample rate           object\n",
       "audio md5                      object\n",
       "danceability                  float32\n",
       "duration                      float32\n",
       "end of fade in                float32\n",
       "energy                        float32\n",
       "key                            object\n",
       "key confidence                float32\n",
       "loudness                      float32\n",
       "mode                           object\n",
       "mode confidence               float32\n",
       "start of fade out             float32\n",
       "tempo                         float32\n",
       "time signature                 object\n",
       "time signature confidence     float32\n",
       "track id                       object\n",
       "segments start                 object\n",
       "segments confidence            object\n",
       "segments loudness max          object\n",
       "segments loudness max time     object\n",
       "segments loudness start        object\n",
       "sections start                 object\n",
       "sections confidence            object\n",
       "beats start                    object\n",
       "beats confidence               object\n",
       "bars start                     object\n",
       "bars confidence                object\n",
       "tatums start                   object\n",
       "tatums confidence              object\n",
       "artist mbtags                  object\n",
       "artist mbtags count            object\n",
       "year                            int16\n",
       "dtype: object"
      ]
     },
     "execution_count": 18,
     "metadata": {},
     "output_type": "execute_result"
    }
   ],
   "source": [
    "data.dtypes"
   ]
  },
  {
   "cell_type": "code",
   "execution_count": 5,
   "metadata": {
    "collapsed": true
   },
   "outputs": [],
   "source": [
    "#old stuff\n",
    "def string_to_string_array(df, column):\n",
    "    #clean the string\n",
    "    clean_string = df[column].apply(lambda x: x.replace('b\\'', '')\n",
    "                                    .replace('b\"', '')\n",
    "                                    .replace('\"', '\\'')\n",
    "                                    .replace('[', '')\n",
    "                                    .replace(']', '')\n",
    "                                    .replace('\\n', ''))\n",
    "\n",
    "    #split every term at every <' > position (single quote followed by a space)\n",
    "    array = map(methodcaller('split', '\\' '), clean_string)\n",
    "    #remove every quote\n",
    "    array = map(lambda x: [s.replace('\\'', '') for s in x], array)\n",
    "    #transform the map into a list\n",
    "    array = list(array)\n",
    "    \n",
    "    return array"
   ]
  },
  {
   "cell_type": "code",
   "execution_count": 3,
   "metadata": {
    "collapsed": true
   },
   "outputs": [],
   "source": [
    "#old stuff\n",
    "def string_to_float_array(df, column):\n",
    "    #clean the string\n",
    "    clean_string = df[column].apply(lambda x: x.replace('[', '')\n",
    "                                    .replace(']', '')\n",
    "                                    .replace('\\n', '')) \n",
    "  \n",
    "    #split every term at every < > position (single space)\n",
    "    array = map(methodcaller('split', ' '), clean_string)\n",
    "    #remove every remaining empty string\n",
    "    array = [list(filter(None, sublist)) for sublist in array]\n",
    "    #convert to numeric  \n",
    "    \n",
    "    #this crashes because data in .csv is weird\n",
    "    #note: #pd.to_numeric crashes on empty series []\n",
    "    print((array[0]))\n",
    "    array = [pd.to_numeric(sublist) for sublist in array if(sublist != None) ]\n",
    "    print(len(array))\n",
    "    return array"
   ]
  },
  {
   "cell_type": "code",
   "execution_count": null,
   "metadata": {
    "collapsed": true
   },
   "outputs": [],
   "source": []
  },
  {
   "cell_type": "code",
   "execution_count": null,
   "metadata": {
    "collapsed": true
   },
   "outputs": [],
   "source": []
  },
  {
   "cell_type": "code",
   "execution_count": null,
   "metadata": {
    "collapsed": true
   },
   "outputs": [],
   "source": []
  },
  {
   "cell_type": "markdown",
   "metadata": {},
   "source": [
    "#### Basic statistics\n",
    "\n",
    "- ranges, mean, median, ...\n",
    "- graphs"
   ]
  },
  {
   "cell_type": "markdown",
   "metadata": {},
   "source": [
    "We give a basic overview of the (most important) features of the songs, using pandas `describe()` method."
   ]
  },
  {
   "cell_type": "code",
   "execution_count": 110,
   "metadata": {
    "collapsed": true
   },
   "outputs": [],
   "source": [
    "def describe(data, column, include_undefined):\n",
    "    if(include_undefined):\n",
    "        return pd.DataFrame(data[column]).describe()\n",
    "    else:\n",
    "        return pd.DataFrame(data[data[column] != 0][column]).describe()\n",
    "                        "
   ]
  },
  {
   "cell_type": "code",
   "execution_count": 135,
   "metadata": {
    "collapsed": true
   },
   "outputs": [],
   "source": [
    "def set_ticks_wtih_step(ax, step):\n",
    "    ticks = ax.xaxis.get_ticklocs()\n",
    "    ticklabels = [l.get_text() for l in ax.xaxis.get_ticklabels()]\n",
    "    ax.xaxis.set_ticks(ticks[::step])\n",
    "    ax.xaxis.set_ticklabels(ticklabels[::step]);"
   ]
  },
  {
   "cell_type": "markdown",
   "metadata": {},
   "source": [
    "#### Release year"
   ]
  },
  {
   "cell_type": "code",
   "execution_count": 108,
   "metadata": {},
   "outputs": [
    {
     "data": {
      "text/html": [
       "<div>\n",
       "<style>\n",
       "    .dataframe thead tr:only-child th {\n",
       "        text-align: right;\n",
       "    }\n",
       "\n",
       "    .dataframe thead th {\n",
       "        text-align: left;\n",
       "    }\n",
       "\n",
       "    .dataframe tbody tr th {\n",
       "        vertical-align: top;\n",
       "    }\n",
       "</style>\n",
       "<table border=\"1\" class=\"dataframe\">\n",
       "  <thead>\n",
       "    <tr style=\"text-align: right;\">\n",
       "      <th></th>\n",
       "      <th>year</th>\n",
       "    </tr>\n",
       "  </thead>\n",
       "  <tbody>\n",
       "    <tr>\n",
       "      <th>count</th>\n",
       "      <td>10000.000000</td>\n",
       "    </tr>\n",
       "    <tr>\n",
       "      <th>mean</th>\n",
       "      <td>934.704600</td>\n",
       "    </tr>\n",
       "    <tr>\n",
       "      <th>std</th>\n",
       "      <td>996.650657</td>\n",
       "    </tr>\n",
       "    <tr>\n",
       "      <th>min</th>\n",
       "      <td>0.000000</td>\n",
       "    </tr>\n",
       "    <tr>\n",
       "      <th>25%</th>\n",
       "      <td>0.000000</td>\n",
       "    </tr>\n",
       "    <tr>\n",
       "      <th>50%</th>\n",
       "      <td>0.000000</td>\n",
       "    </tr>\n",
       "    <tr>\n",
       "      <th>75%</th>\n",
       "      <td>2000.000000</td>\n",
       "    </tr>\n",
       "    <tr>\n",
       "      <th>max</th>\n",
       "      <td>2010.000000</td>\n",
       "    </tr>\n",
       "  </tbody>\n",
       "</table>\n",
       "</div>"
      ],
      "text/plain": [
       "               year\n",
       "count  10000.000000\n",
       "mean     934.704600\n",
       "std      996.650657\n",
       "min        0.000000\n",
       "25%        0.000000\n",
       "50%        0.000000\n",
       "75%     2000.000000\n",
       "max     2010.000000"
      ]
     },
     "execution_count": 108,
     "metadata": {},
     "output_type": "execute_result"
    }
   ],
   "source": [
    "describe(data, 'year', True)"
   ]
  },
  {
   "cell_type": "markdown",
   "metadata": {},
   "source": [
    "We see that the minimum `year` is 0, which actually stands for `undefined`. In our statistics, we will from now on not include those songs for which a certain feature is undefined, as this would bias the distributions."
   ]
  },
  {
   "cell_type": "code",
   "execution_count": 111,
   "metadata": {},
   "outputs": [
    {
     "data": {
      "text/html": [
       "<div>\n",
       "<style>\n",
       "    .dataframe thead tr:only-child th {\n",
       "        text-align: right;\n",
       "    }\n",
       "\n",
       "    .dataframe thead th {\n",
       "        text-align: left;\n",
       "    }\n",
       "\n",
       "    .dataframe tbody tr th {\n",
       "        vertical-align: top;\n",
       "    }\n",
       "</style>\n",
       "<table border=\"1\" class=\"dataframe\">\n",
       "  <thead>\n",
       "    <tr style=\"text-align: right;\">\n",
       "      <th></th>\n",
       "      <th>year</th>\n",
       "    </tr>\n",
       "  </thead>\n",
       "  <tbody>\n",
       "    <tr>\n",
       "      <th>count</th>\n",
       "      <td>4680.000000</td>\n",
       "    </tr>\n",
       "    <tr>\n",
       "      <th>mean</th>\n",
       "      <td>1997.232051</td>\n",
       "    </tr>\n",
       "    <tr>\n",
       "      <th>std</th>\n",
       "      <td>11.686691</td>\n",
       "    </tr>\n",
       "    <tr>\n",
       "      <th>min</th>\n",
       "      <td>1926.000000</td>\n",
       "    </tr>\n",
       "    <tr>\n",
       "      <th>25%</th>\n",
       "      <td>1993.000000</td>\n",
       "    </tr>\n",
       "    <tr>\n",
       "      <th>50%</th>\n",
       "      <td>2001.000000</td>\n",
       "    </tr>\n",
       "    <tr>\n",
       "      <th>75%</th>\n",
       "      <td>2006.000000</td>\n",
       "    </tr>\n",
       "    <tr>\n",
       "      <th>max</th>\n",
       "      <td>2010.000000</td>\n",
       "    </tr>\n",
       "  </tbody>\n",
       "</table>\n",
       "</div>"
      ],
      "text/plain": [
       "              year\n",
       "count  4680.000000\n",
       "mean   1997.232051\n",
       "std      11.686691\n",
       "min    1926.000000\n",
       "25%    1993.000000\n",
       "50%    2001.000000\n",
       "75%    2006.000000\n",
       "max    2010.000000"
      ]
     },
     "execution_count": 111,
     "metadata": {},
     "output_type": "execute_result"
    }
   ],
   "source": [
    "describe(data, 'year', False)"
   ]
  },
  {
   "cell_type": "markdown",
   "metadata": {},
   "source": [
    "Now the earliest `year` is 1926, which indeed appears to  be more realistic. The majority of the songs in the dataset has been released in the last 20 years, although the most recent ones date back to 2010 already. "
   ]
  },
  {
   "cell_type": "code",
   "execution_count": 124,
   "metadata": {
    "scrolled": true
   },
   "outputs": [
    {
     "data": {
      "image/png": "[encoded data removed]",
      "text/plain": [
       "<matplotlib.figure.Figure at 0x1e559bf14a8>"
      ]
     },
     "metadata": {},
     "output_type": "display_data"
    }
   ],
   "source": [
    "ax = data[data['year'] > 0]['year'].value_counts()\\\n",
    "                                   .sort_index()\\\n",
    "                                   .plot(kind='bar',\n",
    "                                         grid=True,\n",
    "                                         figsize=(14, 5));\n",
    "        \n",
    "ax.set_title('Year distribution', fontsize=14)\n",
    "ax.set_xlabel('year')\n",
    "ax.set_ylabel('number of songs');"
   ]
  },
  {
   "cell_type": "markdown",
   "metadata": {},
   "source": [
    "Most of the songs we are going to deal with came out in 2000 and later. Hopefully, the ones which were popular in 2011, when the Million Song Dataset was created, remain so to these days. Otherwise, predicting the 2018's best hit might prove more challenging than expected!"
   ]
  },
  {
   "cell_type": "markdown",
   "metadata": {},
   "source": [
    "#### Song hotttnesss"
   ]
  },
  {
   "cell_type": "code",
   "execution_count": 125,
   "metadata": {
    "scrolled": true
   },
   "outputs": [
    {
     "data": {
      "text/html": [
       "<div>\n",
       "<style>\n",
       "    .dataframe thead tr:only-child th {\n",
       "        text-align: right;\n",
       "    }\n",
       "\n",
       "    .dataframe thead th {\n",
       "        text-align: left;\n",
       "    }\n",
       "\n",
       "    .dataframe tbody tr th {\n",
       "        vertical-align: top;\n",
       "    }\n",
       "</style>\n",
       "<table border=\"1\" class=\"dataframe\">\n",
       "  <thead>\n",
       "    <tr style=\"text-align: right;\">\n",
       "      <th></th>\n",
       "      <th>song hotttnesss</th>\n",
       "    </tr>\n",
       "  </thead>\n",
       "  <tbody>\n",
       "    <tr>\n",
       "      <th>count</th>\n",
       "      <td>4214.000000</td>\n",
       "    </tr>\n",
       "    <tr>\n",
       "      <th>mean</th>\n",
       "      <td>0.459482</td>\n",
       "    </tr>\n",
       "    <tr>\n",
       "      <th>std</th>\n",
       "      <td>0.168239</td>\n",
       "    </tr>\n",
       "    <tr>\n",
       "      <th>min</th>\n",
       "      <td>0.187895</td>\n",
       "    </tr>\n",
       "    <tr>\n",
       "      <th>25%</th>\n",
       "      <td>0.313562</td>\n",
       "    </tr>\n",
       "    <tr>\n",
       "      <th>50%</th>\n",
       "      <td>0.450762</td>\n",
       "    </tr>\n",
       "    <tr>\n",
       "      <th>75%</th>\n",
       "      <td>0.586366</td>\n",
       "    </tr>\n",
       "    <tr>\n",
       "      <th>max</th>\n",
       "      <td>1.000000</td>\n",
       "    </tr>\n",
       "  </tbody>\n",
       "</table>\n",
       "</div>"
      ],
      "text/plain": [
       "       song hotttnesss\n",
       "count      4214.000000\n",
       "mean          0.459482\n",
       "std           0.168239\n",
       "min           0.187895\n",
       "25%           0.313562\n",
       "50%           0.450762\n",
       "75%           0.586366\n",
       "max           1.000000"
      ]
     },
     "execution_count": 125,
     "metadata": {},
     "output_type": "execute_result"
    }
   ],
   "source": [
    "describe(data, 'song hotttnesss', False)"
   ]
  },
  {
   "cell_type": "code",
   "execution_count": 150,
   "metadata": {
    "scrolled": true
   },
   "outputs": [
    {
     "data": {
      "image/png": "[encoded data removed]",
      "text/plain": [
       "<matplotlib.figure.Figure at 0x1e554563d30>"
      ]
     },
     "metadata": {},
     "output_type": "display_data"
    }
   ],
   "source": [
    "#round the 'song hotttnesss' to the nearest hundredth, in order to limit the number of buckets\n",
    "ax = round(data[data['song hotttnesss'] > 0]['song hotttnesss'], 2).value_counts()\\\n",
    "                                                                   .sort_index()\\\n",
    "                                                                   .plot(kind='bar',\n",
    "                                                                         grid=True,\n",
    "                                                                         figsize=(14, 5));\n",
    "\n",
    "ax.set_title('Song hotttnesss distribution', fontsize=14)\n",
    "ax.set_xlabel('song hotttnesss')\n",
    "ax.set_ylabel('number of songs');\n",
    "set_ticks_wtih_step(ax, 2)"
   ]
  },
  {
   "cell_type": "markdown",
   "metadata": {},
   "source": [
    "*Unknown ditribution...*"
   ]
  },
  {
   "cell_type": "markdown",
   "metadata": {},
   "source": [
    "#### Artist hotttnesss"
   ]
  },
  {
   "cell_type": "code",
   "execution_count": 143,
   "metadata": {},
   "outputs": [
    {
     "data": {
      "image/png": "[encoded data removed]",
      "text/plain": [
       "<matplotlib.figure.Figure at 0x1e556bedd68>"
      ]
     },
     "metadata": {},
     "output_type": "display_data"
    }
   ],
   "source": [
    "#round the 'song hotttnesss' to the nearest hundredth, in order to limit the number of buckets\n",
    "ax = round(data[data['artist hotttnesss'] > 0]['artist hotttnesss'], 2).value_counts()\\\n",
    "                                                                       .sort_index()\\\n",
    "                                                                       .plot(kind='bar',\n",
    "                                                                             grid=True,\n",
    "                                                                             figsize=(14, 5));\n",
    "ax.set_title('Artist hotttnesss distribution', fontsize=14)\n",
    "ax.set_xlabel('artist hotttnesss')\n",
    "ax.set_ylabel('number of songs');\n",
    "set_ticks_wtih_step(ax, 2)"
   ]
  },
  {
   "cell_type": "markdown",
   "metadata": {},
   "source": [
    "*Oh....! Gaussian-like distribution...! ... or is it lognormal...?*"
   ]
  },
  {
   "cell_type": "markdown",
   "metadata": {},
   "source": [
    "#### Song duration"
   ]
  },
  {
   "cell_type": "code",
   "execution_count": 33,
   "metadata": {},
   "outputs": [
    {
     "data": {
      "text/plain": [
       "0    218.93179\n",
       "1    148.03546\n",
       "2    177.47546\n",
       "3    233.40363\n",
       "4    209.60608\n",
       "Name: duration, dtype: float64"
      ]
     },
     "execution_count": 33,
     "metadata": {},
     "output_type": "execute_result"
    }
   ],
   "source": [
    "data['duration'].head()"
   ]
  },
  {
   "cell_type": "code",
   "execution_count": 67,
   "metadata": {},
   "outputs": [
    {
     "data": {
      "text/plain": [
       "1819"
      ]
     },
     "execution_count": 67,
     "metadata": {},
     "output_type": "execute_result"
    }
   ],
   "source": [
    "int(data['duration'].max())"
   ]
  },
  {
   "cell_type": "code",
   "execution_count": 146,
   "metadata": {
    "scrolled": true
   },
   "outputs": [
    {
     "data": {
      "image/png": "[encoded data removed]",
      "text/plain": [
       "<matplotlib.figure.Figure at 0x1e556c786a0>"
      ]
     },
     "metadata": {},
     "output_type": "display_data"
    }
   ],
   "source": [
    "ax = round(data['duration'], -1).value_counts()\\\n",
    "                                .sort_index()\\\n",
    "                                .plot(kind='bar', \n",
    "                                      grid=True,\n",
    "                                      figsize=(14, 5));\n",
    "        \n",
    "ax.set_title('Song duration distribution', fontsize=14)\n",
    "ax.set_xlabel('song duration (seconds)')\n",
    "ax.set_ylabel('number of songs')\n",
    "set_ticks_wtih_step(ax, 4)"
   ]
  },
  {
   "cell_type": "markdown",
   "metadata": {},
   "source": [
    "*Lognormal? Gamma? Weibull?*\n",
    "\n",
    "Probably a lognormal distribution, as many natural phenomenons related to some *length* - like a song duration - have been observed to follow a lognormal ditribution."
   ]
  },
  {
   "cell_type": "code",
   "execution_count": null,
   "metadata": {
    "collapsed": true
   },
   "outputs": [],
   "source": []
  },
  {
   "cell_type": "markdown",
   "metadata": {},
   "source": [
    "#### Non-evaluated features\n",
    "\n",
    "Unfortunately, some features such as `energy` or `danceability` happen to not have been evaluated for any of the songs in the dataset. This means we will not be able to use them in our analysis."
   ]
  },
  {
   "cell_type": "code",
   "execution_count": 153,
   "metadata": {},
   "outputs": [
    {
     "data": {
      "text/html": [
       "<div>\n",
       "<style>\n",
       "    .dataframe thead tr:only-child th {\n",
       "        text-align: right;\n",
       "    }\n",
       "\n",
       "    .dataframe thead th {\n",
       "        text-align: left;\n",
       "    }\n",
       "\n",
       "    .dataframe tbody tr th {\n",
       "        vertical-align: top;\n",
       "    }\n",
       "</style>\n",
       "<table border=\"1\" class=\"dataframe\">\n",
       "  <thead>\n",
       "    <tr style=\"text-align: right;\">\n",
       "      <th></th>\n",
       "      <th>energy</th>\n",
       "    </tr>\n",
       "  </thead>\n",
       "  <tbody>\n",
       "    <tr>\n",
       "      <th>count</th>\n",
       "      <td>10000.0</td>\n",
       "    </tr>\n",
       "    <tr>\n",
       "      <th>mean</th>\n",
       "      <td>0.0</td>\n",
       "    </tr>\n",
       "    <tr>\n",
       "      <th>std</th>\n",
       "      <td>0.0</td>\n",
       "    </tr>\n",
       "    <tr>\n",
       "      <th>min</th>\n",
       "      <td>0.0</td>\n",
       "    </tr>\n",
       "    <tr>\n",
       "      <th>25%</th>\n",
       "      <td>0.0</td>\n",
       "    </tr>\n",
       "    <tr>\n",
       "      <th>50%</th>\n",
       "      <td>0.0</td>\n",
       "    </tr>\n",
       "    <tr>\n",
       "      <th>75%</th>\n",
       "      <td>0.0</td>\n",
       "    </tr>\n",
       "    <tr>\n",
       "      <th>max</th>\n",
       "      <td>0.0</td>\n",
       "    </tr>\n",
       "  </tbody>\n",
       "</table>\n",
       "</div>"
      ],
      "text/plain": [
       "        energy\n",
       "count  10000.0\n",
       "mean       0.0\n",
       "std        0.0\n",
       "min        0.0\n",
       "25%        0.0\n",
       "50%        0.0\n",
       "75%        0.0\n",
       "max        0.0"
      ]
     },
     "execution_count": 153,
     "metadata": {},
     "output_type": "execute_result"
    }
   ],
   "source": [
    "describe(data, 'energy', True)"
   ]
  },
  {
   "cell_type": "code",
   "execution_count": 259,
   "metadata": {},
   "outputs": [
    {
     "data": {
      "text/html": [
       "<div>\n",
       "<style>\n",
       "    .dataframe thead tr:only-child th {\n",
       "        text-align: right;\n",
       "    }\n",
       "\n",
       "    .dataframe thead th {\n",
       "        text-align: left;\n",
       "    }\n",
       "\n",
       "    .dataframe tbody tr th {\n",
       "        vertical-align: top;\n",
       "    }\n",
       "</style>\n",
       "<table border=\"1\" class=\"dataframe\">\n",
       "  <thead>\n",
       "    <tr style=\"text-align: right;\">\n",
       "      <th></th>\n",
       "      <th>danceability</th>\n",
       "    </tr>\n",
       "  </thead>\n",
       "  <tbody>\n",
       "    <tr>\n",
       "      <th>count</th>\n",
       "      <td>10000.0</td>\n",
       "    </tr>\n",
       "    <tr>\n",
       "      <th>mean</th>\n",
       "      <td>0.0</td>\n",
       "    </tr>\n",
       "    <tr>\n",
       "      <th>std</th>\n",
       "      <td>0.0</td>\n",
       "    </tr>\n",
       "    <tr>\n",
       "      <th>min</th>\n",
       "      <td>0.0</td>\n",
       "    </tr>\n",
       "    <tr>\n",
       "      <th>25%</th>\n",
       "      <td>0.0</td>\n",
       "    </tr>\n",
       "    <tr>\n",
       "      <th>50%</th>\n",
       "      <td>0.0</td>\n",
       "    </tr>\n",
       "    <tr>\n",
       "      <th>75%</th>\n",
       "      <td>0.0</td>\n",
       "    </tr>\n",
       "    <tr>\n",
       "      <th>max</th>\n",
       "      <td>0.0</td>\n",
       "    </tr>\n",
       "  </tbody>\n",
       "</table>\n",
       "</div>"
      ],
      "text/plain": [
       "       danceability\n",
       "count       10000.0\n",
       "mean            0.0\n",
       "std             0.0\n",
       "min             0.0\n",
       "25%             0.0\n",
       "50%             0.0\n",
       "75%             0.0\n",
       "max             0.0"
      ]
     },
     "execution_count": 259,
     "metadata": {},
     "output_type": "execute_result"
    }
   ],
   "source": [
    "describe(data, 'danceability', True)"
   ]
  },
  {
   "cell_type": "markdown",
   "metadata": {},
   "source": [
    "#### Artist terms"
   ]
  },
  {
   "cell_type": "code",
   "execution_count": 22,
   "metadata": {
    "collapsed": true
   },
   "outputs": [],
   "source": [
    "#prevents running the tranformation of 'artist terms' from string to list twice\n",
    "if(type(data['artist terms'].head(1)[0]) == str):    \n",
    "    data['artist terms'] = string_to_string_array(data, 'artist terms')"
   ]
  },
  {
   "cell_type": "code",
   "execution_count": 23,
   "metadata": {},
   "outputs": [
    {
     "name": "stdout",
     "output_type": "stream",
     "text": [
      "Total number of artist terms: 263967\n",
      "Number of distinct artist terms: 3896\n"
     ]
    }
   ],
   "source": [
    "top_list = data['artist terms']\n",
    "artist_terms_all = [item for sublist in top_list for item in sublist]\n",
    "artist_terms_distinct = set(artist_terms_all)\n",
    "\n",
    "print('Total number of artist terms:', len(artist_terms_all))\n",
    "print('Number of distinct artist terms:', len(artist_terms_distinct))"
   ]
  },
  {
   "cell_type": "code",
   "execution_count": 24,
   "metadata": {
    "collapsed": true
   },
   "outputs": [],
   "source": [
    "serie = pd.Series(artist_terms_all).value_counts()"
   ]
  },
  {
   "cell_type": "code",
   "execution_count": 25,
   "metadata": {},
   "outputs": [
    {
     "data": {
      "text/plain": [
       "rock                6435\n",
       "pop                 5439\n",
       "electronic          4378\n",
       "jazz                3563\n",
       "united states       3056\n",
       "hip hop             2849\n",
       "alternative rock    2733\n",
       "folk                2591\n",
       "alternative         2582\n",
       "soul                2450\n",
       "dtype: int64"
      ]
     },
     "execution_count": 25,
     "metadata": {},
     "output_type": "execute_result"
    }
   ],
   "source": [
    "serie.sort_values(ascending=False).head(10)"
   ]
  },
  {
   "cell_type": "code",
   "execution_count": 26,
   "metadata": {},
   "outputs": [
    {
     "data": {
      "image/png": "[encoded data removed]",
      "text/plain": [
       "<matplotlib.figure.Figure at 0x18895888940>"
      ]
     },
     "metadata": {},
     "output_type": "display_data"
    }
   ],
   "source": [
    "top = 100\n",
    "ax = serie.sort_values(ascending=False).head(top)\\\n",
    "                                       .plot(kind='bar',\n",
    "                                             grid=True,\n",
    "                                             figsize=(14, 5));\n",
    "    \n",
    "ax.set_title('Top-' + str(top) + ' artist terms', fontsize=14)\n",
    "ax.set_xlabel('artist terms')\n",
    "ax.set_ylabel('number of occurences');"
   ]
  },
  {
   "cell_type": "markdown",
   "metadata": {},
   "source": [
    "It would seem the songs in this dataset are heavily rock and pop oriented. (and western oriented too)"
   ]
  },
  {
   "cell_type": "code",
   "execution_count": null,
   "metadata": {
    "collapsed": true
   },
   "outputs": [],
   "source": []
  },
  {
   "cell_type": "markdown",
   "metadata": {
    "collapsed": true
   },
   "source": [
    "#### Beats"
   ]
  },
  {
   "cell_type": "code",
   "execution_count": 6,
   "metadata": {},
   "outputs": [
    {
     "ename": "ValueError",
     "evalue": "Length of values does not match length of index",
     "output_type": "error",
     "traceback": [
      "\u001b[1;31m---------------------------------------------------------------------------\u001b[0m",
      "\u001b[1;31mValueError\u001b[0m                                Traceback (most recent call last)",
      "\u001b[1;32m<ipython-input-6-a5ae6557fe9e>\u001b[0m in \u001b[0;36m<module>\u001b[1;34m()\u001b[0m\n\u001b[0;32m      1\u001b[0m \u001b[1;31m#prevents running the tranformation of 'beats start' from string to list twice\u001b[0m\u001b[1;33m\u001b[0m\u001b[1;33m\u001b[0m\u001b[0m\n\u001b[0;32m      2\u001b[0m \u001b[1;32mif\u001b[0m\u001b[1;33m(\u001b[0m\u001b[0mtype\u001b[0m\u001b[1;33m(\u001b[0m\u001b[0mdata\u001b[0m\u001b[1;33m[\u001b[0m\u001b[1;34m'beats start'\u001b[0m\u001b[1;33m]\u001b[0m\u001b[1;33m.\u001b[0m\u001b[0mhead\u001b[0m\u001b[1;33m(\u001b[0m\u001b[1;36m1\u001b[0m\u001b[1;33m)\u001b[0m\u001b[1;33m[\u001b[0m\u001b[1;36m0\u001b[0m\u001b[1;33m]\u001b[0m\u001b[1;33m)\u001b[0m \u001b[1;33m==\u001b[0m \u001b[0mstr\u001b[0m\u001b[1;33m)\u001b[0m\u001b[1;33m:\u001b[0m\u001b[1;33m\u001b[0m\u001b[0m\n\u001b[1;32m----> 3\u001b[1;33m     \u001b[0mdata\u001b[0m\u001b[1;33m[\u001b[0m\u001b[1;34m'beats start'\u001b[0m\u001b[1;33m]\u001b[0m \u001b[1;33m=\u001b[0m \u001b[0mstring_to_float_array\u001b[0m\u001b[1;33m(\u001b[0m\u001b[0mdata\u001b[0m\u001b[1;33m[\u001b[0m\u001b[0mdata\u001b[0m\u001b[1;33m[\u001b[0m\u001b[1;34m'beats start'\u001b[0m\u001b[1;33m]\u001b[0m \u001b[1;33m!=\u001b[0m \u001b[1;34m'[]'\u001b[0m\u001b[1;33m]\u001b[0m\u001b[1;33m,\u001b[0m \u001b[1;34m'beats start'\u001b[0m\u001b[1;33m)\u001b[0m\u001b[1;33m\u001b[0m\u001b[0m\n\u001b[0m",
      "\u001b[1;32mC:\\Users\\Emily\\Anaconda3\\lib\\site-packages\\pandas\\core\\frame.py\u001b[0m in \u001b[0;36m__setitem__\u001b[1;34m(self, key, value)\u001b[0m\n\u001b[0;32m   2427\u001b[0m         \u001b[1;32melse\u001b[0m\u001b[1;33m:\u001b[0m\u001b[1;33m\u001b[0m\u001b[0m\n\u001b[0;32m   2428\u001b[0m             \u001b[1;31m# set column\u001b[0m\u001b[1;33m\u001b[0m\u001b[1;33m\u001b[0m\u001b[0m\n\u001b[1;32m-> 2429\u001b[1;33m             \u001b[0mself\u001b[0m\u001b[1;33m.\u001b[0m\u001b[0m_set_item\u001b[0m\u001b[1;33m(\u001b[0m\u001b[0mkey\u001b[0m\u001b[1;33m,\u001b[0m \u001b[0mvalue\u001b[0m\u001b[1;33m)\u001b[0m\u001b[1;33m\u001b[0m\u001b[0m\n\u001b[0m\u001b[0;32m   2430\u001b[0m \u001b[1;33m\u001b[0m\u001b[0m\n\u001b[0;32m   2431\u001b[0m     \u001b[1;32mdef\u001b[0m \u001b[0m_setitem_slice\u001b[0m\u001b[1;33m(\u001b[0m\u001b[0mself\u001b[0m\u001b[1;33m,\u001b[0m \u001b[0mkey\u001b[0m\u001b[1;33m,\u001b[0m \u001b[0mvalue\u001b[0m\u001b[1;33m)\u001b[0m\u001b[1;33m:\u001b[0m\u001b[1;33m\u001b[0m\u001b[0m\n",
      "\u001b[1;32mC:\\Users\\Emily\\Anaconda3\\lib\\site-packages\\pandas\\core\\frame.py\u001b[0m in \u001b[0;36m_set_item\u001b[1;34m(self, key, value)\u001b[0m\n\u001b[0;32m   2493\u001b[0m \u001b[1;33m\u001b[0m\u001b[0m\n\u001b[0;32m   2494\u001b[0m         \u001b[0mself\u001b[0m\u001b[1;33m.\u001b[0m\u001b[0m_ensure_valid_index\u001b[0m\u001b[1;33m(\u001b[0m\u001b[0mvalue\u001b[0m\u001b[1;33m)\u001b[0m\u001b[1;33m\u001b[0m\u001b[0m\n\u001b[1;32m-> 2495\u001b[1;33m         \u001b[0mvalue\u001b[0m \u001b[1;33m=\u001b[0m \u001b[0mself\u001b[0m\u001b[1;33m.\u001b[0m\u001b[0m_sanitize_column\u001b[0m\u001b[1;33m(\u001b[0m\u001b[0mkey\u001b[0m\u001b[1;33m,\u001b[0m \u001b[0mvalue\u001b[0m\u001b[1;33m)\u001b[0m\u001b[1;33m\u001b[0m\u001b[0m\n\u001b[0m\u001b[0;32m   2496\u001b[0m         \u001b[0mNDFrame\u001b[0m\u001b[1;33m.\u001b[0m\u001b[0m_set_item\u001b[0m\u001b[1;33m(\u001b[0m\u001b[0mself\u001b[0m\u001b[1;33m,\u001b[0m \u001b[0mkey\u001b[0m\u001b[1;33m,\u001b[0m \u001b[0mvalue\u001b[0m\u001b[1;33m)\u001b[0m\u001b[1;33m\u001b[0m\u001b[0m\n\u001b[0;32m   2497\u001b[0m \u001b[1;33m\u001b[0m\u001b[0m\n",
      "\u001b[1;32mC:\\Users\\Emily\\Anaconda3\\lib\\site-packages\\pandas\\core\\frame.py\u001b[0m in \u001b[0;36m_sanitize_column\u001b[1;34m(self, key, value, broadcast)\u001b[0m\n\u001b[0;32m   2664\u001b[0m \u001b[1;33m\u001b[0m\u001b[0m\n\u001b[0;32m   2665\u001b[0m             \u001b[1;31m# turn me into an ndarray\u001b[0m\u001b[1;33m\u001b[0m\u001b[1;33m\u001b[0m\u001b[0m\n\u001b[1;32m-> 2666\u001b[1;33m             \u001b[0mvalue\u001b[0m \u001b[1;33m=\u001b[0m \u001b[0m_sanitize_index\u001b[0m\u001b[1;33m(\u001b[0m\u001b[0mvalue\u001b[0m\u001b[1;33m,\u001b[0m \u001b[0mself\u001b[0m\u001b[1;33m.\u001b[0m\u001b[0mindex\u001b[0m\u001b[1;33m,\u001b[0m \u001b[0mcopy\u001b[0m\u001b[1;33m=\u001b[0m\u001b[1;32mFalse\u001b[0m\u001b[1;33m)\u001b[0m\u001b[1;33m\u001b[0m\u001b[0m\n\u001b[0m\u001b[0;32m   2667\u001b[0m             \u001b[1;32mif\u001b[0m \u001b[1;32mnot\u001b[0m \u001b[0misinstance\u001b[0m\u001b[1;33m(\u001b[0m\u001b[0mvalue\u001b[0m\u001b[1;33m,\u001b[0m \u001b[1;33m(\u001b[0m\u001b[0mnp\u001b[0m\u001b[1;33m.\u001b[0m\u001b[0mndarray\u001b[0m\u001b[1;33m,\u001b[0m \u001b[0mIndex\u001b[0m\u001b[1;33m)\u001b[0m\u001b[1;33m)\u001b[0m\u001b[1;33m:\u001b[0m\u001b[1;33m\u001b[0m\u001b[0m\n\u001b[0;32m   2668\u001b[0m                 \u001b[1;32mif\u001b[0m \u001b[0misinstance\u001b[0m\u001b[1;33m(\u001b[0m\u001b[0mvalue\u001b[0m\u001b[1;33m,\u001b[0m \u001b[0mlist\u001b[0m\u001b[1;33m)\u001b[0m \u001b[1;32mand\u001b[0m \u001b[0mlen\u001b[0m\u001b[1;33m(\u001b[0m\u001b[0mvalue\u001b[0m\u001b[1;33m)\u001b[0m \u001b[1;33m>\u001b[0m \u001b[1;36m0\u001b[0m\u001b[1;33m:\u001b[0m\u001b[1;33m\u001b[0m\u001b[0m\n",
      "\u001b[1;32mC:\\Users\\Emily\\Anaconda3\\lib\\site-packages\\pandas\\core\\series.py\u001b[0m in \u001b[0;36m_sanitize_index\u001b[1;34m(data, index, copy)\u001b[0m\n\u001b[0;32m   2877\u001b[0m \u001b[1;33m\u001b[0m\u001b[0m\n\u001b[0;32m   2878\u001b[0m     \u001b[1;32mif\u001b[0m \u001b[0mlen\u001b[0m\u001b[1;33m(\u001b[0m\u001b[0mdata\u001b[0m\u001b[1;33m)\u001b[0m \u001b[1;33m!=\u001b[0m \u001b[0mlen\u001b[0m\u001b[1;33m(\u001b[0m\u001b[0mindex\u001b[0m\u001b[1;33m)\u001b[0m\u001b[1;33m:\u001b[0m\u001b[1;33m\u001b[0m\u001b[0m\n\u001b[1;32m-> 2879\u001b[1;33m         \u001b[1;32mraise\u001b[0m \u001b[0mValueError\u001b[0m\u001b[1;33m(\u001b[0m\u001b[1;34m'Length of values does not match length of '\u001b[0m \u001b[1;34m'index'\u001b[0m\u001b[1;33m)\u001b[0m\u001b[1;33m\u001b[0m\u001b[0m\n\u001b[0m\u001b[0;32m   2880\u001b[0m \u001b[1;33m\u001b[0m\u001b[0m\n\u001b[0;32m   2881\u001b[0m     \u001b[1;32mif\u001b[0m \u001b[0misinstance\u001b[0m\u001b[1;33m(\u001b[0m\u001b[0mdata\u001b[0m\u001b[1;33m,\u001b[0m \u001b[0mPeriodIndex\u001b[0m\u001b[1;33m)\u001b[0m\u001b[1;33m:\u001b[0m\u001b[1;33m\u001b[0m\u001b[0m\n",
      "\u001b[1;31mValueError\u001b[0m: Length of values does not match length of index"
     ]
    }
   ],
   "source": [
    "#prevents running the tranformation of 'beats start' from string to list twice\n",
    "if(type(data['beats start'].head(1)[0]) == str):    \n",
    "    data['beats start'] = string_to_float_array(data[data['beats start'] != '[]'], 'beats start')"
   ]
  },
  {
   "cell_type": "code",
   "execution_count": null,
   "metadata": {
    "collapsed": true
   },
   "outputs": [],
   "source": [
    "serie = data['beats start'].head(1)"
   ]
  },
  {
   "cell_type": "code",
   "execution_count": 45,
   "metadata": {},
   "outputs": [
    {
     "ename": "TypeError",
     "evalue": "Empty 'DataFrame': no numeric data to plot",
     "output_type": "error",
     "traceback": [
      "\u001b[1;31m---------------------------------------------------------------------------\u001b[0m",
      "\u001b[1;31mTypeError\u001b[0m                                 Traceback (most recent call last)",
      "\u001b[1;32m<ipython-input-45-1d4a4931e365>\u001b[0m in \u001b[0;36m<module>\u001b[1;34m()\u001b[0m\n\u001b[1;32m----> 1\u001b[1;33m \u001b[0max\u001b[0m \u001b[1;33m=\u001b[0m \u001b[0mserie\u001b[0m\u001b[1;33m.\u001b[0m\u001b[0mplot\u001b[0m\u001b[1;33m(\u001b[0m\u001b[0mgrid\u001b[0m\u001b[1;33m=\u001b[0m\u001b[1;32mTrue\u001b[0m\u001b[1;33m,\u001b[0m \u001b[0mfigsize\u001b[0m\u001b[1;33m=\u001b[0m\u001b[1;33m(\u001b[0m\u001b[1;36m14\u001b[0m\u001b[1;33m,\u001b[0m \u001b[1;36m5\u001b[0m\u001b[1;33m)\u001b[0m\u001b[1;33m)\u001b[0m\u001b[1;33m;\u001b[0m\u001b[1;33m\u001b[0m\u001b[0m\n\u001b[0m\u001b[0;32m      2\u001b[0m \u001b[1;33m\u001b[0m\u001b[0m\n\u001b[0;32m      3\u001b[0m \u001b[0max\u001b[0m\u001b[1;33m.\u001b[0m\u001b[0mset_title\u001b[0m\u001b[1;33m(\u001b[0m\u001b[1;34m'Top-'\u001b[0m \u001b[1;33m+\u001b[0m \u001b[0mstr\u001b[0m\u001b[1;33m(\u001b[0m\u001b[0mtop\u001b[0m\u001b[1;33m)\u001b[0m \u001b[1;33m+\u001b[0m \u001b[1;34m' artist terms'\u001b[0m\u001b[1;33m,\u001b[0m \u001b[0mfontsize\u001b[0m\u001b[1;33m=\u001b[0m\u001b[1;36m14\u001b[0m\u001b[1;33m)\u001b[0m\u001b[1;33m\u001b[0m\u001b[0m\n\u001b[0;32m      4\u001b[0m \u001b[0max\u001b[0m\u001b[1;33m.\u001b[0m\u001b[0mset_xlabel\u001b[0m\u001b[1;33m(\u001b[0m\u001b[1;34m'artist terms'\u001b[0m\u001b[1;33m)\u001b[0m\u001b[1;33m\u001b[0m\u001b[0m\n\u001b[0;32m      5\u001b[0m \u001b[0max\u001b[0m\u001b[1;33m.\u001b[0m\u001b[0mset_ylabel\u001b[0m\u001b[1;33m(\u001b[0m\u001b[1;34m'number of occurences'\u001b[0m\u001b[1;33m)\u001b[0m\u001b[1;33m;\u001b[0m\u001b[1;33m\u001b[0m\u001b[0m\n",
      "\u001b[1;32mC:\\Users\\Emily\\Anaconda3\\lib\\site-packages\\pandas\\plotting\\_core.py\u001b[0m in \u001b[0;36m__call__\u001b[1;34m(self, kind, ax, figsize, use_index, title, grid, legend, style, logx, logy, loglog, xticks, yticks, xlim, ylim, rot, fontsize, colormap, table, yerr, xerr, label, secondary_y, **kwds)\u001b[0m\n\u001b[0;32m   2444\u001b[0m                            \u001b[0mcolormap\u001b[0m\u001b[1;33m=\u001b[0m\u001b[0mcolormap\u001b[0m\u001b[1;33m,\u001b[0m \u001b[0mtable\u001b[0m\u001b[1;33m=\u001b[0m\u001b[0mtable\u001b[0m\u001b[1;33m,\u001b[0m \u001b[0myerr\u001b[0m\u001b[1;33m=\u001b[0m\u001b[0myerr\u001b[0m\u001b[1;33m,\u001b[0m\u001b[1;33m\u001b[0m\u001b[0m\n\u001b[0;32m   2445\u001b[0m                            \u001b[0mxerr\u001b[0m\u001b[1;33m=\u001b[0m\u001b[0mxerr\u001b[0m\u001b[1;33m,\u001b[0m \u001b[0mlabel\u001b[0m\u001b[1;33m=\u001b[0m\u001b[0mlabel\u001b[0m\u001b[1;33m,\u001b[0m \u001b[0msecondary_y\u001b[0m\u001b[1;33m=\u001b[0m\u001b[0msecondary_y\u001b[0m\u001b[1;33m,\u001b[0m\u001b[1;33m\u001b[0m\u001b[0m\n\u001b[1;32m-> 2446\u001b[1;33m                            **kwds)\n\u001b[0m\u001b[0;32m   2447\u001b[0m     \u001b[0m__call__\u001b[0m\u001b[1;33m.\u001b[0m\u001b[0m__doc__\u001b[0m \u001b[1;33m=\u001b[0m \u001b[0mplot_series\u001b[0m\u001b[1;33m.\u001b[0m\u001b[0m__doc__\u001b[0m\u001b[1;33m\u001b[0m\u001b[0m\n\u001b[0;32m   2448\u001b[0m \u001b[1;33m\u001b[0m\u001b[0m\n",
      "\u001b[1;32mC:\\Users\\Emily\\Anaconda3\\lib\\site-packages\\pandas\\plotting\\_core.py\u001b[0m in \u001b[0;36mplot_series\u001b[1;34m(data, kind, ax, figsize, use_index, title, grid, legend, style, logx, logy, loglog, xticks, yticks, xlim, ylim, rot, fontsize, colormap, table, yerr, xerr, label, secondary_y, **kwds)\u001b[0m\n\u001b[0;32m   1886\u001b[0m                  \u001b[0myerr\u001b[0m\u001b[1;33m=\u001b[0m\u001b[0myerr\u001b[0m\u001b[1;33m,\u001b[0m \u001b[0mxerr\u001b[0m\u001b[1;33m=\u001b[0m\u001b[0mxerr\u001b[0m\u001b[1;33m,\u001b[0m\u001b[1;33m\u001b[0m\u001b[0m\n\u001b[0;32m   1887\u001b[0m                  \u001b[0mlabel\u001b[0m\u001b[1;33m=\u001b[0m\u001b[0mlabel\u001b[0m\u001b[1;33m,\u001b[0m \u001b[0msecondary_y\u001b[0m\u001b[1;33m=\u001b[0m\u001b[0msecondary_y\u001b[0m\u001b[1;33m,\u001b[0m\u001b[1;33m\u001b[0m\u001b[0m\n\u001b[1;32m-> 1888\u001b[1;33m                  **kwds)\n\u001b[0m\u001b[0;32m   1889\u001b[0m \u001b[1;33m\u001b[0m\u001b[0m\n\u001b[0;32m   1890\u001b[0m \u001b[1;33m\u001b[0m\u001b[0m\n",
      "\u001b[1;32mC:\\Users\\Emily\\Anaconda3\\lib\\site-packages\\pandas\\plotting\\_core.py\u001b[0m in \u001b[0;36m_plot\u001b[1;34m(data, x, y, subplots, ax, kind, **kwds)\u001b[0m\n\u001b[0;32m   1680\u001b[0m         \u001b[0mplot_obj\u001b[0m \u001b[1;33m=\u001b[0m \u001b[0mklass\u001b[0m\u001b[1;33m(\u001b[0m\u001b[0mdata\u001b[0m\u001b[1;33m,\u001b[0m \u001b[0msubplots\u001b[0m\u001b[1;33m=\u001b[0m\u001b[0msubplots\u001b[0m\u001b[1;33m,\u001b[0m \u001b[0max\u001b[0m\u001b[1;33m=\u001b[0m\u001b[0max\u001b[0m\u001b[1;33m,\u001b[0m \u001b[0mkind\u001b[0m\u001b[1;33m=\u001b[0m\u001b[0mkind\u001b[0m\u001b[1;33m,\u001b[0m \u001b[1;33m**\u001b[0m\u001b[0mkwds\u001b[0m\u001b[1;33m)\u001b[0m\u001b[1;33m\u001b[0m\u001b[0m\n\u001b[0;32m   1681\u001b[0m \u001b[1;33m\u001b[0m\u001b[0m\n\u001b[1;32m-> 1682\u001b[1;33m     \u001b[0mplot_obj\u001b[0m\u001b[1;33m.\u001b[0m\u001b[0mgenerate\u001b[0m\u001b[1;33m(\u001b[0m\u001b[1;33m)\u001b[0m\u001b[1;33m\u001b[0m\u001b[0m\n\u001b[0m\u001b[0;32m   1683\u001b[0m     \u001b[0mplot_obj\u001b[0m\u001b[1;33m.\u001b[0m\u001b[0mdraw\u001b[0m\u001b[1;33m(\u001b[0m\u001b[1;33m)\u001b[0m\u001b[1;33m\u001b[0m\u001b[0m\n\u001b[0;32m   1684\u001b[0m     \u001b[1;32mreturn\u001b[0m \u001b[0mplot_obj\u001b[0m\u001b[1;33m.\u001b[0m\u001b[0mresult\u001b[0m\u001b[1;33m\u001b[0m\u001b[0m\n",
      "\u001b[1;32mC:\\Users\\Emily\\Anaconda3\\lib\\site-packages\\pandas\\plotting\\_core.py\u001b[0m in \u001b[0;36mgenerate\u001b[1;34m(self)\u001b[0m\n\u001b[0;32m    234\u001b[0m     \u001b[1;32mdef\u001b[0m \u001b[0mgenerate\u001b[0m\u001b[1;33m(\u001b[0m\u001b[0mself\u001b[0m\u001b[1;33m)\u001b[0m\u001b[1;33m:\u001b[0m\u001b[1;33m\u001b[0m\u001b[0m\n\u001b[0;32m    235\u001b[0m         \u001b[0mself\u001b[0m\u001b[1;33m.\u001b[0m\u001b[0m_args_adjust\u001b[0m\u001b[1;33m(\u001b[0m\u001b[1;33m)\u001b[0m\u001b[1;33m\u001b[0m\u001b[0m\n\u001b[1;32m--> 236\u001b[1;33m         \u001b[0mself\u001b[0m\u001b[1;33m.\u001b[0m\u001b[0m_compute_plot_data\u001b[0m\u001b[1;33m(\u001b[0m\u001b[1;33m)\u001b[0m\u001b[1;33m\u001b[0m\u001b[0m\n\u001b[0m\u001b[0;32m    237\u001b[0m         \u001b[0mself\u001b[0m\u001b[1;33m.\u001b[0m\u001b[0m_setup_subplots\u001b[0m\u001b[1;33m(\u001b[0m\u001b[1;33m)\u001b[0m\u001b[1;33m\u001b[0m\u001b[0m\n\u001b[0;32m    238\u001b[0m         \u001b[0mself\u001b[0m\u001b[1;33m.\u001b[0m\u001b[0m_make_plot\u001b[0m\u001b[1;33m(\u001b[0m\u001b[1;33m)\u001b[0m\u001b[1;33m\u001b[0m\u001b[0m\n",
      "\u001b[1;32mC:\\Users\\Emily\\Anaconda3\\lib\\site-packages\\pandas\\plotting\\_core.py\u001b[0m in \u001b[0;36m_compute_plot_data\u001b[1;34m(self)\u001b[0m\n\u001b[0;32m    343\u001b[0m         \u001b[1;32mif\u001b[0m \u001b[0mis_empty\u001b[0m\u001b[1;33m:\u001b[0m\u001b[1;33m\u001b[0m\u001b[0m\n\u001b[0;32m    344\u001b[0m             raise TypeError('Empty {0!r}: no numeric data to '\n\u001b[1;32m--> 345\u001b[1;33m                             'plot'.format(numeric_data.__class__.__name__))\n\u001b[0m\u001b[0;32m    346\u001b[0m \u001b[1;33m\u001b[0m\u001b[0m\n\u001b[0;32m    347\u001b[0m         \u001b[0mself\u001b[0m\u001b[1;33m.\u001b[0m\u001b[0mdata\u001b[0m \u001b[1;33m=\u001b[0m \u001b[0mnumeric_data\u001b[0m\u001b[1;33m\u001b[0m\u001b[0m\n",
      "\u001b[1;31mTypeError\u001b[0m: Empty 'DataFrame': no numeric data to plot"
     ]
    }
   ],
   "source": [
    "ax = serie.plot(grid=True, figsize=(14, 5));\n",
    "    \n",
    "ax.set_title('Top-' + str(top) + ' artist terms', fontsize=14)\n",
    "ax.set_xlabel('artist terms')\n",
    "ax.set_ylabel('number of occurences');"
   ]
  },
  {
   "cell_type": "code",
   "execution_count": null,
   "metadata": {
    "collapsed": true
   },
   "outputs": [],
   "source": []
  },
  {
   "cell_type": "code",
   "execution_count": null,
   "metadata": {
    "collapsed": true
   },
   "outputs": [],
   "source": []
  },
  {
   "cell_type": "code",
   "execution_count": null,
   "metadata": {
    "collapsed": true
   },
   "outputs": [],
   "source": []
  },
  {
   "cell_type": "code",
   "execution_count": 410,
   "metadata": {},
   "outputs": [
    {
     "data": {
      "text/plain": [
       "<matplotlib.axes._subplots.AxesSubplot at 0x1e55d6dc3c8>"
      ]
     },
     "execution_count": 410,
     "metadata": {},
     "output_type": "execute_result"
    },
    {
     "data": {
      "image/png": "[encoded data removed]",
      "text/plain": [
       "<matplotlib.figure.Figure at 0x1e5568814e0>"
      ]
     },
     "metadata": {},
     "output_type": "display_data"
    }
   ],
   "source": [
    "data[data['year'] != 0].plot(kind='scatter', x='year', y='song hotttnesss')"
   ]
  },
  {
   "cell_type": "code",
   "execution_count": 514,
   "metadata": {},
   "outputs": [
    {
     "data": {
      "text/plain": [
       "1160    [teen pop, pop punk, pop rock, punk, pop, fema...\n",
       "2431    [southern rock, alternative rock, rock, nashvi...\n",
       "1427    [rock, singer-songwriter, folk, soundtrack, mo...\n",
       "2109    [reggae, hip hop, pop, jamaica, dancehall, rap...\n",
       "2351    [rap rock, funk metal, funk rock, heavy metal,...\n",
       "1208    [pop rock, all-female, ballad, europop, doo-wo...\n",
       "1594    [pop punk, punk, pop, punk pop, emo pop, emo, ...\n",
       "5699    [pop, rock, alternative, modern rock, clu pop ...\n",
       "5355    [neo soul, blues, soul, pop, urban, new york, ...\n",
       "6482    [jazz rap, hip hop, neo soul, chill-out, turna...\n",
       "539     [jazz funk, soul jazz, bossa nova, funk, chica...\n",
       "3277    [indie rock, rock, pop, alternative, alternati...\n",
       "3544    [experimental rock, post rock, progressive met...\n",
       "7917    [experimental rock, post rock, progressive met...\n",
       "6437    [dirty south rap, hard rock, hip hop, rap, roc...\n",
       "9137    [blues-rock, heavy metal, hard rock, classic r...\n",
       "9724    [blues-rock, garage rock, blues, alternative r...\n",
       "1354    [art rock, piano rock, indie pop, alternative ...\n",
       "7847    [alternative metal, post-grunge, alternative r...\n",
       "Name: artist terms, dtype: object"
      ]
     },
     "execution_count": 514,
     "metadata": {},
     "output_type": "execute_result"
    }
   ],
   "source": [
    "data[data['song hotttnesss'] > 0.9]['artist terms'].sort_values(ascending=False)"
   ]
  },
  {
   "cell_type": "code",
   "execution_count": 53,
   "metadata": {},
   "outputs": [
    {
     "data": {
      "image/png": "[encoded data removed]",
      "text/plain": [
       "<matplotlib.figure.Figure at 0x1635ac6e0b8>"
      ]
     },
     "metadata": {},
     "output_type": "display_data"
    }
   ],
   "source": [
    "data[data['song hotttnesss'] != 0].plot(kind='scatter', x='duration', y='song hotttnesss', figsize=(14,5));"
   ]
  },
  {
   "cell_type": "code",
   "execution_count": 147,
   "metadata": {
    "collapsed": true
   },
   "outputs": [],
   "source": [
    "#data['artist terms']"
   ]
  },
  {
   "cell_type": "code",
   "execution_count": 477,
   "metadata": {},
   "outputs": [
    {
     "data": {
      "text/plain": [
       "'[   0.58521    1.19196    1.78893    2.37813    2.94247    3.50622\\n    4.05077    4.56902    5.14371    5.76504    6.41767    7.08552\\n    7.74554    8.40279    9.05841    9.70913   10.36149   11.01057\\n   11.66783   12.32182   12.98399   13.63798   14.28872   14.94762\\n   15.59835   16.25463   16.9132    17.56272   18.21002   18.85198\\n   19.50271   20.16161   20.81724   21.47124   22.12232   22.76883\\n   23.41491   24.07314   24.72931   25.381     26.053     26.75695\\n   27.28786   27.82394   28.3656    28.90727   29.56053   30.13608\\n   30.65717   31.17374   31.67335   32.15958   32.62496   33.17838\\n   33.82211   34.47504   35.13502   35.7874    36.44331   37.10017\\n   37.74491   38.39728   39.04965   39.70366   40.35113   41.01003\\n   41.66893   42.32214   42.9643    43.61667   44.26169   44.91089\\n   45.5717    46.2311    46.88745   47.54129   48.18394   48.84123\\n   49.50972   50.1248    50.6717    51.22026   51.76914   52.41008\\n   53.05048   53.7015    54.3454    54.98674   55.64337   56.2978\\n   56.95219   57.60491   58.2525    58.90638   59.55657   60.2081\\n   60.86099   61.51007   62.15946   62.80754   63.45798   64.10933\\n   64.75832   65.40866   66.06481   66.71858   67.3715    68.02247\\n   68.66983   69.3248    69.97649   70.62653   71.2797    71.93259\\n   72.5852    73.237     73.8797    74.53533   75.17954   75.83844\\n   76.50713   77.1634    77.78643   78.28474   78.78305   79.43371\\n   80.11913   80.80266   81.31949   81.9098    82.56707   83.22597\\n   83.85548   84.48832   85.11534   85.71899   86.30792   86.92448\\n   87.57522   88.22922   88.88322   89.5343    90.1827    90.80242\\n   91.29827   91.80534   92.45445   93.11335   93.76572   94.42298\\n   95.06315   95.70006   96.33157   96.99542   97.67263   98.35839\\n   98.94974   99.45001  100.03675  100.69002  101.34328  101.99655\\n  102.64981  103.31161  103.9665   104.61578  105.23105  105.83833\\n  106.47832  107.12841  107.78165  108.43453  109.08217  109.73635\\n  110.38725  111.03816  111.69233  112.34487  112.99741  113.64967\\n  114.29426  114.94105  115.58235  116.22478  116.87464  117.52123\\n  118.17786  118.82975  119.48293  120.13085  120.78411  121.43684\\n  122.09068  122.74322  123.40036  124.04898  124.70218  125.3533   126.0023\\n  126.65858  127.30204  127.952    128.60328  129.25615  129.90896\\n  130.55674  131.21082  131.86299  132.51328  133.16574  133.82039\\n  134.47235  135.11666  135.77195  136.41989  137.06704  137.71969\\n  138.36015  139.02104  139.67306  140.31888  140.97508  141.63632\\n  142.28803  142.94028  143.59784  144.16306  144.65957  145.15875\\n  145.66061  146.22709  146.85985  147.50625  148.15968  148.81026\\n  149.46181  150.1183   150.77104  151.4252   152.08077  152.73061\\n  153.38742  154.04146  154.6871   155.33579  155.98586  156.63012\\n  157.27181  157.92064  158.56945  159.22183  159.87768  160.52574\\n  161.13148  161.65098  162.16179  162.66523  163.17129  163.67483\\n  164.23964  164.87078  165.50756  166.15181  166.80353  167.32644\\n  167.84934  168.37115  168.89297  169.55029  170.20492  170.84534  171.497\\n  172.17718  172.85136  173.54392  174.22309  174.86901  175.43549\\n  176.00198  176.63554  177.27352  177.91593  178.5628   179.20778\\n  179.85089  180.51087  181.17237  181.83538  182.49123  183.14453\\n  183.79528  184.44294  185.094    185.74844  186.40593  187.06341\\n  187.71971  188.37569  189.03133  189.68052  190.33069  190.98184\\n  191.6403   192.29919  192.95851  193.61642  194.27144  194.92354\\n  195.57597  196.2308   196.88803  197.54663  198.20273  198.85633\\n  199.50998  200.18402  200.87844  201.56144  202.21364  202.86443\\n  203.51613  204.16946  204.81944  205.4735   206.12699  206.77992\\n  207.43284  208.08454  208.73339  209.38599  210.04028  210.69298\\n  211.34574  211.99695  212.64633  213.29944  213.953    214.60515\\n  215.25862  215.91178  216.56334  217.21268  217.86633  218.51799]'"
      ]
     },
     "execution_count": 477,
     "metadata": {},
     "output_type": "execute_result"
    }
   ],
   "source": [
    "data['beats start'].head(1)[0]"
   ]
  },
  {
   "cell_type": "code",
   "execution_count": 20,
   "metadata": {},
   "outputs": [
    {
     "data": {
      "text/plain": [
       "['get_num_songs',\n",
       " 'get_artist_familiarity',\n",
       " 'get_artist_hotttnesss',\n",
       " 'get_artist_id',\n",
       " 'get_artist_mbid',\n",
       " 'get_artist_playmeid',\n",
       " 'get_artist_7digitalid',\n",
       " 'get_artist_latitude',\n",
       " 'get_artist_longitude',\n",
       " 'get_artist_location',\n",
       " 'get_artist_name',\n",
       " 'get_release',\n",
       " 'get_release_7digitalid',\n",
       " 'get_song_id',\n",
       " 'get_song_hotttnesss',\n",
       " 'get_title',\n",
       " 'get_track_7digitalid',\n",
       " 'get_similar_artists',\n",
       " 'get_artist_terms',\n",
       " 'get_artist_terms_freq',\n",
       " 'get_artist_terms_weight',\n",
       " 'get_analysis_sample_rate',\n",
       " 'get_audio_md5',\n",
       " 'get_danceability',\n",
       " 'get_duration',\n",
       " 'get_end_of_fade_in',\n",
       " 'get_energy',\n",
       " 'get_key',\n",
       " 'get_key_confidence',\n",
       " 'get_loudness',\n",
       " 'get_mode',\n",
       " 'get_mode_confidence',\n",
       " 'get_start_of_fade_out',\n",
       " 'get_tempo',\n",
       " 'get_time_signature',\n",
       " 'get_time_signature_confidence',\n",
       " 'get_track_id',\n",
       " 'get_segments_start',\n",
       " 'get_segments_confidence',\n",
       " 'get_segments_pitches',\n",
       " 'get_segments_timbre',\n",
       " 'get_segments_loudness_max',\n",
       " 'get_segments_loudness_max_time',\n",
       " 'get_segments_loudness_start',\n",
       " 'get_sections_start',\n",
       " 'get_sections_confidence',\n",
       " 'get_beats_start',\n",
       " 'get_beats_confidence',\n",
       " 'get_bars_start',\n",
       " 'get_bars_confidence',\n",
       " 'get_tatums_start',\n",
       " 'get_tatums_confidence',\n",
       " 'get_artist_mbtags',\n",
       " 'get_artist_mbtags_count',\n",
       " 'get_year']"
      ]
     },
     "execution_count": 20,
     "metadata": {},
     "output_type": "execute_result"
    }
   ],
   "source": [
    "all_getters"
   ]
  }
 ],
 "metadata": {
  "kernelspec": {
   "display_name": "Python 3",
   "language": "python",
   "name": "python3"
  },
  "language_info": {
   "codemirror_mode": {
    "name": "ipython",
    "version": 3
   },
   "file_extension": ".py",
   "mimetype": "text/x-python",
   "name": "python",
   "nbconvert_exporter": "python",
   "pygments_lexer": "ipython3",
   "version": "3.6.1"
  }
 },
 "nbformat": 4,
 "nbformat_minor": 2
}
