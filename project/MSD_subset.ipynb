{
 "cells": [
  {
   "cell_type": "markdown",
   "metadata": {},
   "source": [
    "# ADA Project: 2018's Best Hit"
   ]
  },
  {
   "cell_type": "code",
   "execution_count": 359,
   "metadata": {
    "collapsed": true
   },
   "outputs": [],
   "source": [
    "import numpy as np\n",
    "import pandas as pd\n",
    "\n",
    "import seaborn\n",
    "import matplotlib.pyplot as plt\n",
    "%matplotlib inline\n",
    "\n",
    "import os\n",
    "import glob\n",
    "import time\n",
    "\n",
    "import h5py\n",
    "import hdf5_getters\n",
    "from hdf5_getters import *\n",
    "\n",
    "from operator import methodcaller"
   ]
  },
  {
   "cell_type": "code",
   "execution_count": null,
   "metadata": {
    "collapsed": true
   },
   "outputs": [],
   "source": []
  },
  {
   "cell_type": "code",
   "execution_count": 307,
   "metadata": {
    "collapsed": true
   },
   "outputs": [],
   "source": [
    "def count_all_files(base_directory, ext='.h5') :\n",
    "    cnt = 0\n",
    "    for root, dirs, files in os.walk(base_directory):\n",
    "        files = glob.glob(os.path.join(root,'*'+ext))\n",
    "        cnt += len(files)\n",
    "    return cnt"
   ]
  },
  {
   "cell_type": "code",
   "execution_count": 308,
   "metadata": {
    "collapsed": true
   },
   "outputs": [],
   "source": [
    "def get_all(getter, base_directory, ext='.h5'):\n",
    "    values = []\n",
    "    for root, dirs, files in os.walk(base_directory):\n",
    "        files = glob.glob(os.path.join(root,'*'+ext))\n",
    "        for f in files:\n",
    "            h5 = hdf5_getters.open_h5_file_read(f)\n",
    "            values.append( getter(h5) )\n",
    "            h5.close()\n",
    "    return values"
   ]
  },
  {
   "cell_type": "code",
   "execution_count": 309,
   "metadata": {
    "collapsed": true
   },
   "outputs": [],
   "source": [
    "def get_file_fields(file, all_getters):\n",
    "    fields = []\n",
    "    for getter_name in all_getters:\n",
    "        getter = getattr(hdf5_getters, getter_name)\n",
    "        fields.append(getter(h5))\n",
    "    return fields"
   ]
  },
  {
   "cell_type": "code",
   "execution_count": null,
   "metadata": {
    "collapsed": true
   },
   "outputs": [],
   "source": []
  },
  {
   "cell_type": "code",
   "execution_count": 310,
   "metadata": {
    "collapsed": true
   },
   "outputs": [],
   "source": [
    "base_directory = './millionsongsubset_full/MillionSongSubset/data'"
   ]
  },
  {
   "cell_type": "code",
   "execution_count": 311,
   "metadata": {},
   "outputs": [
    {
     "name": "stdout",
     "output_type": "stream",
     "text": [
      "Number of songs: 10000\n"
     ]
    }
   ],
   "source": [
    "print('Number of songs:', count_all_files(base_directory))"
   ]
  },
  {
   "cell_type": "code",
   "execution_count": 312,
   "metadata": {},
   "outputs": [
    {
     "name": "stdout",
     "output_type": "stream",
     "text": [
      "['get_num_songs', 'get_artist_familiarity', 'get_artist_hotttnesss', 'get_artist_id', 'get_artist_mbid', 'get_artist_playmeid', 'get_artist_7digitalid', 'get_artist_latitude', 'get_artist_longitude', 'get_artist_location', 'get_artist_name', 'get_release', 'get_release_7digitalid', 'get_song_id', 'get_song_hotttnesss', 'get_title', 'get_track_7digitalid', 'get_similar_artists', 'get_artist_terms', 'get_artist_terms_freq', 'get_artist_terms_weight', 'get_analysis_sample_rate', 'get_audio_md5', 'get_danceability', 'get_duration', 'get_end_of_fade_in', 'get_energy', 'get_key', 'get_key_confidence', 'get_loudness', 'get_mode', 'get_mode_confidence', 'get_start_of_fade_out', 'get_tempo', 'get_time_signature', 'get_time_signature_confidence', 'get_track_id', 'get_segments_start', 'get_segments_confidence', 'get_segments_pitches', 'get_segments_timbre', 'get_segments_loudness_max', 'get_segments_loudness_max_time', 'get_segments_loudness_start', 'get_sections_start', 'get_sections_confidence', 'get_beats_start', 'get_beats_confidence', 'get_bars_start', 'get_bars_confidence', 'get_tatums_start', 'get_tatums_confidence', 'get_artist_mbtags', 'get_artist_mbtags_count', 'get_year']\n",
      "Number of getters: 55\n"
     ]
    }
   ],
   "source": [
    "all_getters = list(filter(lambda x: x[:3] == 'get',hdf5_getters.__dict__.keys()))\n",
    "print(all_getters)\n",
    "print('Number of getters:', len(all_getters))"
   ]
  },
  {
   "cell_type": "code",
   "execution_count": null,
   "metadata": {
    "collapsed": true
   },
   "outputs": [],
   "source": []
  },
  {
   "cell_type": "code",
   "execution_count": null,
   "metadata": {
    "collapsed": true
   },
   "outputs": [],
   "source": []
  },
  {
   "cell_type": "markdown",
   "metadata": {},
   "source": [
    "#### Building the dataframe (only subset)\n",
    "\n",
    "*note: skip this section if the dataframe has  already been saved to .csv*"
   ]
  },
  {
   "cell_type": "code",
   "execution_count": null,
   "metadata": {
    "collapsed": true
   },
   "outputs": [],
   "source": [
    "#iterate over all the .h5 files, starting from the base directory\n",
    "#note: takes between ~8 to ~10 minutes\n",
    "start_time = time.time()\n",
    "\n",
    "values = []\n",
    "ext = '.h5'\n",
    "\n",
    "for root, dirs, files in os.walk(base_directory):\n",
    "    files = glob.glob(os.path.join(root, '*'+ext))\n",
    "    for f in files:\n",
    "        h5 = hdf5_getters.open_h5_file_read(f)\n",
    "        values.append(get_file_fields(h5, all_getters))\n",
    "        h5.close()        \n",
    "\n",
    "print(\"--- Execution time: %s seconds ---\" % (time.time() - start_time))"
   ]
  },
  {
   "cell_type": "code",
   "execution_count": null,
   "metadata": {
    "collapsed": true
   },
   "outputs": [],
   "source": [
    "#create the column names from the getter names\n",
    "column_names = []\n",
    "for getter_name in all_getters:\n",
    "    column_names.append(getter_name[4:].replace('_', ' '))"
   ]
  },
  {
   "cell_type": "code",
   "execution_count": null,
   "metadata": {
    "collapsed": true
   },
   "outputs": [],
   "source": [
    "#create a dataframe with the given column names\n",
    "data = pd.DataFrame(columns=column_names)\n",
    "data.head()"
   ]
  },
  {
   "cell_type": "code",
   "execution_count": null,
   "metadata": {
    "collapsed": true
   },
   "outputs": [],
   "source": [
    "#fill the dataframe row by row\n",
    "nb_entries = len(values)\n",
    "for i in range(0, nb_entries):\n",
    "    data.loc[i] = values[i]"
   ]
  },
  {
   "cell_type": "code",
   "execution_count": null,
   "metadata": {
    "collapsed": true
   },
   "outputs": [],
   "source": [
    "data.head()"
   ]
  },
  {
   "cell_type": "code",
   "execution_count": null,
   "metadata": {
    "collapsed": true
   },
   "outputs": [],
   "source": [
    "#write the dataframe to a .csv file\n",
    "#note: takes several minutes\n",
    "start_time = time.time()\n",
    "data.to_csv('msd_data.csv', sep='\\t', encoding='utf-8')\n",
    "print(\"--- Execution time: %s seconds ---\" % (time.time() - start_time))"
   ]
  },
  {
   "cell_type": "code",
   "execution_count": null,
   "metadata": {
    "collapsed": true
   },
   "outputs": [],
   "source": []
  },
  {
   "cell_type": "markdown",
   "metadata": {},
   "source": [
    "#### Retrieving the dataframe"
   ]
  },
  {
   "cell_type": "code",
   "execution_count": 417,
   "metadata": {},
   "outputs": [
    {
     "data": {
      "text/html": [
       "<div>\n",
       "<style>\n",
       "    .dataframe thead tr:only-child th {\n",
       "        text-align: right;\n",
       "    }\n",
       "\n",
       "    .dataframe thead th {\n",
       "        text-align: left;\n",
       "    }\n",
       "\n",
       "    .dataframe tbody tr th {\n",
       "        vertical-align: top;\n",
       "    }\n",
       "</style>\n",
       "<table border=\"1\" class=\"dataframe\">\n",
       "  <thead>\n",
       "    <tr style=\"text-align: right;\">\n",
       "      <th></th>\n",
       "      <th>num songs</th>\n",
       "      <th>artist familiarity</th>\n",
       "      <th>artist hotttnesss</th>\n",
       "      <th>artist id</th>\n",
       "      <th>artist mbid</th>\n",
       "      <th>artist playmeid</th>\n",
       "      <th>artist 7digitalid</th>\n",
       "      <th>artist latitude</th>\n",
       "      <th>artist longitude</th>\n",
       "      <th>artist location</th>\n",
       "      <th>...</th>\n",
       "      <th>sections confidence</th>\n",
       "      <th>beats start</th>\n",
       "      <th>beats confidence</th>\n",
       "      <th>bars start</th>\n",
       "      <th>bars confidence</th>\n",
       "      <th>tatums start</th>\n",
       "      <th>tatums confidence</th>\n",
       "      <th>artist mbtags</th>\n",
       "      <th>artist mbtags count</th>\n",
       "      <th>year</th>\n",
       "    </tr>\n",
       "  </thead>\n",
       "  <tbody>\n",
       "    <tr>\n",
       "      <th>0</th>\n",
       "      <td>1</td>\n",
       "      <td>0.581794</td>\n",
       "      <td>0.401998</td>\n",
       "      <td>b'ARD7TVE1187B99BFB1'</td>\n",
       "      <td>b'e77e51a5-4761-45b3-9847-2051f811e366'</td>\n",
       "      <td>4479</td>\n",
       "      <td>165270</td>\n",
       "      <td>NaN</td>\n",
       "      <td>NaN</td>\n",
       "      <td>b'California - LA'</td>\n",
       "      <td>...</td>\n",
       "      <td>[ 1.     1.     0.218  0.133  0.384  0.326  0....</td>\n",
       "      <td>[   0.58521    1.19196    1.78893    2.37813  ...</td>\n",
       "      <td>[ 0.834  0.851  0.65   0.635  0.532  0.753  0....</td>\n",
       "      <td>[   0.58521    2.94247    5.14371    7.74554  ...</td>\n",
       "      <td>[ 0.643  0.746  0.722  0.095  0.091  0.362  0....</td>\n",
       "      <td>[   0.28519    0.58521    0.89422    1.19196  ...</td>\n",
       "      <td>[ 0.779  0.734  0.674  0.637  0.597  0.532  0....</td>\n",
       "      <td>[]</td>\n",
       "      <td>[]</td>\n",
       "      <td>0</td>\n",
       "    </tr>\n",
       "    <tr>\n",
       "      <th>1</th>\n",
       "      <td>1</td>\n",
       "      <td>0.630630</td>\n",
       "      <td>0.417500</td>\n",
       "      <td>b'ARMJAGH1187FB546F3'</td>\n",
       "      <td>b'1c78ab62-db33-4433-8d0b-7c8dcf1849c2'</td>\n",
       "      <td>22066</td>\n",
       "      <td>1998</td>\n",
       "      <td>35.14968</td>\n",
       "      <td>-90.04892</td>\n",
       "      <td>b'Memphis, TN'</td>\n",
       "      <td>...</td>\n",
       "      <td>[ 1.     0.451  0.27   0.397  0.225  0.426  0....</td>\n",
       "      <td>[   0.20627    0.71054    1.21836    1.71841  ...</td>\n",
       "      <td>[ 1.     0.945  0.714  0.973  0.818  0.974  0....</td>\n",
       "      <td>[   0.71054    2.71502    4.70861    6.69288  ...</td>\n",
       "      <td>[ 0.007  0.259  0.172  0.404  0.011  0.016  0....</td>\n",
       "      <td>[   0.20627    0.45904    0.71054    0.96834  ...</td>\n",
       "      <td>[ 0.969  0.929  0.897  0.871  0.856  0.845  0....</td>\n",
       "      <td>[b'classic pop and rock']</td>\n",
       "      <td>[1]</td>\n",
       "      <td>1969</td>\n",
       "    </tr>\n",
       "    <tr>\n",
       "      <th>2</th>\n",
       "      <td>1</td>\n",
       "      <td>0.487357</td>\n",
       "      <td>0.343428</td>\n",
       "      <td>b'ARKRRTF1187B9984DA'</td>\n",
       "      <td>b'7a273984-edd9-4451-9c4d-39b38f05ebcd'</td>\n",
       "      <td>13951</td>\n",
       "      <td>290021</td>\n",
       "      <td>NaN</td>\n",
       "      <td>NaN</td>\n",
       "      <td>b''</td>\n",
       "      <td>...</td>\n",
       "      <td>[ 1.     0.121  0.214  0.198  0.66   0.468  0....</td>\n",
       "      <td>[   0.73152    1.39732    2.04852    2.68691  ...</td>\n",
       "      <td>[ 0.98   0.399  0.185  0.27   0.422  0.     0....</td>\n",
       "      <td>[   0.73152    1.39732    2.04852    2.68691  ...</td>\n",
       "      <td>[ 0.98   0.399  0.185  0.27   0.422  0.     0....</td>\n",
       "      <td>[   0.42132    0.73152    1.06609    1.39732  ...</td>\n",
       "      <td>[ 0.482  0.676  0.627  0.549  0.279  0.264  0....</td>\n",
       "      <td>[]</td>\n",
       "      <td>[]</td>\n",
       "      <td>0</td>\n",
       "    </tr>\n",
       "    <tr>\n",
       "      <th>3</th>\n",
       "      <td>1</td>\n",
       "      <td>0.630382</td>\n",
       "      <td>0.454231</td>\n",
       "      <td>b'AR7G5I41187FB4CE6C'</td>\n",
       "      <td>b'e188a520-9cb7-4f73-a3d7-2f70c6538e92'</td>\n",
       "      <td>12697</td>\n",
       "      <td>19072</td>\n",
       "      <td>NaN</td>\n",
       "      <td>NaN</td>\n",
       "      <td>b'London, England'</td>\n",
       "      <td>...</td>\n",
       "      <td>[ 1.     0.086  0.153  0.146  0.088  0.217  0....</td>\n",
       "      <td>[   0.81002    1.30621    1.80617    2.2996   ...</td>\n",
       "      <td>[ 0.809  0.616  0.789  0.66   0.439  0.758  0....</td>\n",
       "      <td>[   1.30621    3.29887    5.30252    7.32327  ...</td>\n",
       "      <td>[ 0.017  0.05   0.014  0.008  0.114  0.019  0....</td>\n",
       "      <td>[   0.56254    0.81002    1.05749    1.30621  ...</td>\n",
       "      <td>[ 0.601  0.556  0.523  0.49   0.466  0.44   0....</td>\n",
       "      <td>[b'uk' b'british' b'english']</td>\n",
       "      <td>[1 1 1]</td>\n",
       "      <td>1982</td>\n",
       "    </tr>\n",
       "    <tr>\n",
       "      <th>4</th>\n",
       "      <td>1</td>\n",
       "      <td>0.651046</td>\n",
       "      <td>0.401724</td>\n",
       "      <td>b'ARXR32B1187FB57099'</td>\n",
       "      <td>b'c6903a2e-063c-4f91-a284-17b8f421be7b'</td>\n",
       "      <td>8355</td>\n",
       "      <td>30973</td>\n",
       "      <td>NaN</td>\n",
       "      <td>NaN</td>\n",
       "      <td>b''</td>\n",
       "      <td>...</td>\n",
       "      <td>[ 1.     0.768  0.611  0.388  0.52   0.42   0....</td>\n",
       "      <td>[  1.35760000e-01   5.99140000e-01   1.0636800...</td>\n",
       "      <td>[ 0.883  0.738  0.484  0.609  0.625  0.719  0....</td>\n",
       "      <td>[   1.06368    2.91491    4.76729    6.61852  ...</td>\n",
       "      <td>[ 0.175  0.409  0.639  0.067  0.016  0.066  0....</td>\n",
       "      <td>[  1.35760000e-01   3.69180000e-01   5.9914000...</td>\n",
       "      <td>[ 1.     0.98   0.932  0.87   0.82   0.793  0....</td>\n",
       "      <td>[]</td>\n",
       "      <td>[]</td>\n",
       "      <td>2007</td>\n",
       "    </tr>\n",
       "  </tbody>\n",
       "</table>\n",
       "<p>5 rows × 55 columns</p>\n",
       "</div>"
      ],
      "text/plain": [
       "   num songs  artist familiarity  artist hotttnesss              artist id  \\\n",
       "0          1            0.581794           0.401998  b'ARD7TVE1187B99BFB1'   \n",
       "1          1            0.630630           0.417500  b'ARMJAGH1187FB546F3'   \n",
       "2          1            0.487357           0.343428  b'ARKRRTF1187B9984DA'   \n",
       "3          1            0.630382           0.454231  b'AR7G5I41187FB4CE6C'   \n",
       "4          1            0.651046           0.401724  b'ARXR32B1187FB57099'   \n",
       "\n",
       "                               artist mbid  artist playmeid  \\\n",
       "0  b'e77e51a5-4761-45b3-9847-2051f811e366'             4479   \n",
       "1  b'1c78ab62-db33-4433-8d0b-7c8dcf1849c2'            22066   \n",
       "2  b'7a273984-edd9-4451-9c4d-39b38f05ebcd'            13951   \n",
       "3  b'e188a520-9cb7-4f73-a3d7-2f70c6538e92'            12697   \n",
       "4  b'c6903a2e-063c-4f91-a284-17b8f421be7b'             8355   \n",
       "\n",
       "   artist 7digitalid  artist latitude  artist longitude     artist location  \\\n",
       "0             165270              NaN               NaN  b'California - LA'   \n",
       "1               1998         35.14968         -90.04892      b'Memphis, TN'   \n",
       "2             290021              NaN               NaN                 b''   \n",
       "3              19072              NaN               NaN  b'London, England'   \n",
       "4              30973              NaN               NaN                 b''   \n",
       "\n",
       "   ...                                 sections confidence  \\\n",
       "0  ...   [ 1.     1.     0.218  0.133  0.384  0.326  0....   \n",
       "1  ...   [ 1.     0.451  0.27   0.397  0.225  0.426  0....   \n",
       "2  ...   [ 1.     0.121  0.214  0.198  0.66   0.468  0....   \n",
       "3  ...   [ 1.     0.086  0.153  0.146  0.088  0.217  0....   \n",
       "4  ...   [ 1.     0.768  0.611  0.388  0.52   0.42   0....   \n",
       "\n",
       "                                         beats start  \\\n",
       "0  [   0.58521    1.19196    1.78893    2.37813  ...   \n",
       "1  [   0.20627    0.71054    1.21836    1.71841  ...   \n",
       "2  [   0.73152    1.39732    2.04852    2.68691  ...   \n",
       "3  [   0.81002    1.30621    1.80617    2.2996   ...   \n",
       "4  [  1.35760000e-01   5.99140000e-01   1.0636800...   \n",
       "\n",
       "                                    beats confidence  \\\n",
       "0  [ 0.834  0.851  0.65   0.635  0.532  0.753  0....   \n",
       "1  [ 1.     0.945  0.714  0.973  0.818  0.974  0....   \n",
       "2  [ 0.98   0.399  0.185  0.27   0.422  0.     0....   \n",
       "3  [ 0.809  0.616  0.789  0.66   0.439  0.758  0....   \n",
       "4  [ 0.883  0.738  0.484  0.609  0.625  0.719  0....   \n",
       "\n",
       "                                          bars start  \\\n",
       "0  [   0.58521    2.94247    5.14371    7.74554  ...   \n",
       "1  [   0.71054    2.71502    4.70861    6.69288  ...   \n",
       "2  [   0.73152    1.39732    2.04852    2.68691  ...   \n",
       "3  [   1.30621    3.29887    5.30252    7.32327  ...   \n",
       "4  [   1.06368    2.91491    4.76729    6.61852  ...   \n",
       "\n",
       "                                     bars confidence  \\\n",
       "0  [ 0.643  0.746  0.722  0.095  0.091  0.362  0....   \n",
       "1  [ 0.007  0.259  0.172  0.404  0.011  0.016  0....   \n",
       "2  [ 0.98   0.399  0.185  0.27   0.422  0.     0....   \n",
       "3  [ 0.017  0.05   0.014  0.008  0.114  0.019  0....   \n",
       "4  [ 0.175  0.409  0.639  0.067  0.016  0.066  0....   \n",
       "\n",
       "                                        tatums start  \\\n",
       "0  [   0.28519    0.58521    0.89422    1.19196  ...   \n",
       "1  [   0.20627    0.45904    0.71054    0.96834  ...   \n",
       "2  [   0.42132    0.73152    1.06609    1.39732  ...   \n",
       "3  [   0.56254    0.81002    1.05749    1.30621  ...   \n",
       "4  [  1.35760000e-01   3.69180000e-01   5.9914000...   \n",
       "\n",
       "                                   tatums confidence  \\\n",
       "0  [ 0.779  0.734  0.674  0.637  0.597  0.532  0....   \n",
       "1  [ 0.969  0.929  0.897  0.871  0.856  0.845  0....   \n",
       "2  [ 0.482  0.676  0.627  0.549  0.279  0.264  0....   \n",
       "3  [ 0.601  0.556  0.523  0.49   0.466  0.44   0....   \n",
       "4  [ 1.     0.98   0.932  0.87   0.82   0.793  0....   \n",
       "\n",
       "                   artist mbtags artist mbtags count  year  \n",
       "0                             []                  []     0  \n",
       "1      [b'classic pop and rock']                 [1]  1969  \n",
       "2                             []                  []     0  \n",
       "3  [b'uk' b'british' b'english']             [1 1 1]  1982  \n",
       "4                             []                  []  2007  \n",
       "\n",
       "[5 rows x 55 columns]"
      ]
     },
     "execution_count": 417,
     "metadata": {},
     "output_type": "execute_result"
    }
   ],
   "source": [
    "data = pd.read_csv('msd_data_save.csv', sep='\\t', index_col=0)\n",
    "data.head()"
   ]
  },
  {
   "cell_type": "markdown",
   "metadata": {},
   "source": [
    "#### Basic statistics\n",
    "\n",
    "- ranges, mean, median, ...\n",
    "- graphs"
   ]
  },
  {
   "cell_type": "markdown",
   "metadata": {},
   "source": [
    "We give a basic overview of the (most important) features of the songs, using pandas `describe()` method."
   ]
  },
  {
   "cell_type": "code",
   "execution_count": 110,
   "metadata": {
    "collapsed": true
   },
   "outputs": [],
   "source": [
    "def describe(data, column, include_undefined):\n",
    "    if(include_undefined):\n",
    "        return pd.DataFrame(data[column]).describe()\n",
    "    else:\n",
    "        return pd.DataFrame(data[data[column] != 0][column]).describe()\n",
    "                        "
   ]
  },
  {
   "cell_type": "code",
   "execution_count": 135,
   "metadata": {
    "collapsed": true
   },
   "outputs": [],
   "source": [
    "def set_ticks_wtih_step(ax, step):\n",
    "    ticks = ax.xaxis.get_ticklocs()\n",
    "    ticklabels = [l.get_text() for l in ax.xaxis.get_ticklabels()]\n",
    "    ax.xaxis.set_ticks(ticks[::step])\n",
    "    ax.xaxis.set_ticklabels(ticklabels[::step]);"
   ]
  },
  {
   "cell_type": "markdown",
   "metadata": {},
   "source": [
    "#### Release year"
   ]
  },
  {
   "cell_type": "code",
   "execution_count": 108,
   "metadata": {},
   "outputs": [
    {
     "data": {
      "text/html": [
       "<div>\n",
       "<style>\n",
       "    .dataframe thead tr:only-child th {\n",
       "        text-align: right;\n",
       "    }\n",
       "\n",
       "    .dataframe thead th {\n",
       "        text-align: left;\n",
       "    }\n",
       "\n",
       "    .dataframe tbody tr th {\n",
       "        vertical-align: top;\n",
       "    }\n",
       "</style>\n",
       "<table border=\"1\" class=\"dataframe\">\n",
       "  <thead>\n",
       "    <tr style=\"text-align: right;\">\n",
       "      <th></th>\n",
       "      <th>year</th>\n",
       "    </tr>\n",
       "  </thead>\n",
       "  <tbody>\n",
       "    <tr>\n",
       "      <th>count</th>\n",
       "      <td>10000.000000</td>\n",
       "    </tr>\n",
       "    <tr>\n",
       "      <th>mean</th>\n",
       "      <td>934.704600</td>\n",
       "    </tr>\n",
       "    <tr>\n",
       "      <th>std</th>\n",
       "      <td>996.650657</td>\n",
       "    </tr>\n",
       "    <tr>\n",
       "      <th>min</th>\n",
       "      <td>0.000000</td>\n",
       "    </tr>\n",
       "    <tr>\n",
       "      <th>25%</th>\n",
       "      <td>0.000000</td>\n",
       "    </tr>\n",
       "    <tr>\n",
       "      <th>50%</th>\n",
       "      <td>0.000000</td>\n",
       "    </tr>\n",
       "    <tr>\n",
       "      <th>75%</th>\n",
       "      <td>2000.000000</td>\n",
       "    </tr>\n",
       "    <tr>\n",
       "      <th>max</th>\n",
       "      <td>2010.000000</td>\n",
       "    </tr>\n",
       "  </tbody>\n",
       "</table>\n",
       "</div>"
      ],
      "text/plain": [
       "               year\n",
       "count  10000.000000\n",
       "mean     934.704600\n",
       "std      996.650657\n",
       "min        0.000000\n",
       "25%        0.000000\n",
       "50%        0.000000\n",
       "75%     2000.000000\n",
       "max     2010.000000"
      ]
     },
     "execution_count": 108,
     "metadata": {},
     "output_type": "execute_result"
    }
   ],
   "source": [
    "describe(data, 'year', True)"
   ]
  },
  {
   "cell_type": "markdown",
   "metadata": {},
   "source": [
    "We see that the minimum `year` is 0, which actually stands for `undefined`. In our statistics, we will from now on not include those songs for which a certain feature is undefined, as this would bias the distributions."
   ]
  },
  {
   "cell_type": "code",
   "execution_count": 111,
   "metadata": {},
   "outputs": [
    {
     "data": {
      "text/html": [
       "<div>\n",
       "<style>\n",
       "    .dataframe thead tr:only-child th {\n",
       "        text-align: right;\n",
       "    }\n",
       "\n",
       "    .dataframe thead th {\n",
       "        text-align: left;\n",
       "    }\n",
       "\n",
       "    .dataframe tbody tr th {\n",
       "        vertical-align: top;\n",
       "    }\n",
       "</style>\n",
       "<table border=\"1\" class=\"dataframe\">\n",
       "  <thead>\n",
       "    <tr style=\"text-align: right;\">\n",
       "      <th></th>\n",
       "      <th>year</th>\n",
       "    </tr>\n",
       "  </thead>\n",
       "  <tbody>\n",
       "    <tr>\n",
       "      <th>count</th>\n",
       "      <td>4680.000000</td>\n",
       "    </tr>\n",
       "    <tr>\n",
       "      <th>mean</th>\n",
       "      <td>1997.232051</td>\n",
       "    </tr>\n",
       "    <tr>\n",
       "      <th>std</th>\n",
       "      <td>11.686691</td>\n",
       "    </tr>\n",
       "    <tr>\n",
       "      <th>min</th>\n",
       "      <td>1926.000000</td>\n",
       "    </tr>\n",
       "    <tr>\n",
       "      <th>25%</th>\n",
       "      <td>1993.000000</td>\n",
       "    </tr>\n",
       "    <tr>\n",
       "      <th>50%</th>\n",
       "      <td>2001.000000</td>\n",
       "    </tr>\n",
       "    <tr>\n",
       "      <th>75%</th>\n",
       "      <td>2006.000000</td>\n",
       "    </tr>\n",
       "    <tr>\n",
       "      <th>max</th>\n",
       "      <td>2010.000000</td>\n",
       "    </tr>\n",
       "  </tbody>\n",
       "</table>\n",
       "</div>"
      ],
      "text/plain": [
       "              year\n",
       "count  4680.000000\n",
       "mean   1997.232051\n",
       "std      11.686691\n",
       "min    1926.000000\n",
       "25%    1993.000000\n",
       "50%    2001.000000\n",
       "75%    2006.000000\n",
       "max    2010.000000"
      ]
     },
     "execution_count": 111,
     "metadata": {},
     "output_type": "execute_result"
    }
   ],
   "source": [
    "describe(data, 'year', False)"
   ]
  },
  {
   "cell_type": "markdown",
   "metadata": {},
   "source": [
    "Now the earliest `year` is 1926, which indeed appears to  be more realistic. The majority of the songs in the dataset has been released in the last 20 years, although the most recent ones date back to 2010 already. "
   ]
  },
  {
   "cell_type": "code",
   "execution_count": 124,
   "metadata": {
    "scrolled": true
   },
   "outputs": [
    {
     "data": {
      "image/png": "[encoded data removed]",
      "text/plain": [
       "<matplotlib.figure.Figure at 0x1e559bf14a8>"
      ]
     },
     "metadata": {},
     "output_type": "display_data"
    }
   ],
   "source": [
    "ax = data[data['year'] > 0]['year'].value_counts()\\\n",
    "                                   .sort_index()\\\n",
    "                                   .plot(kind='bar',\n",
    "                                         grid=True,\n",
    "                                         figsize=(14, 5));\n",
    "        \n",
    "ax.set_title('Year distribution', fontsize=14)\n",
    "ax.set_xlabel('year')\n",
    "ax.set_ylabel('number of songs');"
   ]
  },
  {
   "cell_type": "markdown",
   "metadata": {},
   "source": [
    "Most of the songs we are going to deal with came out in 2000 and later. Hopefully, the ones which were popular in 2011, when the Million Song Dataset was created, remain so to these days. Otherwise, predicting the 2018's best hit might prove more challenging than expected!"
   ]
  },
  {
   "cell_type": "markdown",
   "metadata": {},
   "source": [
    "#### Song hotttnesss"
   ]
  },
  {
   "cell_type": "code",
   "execution_count": 125,
   "metadata": {
    "scrolled": true
   },
   "outputs": [
    {
     "data": {
      "text/html": [
       "<div>\n",
       "<style>\n",
       "    .dataframe thead tr:only-child th {\n",
       "        text-align: right;\n",
       "    }\n",
       "\n",
       "    .dataframe thead th {\n",
       "        text-align: left;\n",
       "    }\n",
       "\n",
       "    .dataframe tbody tr th {\n",
       "        vertical-align: top;\n",
       "    }\n",
       "</style>\n",
       "<table border=\"1\" class=\"dataframe\">\n",
       "  <thead>\n",
       "    <tr style=\"text-align: right;\">\n",
       "      <th></th>\n",
       "      <th>song hotttnesss</th>\n",
       "    </tr>\n",
       "  </thead>\n",
       "  <tbody>\n",
       "    <tr>\n",
       "      <th>count</th>\n",
       "      <td>4214.000000</td>\n",
       "    </tr>\n",
       "    <tr>\n",
       "      <th>mean</th>\n",
       "      <td>0.459482</td>\n",
       "    </tr>\n",
       "    <tr>\n",
       "      <th>std</th>\n",
       "      <td>0.168239</td>\n",
       "    </tr>\n",
       "    <tr>\n",
       "      <th>min</th>\n",
       "      <td>0.187895</td>\n",
       "    </tr>\n",
       "    <tr>\n",
       "      <th>25%</th>\n",
       "      <td>0.313562</td>\n",
       "    </tr>\n",
       "    <tr>\n",
       "      <th>50%</th>\n",
       "      <td>0.450762</td>\n",
       "    </tr>\n",
       "    <tr>\n",
       "      <th>75%</th>\n",
       "      <td>0.586366</td>\n",
       "    </tr>\n",
       "    <tr>\n",
       "      <th>max</th>\n",
       "      <td>1.000000</td>\n",
       "    </tr>\n",
       "  </tbody>\n",
       "</table>\n",
       "</div>"
      ],
      "text/plain": [
       "       song hotttnesss\n",
       "count      4214.000000\n",
       "mean          0.459482\n",
       "std           0.168239\n",
       "min           0.187895\n",
       "25%           0.313562\n",
       "50%           0.450762\n",
       "75%           0.586366\n",
       "max           1.000000"
      ]
     },
     "execution_count": 125,
     "metadata": {},
     "output_type": "execute_result"
    }
   ],
   "source": [
    "describe(data, 'song hotttnesss', False)"
   ]
  },
  {
   "cell_type": "code",
   "execution_count": 150,
   "metadata": {
    "scrolled": true
   },
   "outputs": [
    {
     "data": {
      "image/png": "[encoded data removed]",
      "text/plain": [
       "<matplotlib.figure.Figure at 0x1e554563d30>"
      ]
     },
     "metadata": {},
     "output_type": "display_data"
    }
   ],
   "source": [
    "#round the 'song hotttnesss' to the nearest hundredth, in order to limit the number of buckets\n",
    "ax = round(data[data['song hotttnesss'] > 0]['song hotttnesss'], 2).value_counts()\\\n",
    "                                                                   .sort_index()\\\n",
    "                                                                   .plot(kind='bar',\n",
    "                                                                         grid=True,\n",
    "                                                                         figsize=(14, 5));\n",
    "\n",
    "ax.set_title('Song hotttnesss distribution', fontsize=14)\n",
    "ax.set_xlabel('song hotttnesss')\n",
    "ax.set_ylabel('number of songs');\n",
    "set_ticks_wtih_step(ax, 2)"
   ]
  },
  {
   "cell_type": "markdown",
   "metadata": {},
   "source": [
    "*Unknown ditribution...*"
   ]
  },
  {
   "cell_type": "markdown",
   "metadata": {},
   "source": [
    "#### Artist hotttnesss"
   ]
  },
  {
   "cell_type": "code",
   "execution_count": 143,
   "metadata": {},
   "outputs": [
    {
     "data": {
      "image/png": "[encoded data removed]",
      "text/plain": [
       "<matplotlib.figure.Figure at 0x1e556bedd68>"
      ]
     },
     "metadata": {},
     "output_type": "display_data"
    }
   ],
   "source": [
    "#round the 'song hotttnesss' to the nearest hundredth, in order to limit the number of buckets\n",
    "ax = round(data[data['artist hotttnesss'] > 0]['artist hotttnesss'], 2).value_counts()\\\n",
    "                                                                       .sort_index()\\\n",
    "                                                                       .plot(kind='bar',\n",
    "                                                                             grid=True,\n",
    "                                                                             figsize=(14, 5));\n",
    "ax.set_title('Artist hotttnesss distribution', fontsize=14)\n",
    "ax.set_xlabel('artist hotttnesss')\n",
    "ax.set_ylabel('number of songs');\n",
    "set_ticks_wtih_step(ax, 2)"
   ]
  },
  {
   "cell_type": "markdown",
   "metadata": {},
   "source": [
    "*Oh....! Gaussian-like distribution...! ... or is it lognormal...?*"
   ]
  },
  {
   "cell_type": "markdown",
   "metadata": {},
   "source": [
    "#### Song duration"
   ]
  },
  {
   "cell_type": "code",
   "execution_count": 33,
   "metadata": {},
   "outputs": [
    {
     "data": {
      "text/plain": [
       "0    218.93179\n",
       "1    148.03546\n",
       "2    177.47546\n",
       "3    233.40363\n",
       "4    209.60608\n",
       "Name: duration, dtype: float64"
      ]
     },
     "execution_count": 33,
     "metadata": {},
     "output_type": "execute_result"
    }
   ],
   "source": [
    "data['duration'].head()"
   ]
  },
  {
   "cell_type": "code",
   "execution_count": 67,
   "metadata": {},
   "outputs": [
    {
     "data": {
      "text/plain": [
       "1819"
      ]
     },
     "execution_count": 67,
     "metadata": {},
     "output_type": "execute_result"
    }
   ],
   "source": [
    "int(data['duration'].max())"
   ]
  },
  {
   "cell_type": "code",
   "execution_count": 146,
   "metadata": {
    "scrolled": true
   },
   "outputs": [
    {
     "data": {
      "image/png": "[encoded data removed]",
      "text/plain": [
       "<matplotlib.figure.Figure at 0x1e556c786a0>"
      ]
     },
     "metadata": {},
     "output_type": "display_data"
    }
   ],
   "source": [
    "ax = round(data['duration'], -1).value_counts()\\\n",
    "                                .sort_index()\\\n",
    "                                .plot(kind='bar', \n",
    "                                      grid=True,\n",
    "                                      figsize=(14, 5));\n",
    "        \n",
    "ax.set_title('Song duration distribution', fontsize=14)\n",
    "ax.set_xlabel('song duration (seconds)')\n",
    "ax.set_ylabel('number of songs')\n",
    "set_ticks_wtih_step(ax, 4)"
   ]
  },
  {
   "cell_type": "markdown",
   "metadata": {},
   "source": [
    "*Lognormal? Gamma? Weibull?*\n",
    "\n",
    "Probably a lognormal distribution, as many natural phenomenons related to some *length* - like a song duration - have been observed to follow a lognormal ditribution."
   ]
  },
  {
   "cell_type": "code",
   "execution_count": null,
   "metadata": {
    "collapsed": true
   },
   "outputs": [],
   "source": []
  },
  {
   "cell_type": "markdown",
   "metadata": {},
   "source": [
    "#### Non-evaluated features\n",
    "\n",
    "Unfortunately, some features such as `energy` or `danceability` happen to not have been evaluated for any of the songs in the dataset. This means we will not be able to use them in our analysis."
   ]
  },
  {
   "cell_type": "code",
   "execution_count": 153,
   "metadata": {},
   "outputs": [
    {
     "data": {
      "text/html": [
       "<div>\n",
       "<style>\n",
       "    .dataframe thead tr:only-child th {\n",
       "        text-align: right;\n",
       "    }\n",
       "\n",
       "    .dataframe thead th {\n",
       "        text-align: left;\n",
       "    }\n",
       "\n",
       "    .dataframe tbody tr th {\n",
       "        vertical-align: top;\n",
       "    }\n",
       "</style>\n",
       "<table border=\"1\" class=\"dataframe\">\n",
       "  <thead>\n",
       "    <tr style=\"text-align: right;\">\n",
       "      <th></th>\n",
       "      <th>energy</th>\n",
       "    </tr>\n",
       "  </thead>\n",
       "  <tbody>\n",
       "    <tr>\n",
       "      <th>count</th>\n",
       "      <td>10000.0</td>\n",
       "    </tr>\n",
       "    <tr>\n",
       "      <th>mean</th>\n",
       "      <td>0.0</td>\n",
       "    </tr>\n",
       "    <tr>\n",
       "      <th>std</th>\n",
       "      <td>0.0</td>\n",
       "    </tr>\n",
       "    <tr>\n",
       "      <th>min</th>\n",
       "      <td>0.0</td>\n",
       "    </tr>\n",
       "    <tr>\n",
       "      <th>25%</th>\n",
       "      <td>0.0</td>\n",
       "    </tr>\n",
       "    <tr>\n",
       "      <th>50%</th>\n",
       "      <td>0.0</td>\n",
       "    </tr>\n",
       "    <tr>\n",
       "      <th>75%</th>\n",
       "      <td>0.0</td>\n",
       "    </tr>\n",
       "    <tr>\n",
       "      <th>max</th>\n",
       "      <td>0.0</td>\n",
       "    </tr>\n",
       "  </tbody>\n",
       "</table>\n",
       "</div>"
      ],
      "text/plain": [
       "        energy\n",
       "count  10000.0\n",
       "mean       0.0\n",
       "std        0.0\n",
       "min        0.0\n",
       "25%        0.0\n",
       "50%        0.0\n",
       "75%        0.0\n",
       "max        0.0"
      ]
     },
     "execution_count": 153,
     "metadata": {},
     "output_type": "execute_result"
    }
   ],
   "source": [
    "describe(data, 'energy', True)"
   ]
  },
  {
   "cell_type": "code",
   "execution_count": 259,
   "metadata": {},
   "outputs": [
    {
     "data": {
      "text/html": [
       "<div>\n",
       "<style>\n",
       "    .dataframe thead tr:only-child th {\n",
       "        text-align: right;\n",
       "    }\n",
       "\n",
       "    .dataframe thead th {\n",
       "        text-align: left;\n",
       "    }\n",
       "\n",
       "    .dataframe tbody tr th {\n",
       "        vertical-align: top;\n",
       "    }\n",
       "</style>\n",
       "<table border=\"1\" class=\"dataframe\">\n",
       "  <thead>\n",
       "    <tr style=\"text-align: right;\">\n",
       "      <th></th>\n",
       "      <th>danceability</th>\n",
       "    </tr>\n",
       "  </thead>\n",
       "  <tbody>\n",
       "    <tr>\n",
       "      <th>count</th>\n",
       "      <td>10000.0</td>\n",
       "    </tr>\n",
       "    <tr>\n",
       "      <th>mean</th>\n",
       "      <td>0.0</td>\n",
       "    </tr>\n",
       "    <tr>\n",
       "      <th>std</th>\n",
       "      <td>0.0</td>\n",
       "    </tr>\n",
       "    <tr>\n",
       "      <th>min</th>\n",
       "      <td>0.0</td>\n",
       "    </tr>\n",
       "    <tr>\n",
       "      <th>25%</th>\n",
       "      <td>0.0</td>\n",
       "    </tr>\n",
       "    <tr>\n",
       "      <th>50%</th>\n",
       "      <td>0.0</td>\n",
       "    </tr>\n",
       "    <tr>\n",
       "      <th>75%</th>\n",
       "      <td>0.0</td>\n",
       "    </tr>\n",
       "    <tr>\n",
       "      <th>max</th>\n",
       "      <td>0.0</td>\n",
       "    </tr>\n",
       "  </tbody>\n",
       "</table>\n",
       "</div>"
      ],
      "text/plain": [
       "       danceability\n",
       "count       10000.0\n",
       "mean            0.0\n",
       "std             0.0\n",
       "min             0.0\n",
       "25%             0.0\n",
       "50%             0.0\n",
       "75%             0.0\n",
       "max             0.0"
      ]
     },
     "execution_count": 259,
     "metadata": {},
     "output_type": "execute_result"
    }
   ],
   "source": [
    "describe(data, 'danceability', True)"
   ]
  },
  {
   "cell_type": "markdown",
   "metadata": {},
   "source": [
    "#### Artist terms"
   ]
  },
  {
   "cell_type": "code",
   "execution_count": 420,
   "metadata": {},
   "outputs": [],
   "source": [
    "old_artist_terms = data['artist terms'].copy()"
   ]
  },
  {
   "cell_type": "code",
   "execution_count": 431,
   "metadata": {
    "collapsed": true
   },
   "outputs": [],
   "source": [
    "data['artist terms'] = old_artist_terms"
   ]
  },
  {
   "cell_type": "code",
   "execution_count": 432,
   "metadata": {},
   "outputs": [],
   "source": [
    "#prevents running the tranformation of 'artist terms' from string to list twice\n",
    "if(type(data['artist terms'].head(1)[0]) == str):\n",
    "    #clean the string\n",
    "    a = data['artist terms'].apply(lambda x: x.replace('b\\'', '')\n",
    "                                              .replace('b\"', '')\n",
    "                                              .replace('\"', '\\'')\n",
    "                                              .replace('[', '')\n",
    "                                              .replace(']', '')\n",
    "                                              .replace('\\n', ''))\n",
    "\n",
    "    #split every term at every <' > position (single quote followed by a space)\n",
    "    artist_terms = map(methodcaller('split', '\\' '), a)\n",
    "    #remove every quote\n",
    "    artist_terms = map(lambda x: [s.replace('\\'', '') for s in x], artist_terms)\n",
    "    #transform the map into a list\n",
    "    artist_terms = list(artist_terms)\n",
    "    \n",
    "    data['artist terms'] = artist_terms"
   ]
  },
  {
   "cell_type": "code",
   "execution_count": 433,
   "metadata": {},
   "outputs": [
    {
     "name": "stdout",
     "output_type": "stream",
     "text": [
      "Total number of artist terms: 263967\n",
      "Number of distinct artist terms: 3896\n"
     ]
    }
   ],
   "source": [
    "top_list = data['artist terms']\n",
    "artist_terms_all = [item for sublist in top_list for item in sublist]\n",
    "artist_terms_distinct = set(artist_terms_all)\n",
    "\n",
    "print('Total number of artist terms:', len(artist_terms_all))\n",
    "print('Number of distinct artist terms:', len(artist_terms_distinct))"
   ]
  },
  {
   "cell_type": "code",
   "execution_count": 463,
   "metadata": {},
   "outputs": [],
   "source": [
    "serie = pd.Series(artist_terms_all).value_counts()"
   ]
  },
  {
   "cell_type": "code",
   "execution_count": 452,
   "metadata": {},
   "outputs": [
    {
     "data": {
      "text/plain": [
       "rock                6435\n",
       "pop                 5439\n",
       "electronic          4378\n",
       "jazz                3563\n",
       "united states       3056\n",
       "hip hop             2849\n",
       "alternative rock    2733\n",
       "folk                2591\n",
       "alternative         2582\n",
       "soul                2450\n",
       "dtype: int64"
      ]
     },
     "execution_count": 452,
     "metadata": {},
     "output_type": "execute_result"
    }
   ],
   "source": [
    "serie.sort_values(ascending=False).head(10)"
   ]
  },
  {
   "cell_type": "code",
   "execution_count": 458,
   "metadata": {},
   "outputs": [
    {
     "data": {
      "image/png": "[encoded data removed]",
      "text/plain": [
       "<matplotlib.figure.Figure at 0x1e520e2fd30>"
      ]
     },
     "metadata": {},
     "output_type": "display_data"
    }
   ],
   "source": [
    "ax = serie.sort_values(ascending=False).head(100)\\\n",
    "                                       .plot(kind='bar',\n",
    "                                             grid=True,\n",
    "                                             figsize=(14, 5));\n",
    "    \n",
    "ax.set_title('Top-100 artist terms', fontsize=14)\n",
    "ax.set_xlabel('artist terms')\n",
    "ax.set_ylabel('number of occurences');"
   ]
  },
  {
   "cell_type": "markdown",
   "metadata": {},
   "source": [
    "It would seem the songs in this dataset are heavily rock and pop oriented. (and western oriented too)"
   ]
  },
  {
   "cell_type": "code",
   "execution_count": null,
   "metadata": {
    "collapsed": true
   },
   "outputs": [],
   "source": []
  },
  {
   "cell_type": "code",
   "execution_count": null,
   "metadata": {
    "collapsed": true
   },
   "outputs": [],
   "source": []
  },
  {
   "cell_type": "code",
   "execution_count": null,
   "metadata": {
    "collapsed": true
   },
   "outputs": [],
   "source": []
  },
  {
   "cell_type": "code",
   "execution_count": null,
   "metadata": {
    "collapsed": true
   },
   "outputs": [],
   "source": []
  },
  {
   "cell_type": "code",
   "execution_count": null,
   "metadata": {
    "collapsed": true
   },
   "outputs": [],
   "source": []
  },
  {
   "cell_type": "code",
   "execution_count": null,
   "metadata": {
    "collapsed": true
   },
   "outputs": [],
   "source": []
  },
  {
   "cell_type": "code",
   "execution_count": null,
   "metadata": {
    "collapsed": true
   },
   "outputs": [],
   "source": []
  },
  {
   "cell_type": "code",
   "execution_count": 410,
   "metadata": {},
   "outputs": [
    {
     "data": {
      "text/plain": [
       "<matplotlib.axes._subplots.AxesSubplot at 0x1e55d6dc3c8>"
      ]
     },
     "execution_count": 410,
     "metadata": {},
     "output_type": "execute_result"
    },
    {
     "data": {
      "image/png": "[encoded data removed]",
      "text/plain": [
       "<matplotlib.figure.Figure at 0x1e5568814e0>"
      ]
     },
     "metadata": {},
     "output_type": "display_data"
    }
   ],
   "source": [
    "data[data['year'] != 0].plot(kind='scatter', x='year', y='song hotttnesss')"
   ]
  },
  {
   "cell_type": "code",
   "execution_count": 69,
   "metadata": {},
   "outputs": [
    {
     "data": {
      "text/plain": [
       "1160    [b'teen pop' b'pop punk' b'pop rock' b'punk' b...\n",
       "2431    [b'southern rock' b'alternative rock' b'rock' ...\n",
       "1427    [b'rock' b'singer-songwriter' b'folk' b'soundt...\n",
       "2109    [b'reggae' b'hip hop' b'pop' b'jamaica' b'danc...\n",
       "2351    [b'rap rock' b'funk metal' b'funk rock' b'heav...\n",
       "5699    [b'pop' b'rock' b'alternative' b'modern rock' ...\n",
       "1208    [b'pop rock' b'all-female' b'ballad' b'europop...\n",
       "1594    [b'pop punk' b'punk' b'pop' b'punk pop' b'emo ...\n",
       "5355    [b'neo soul' b'blues' b'soul' b'pop' b'urban' ...\n",
       "6482    [b'jazz rap' b'hip hop' b'neo soul' b'chill-ou...\n",
       "539     [b'jazz funk' b'soul jazz' b'bossa nova' b'fun...\n",
       "3277    [b'indie rock' b'rock' b'pop' b'alternative' b...\n",
       "3544    [b'experimental rock' b'post rock' b'progressi...\n",
       "7917    [b'experimental rock' b'post rock' b'progressi...\n",
       "6437    [b'dirty south rap' b'hard rock' b'hip hop' b'...\n",
       "9137    [b'blues-rock' b'heavy metal' b'hard rock' b'c...\n",
       "9724    [b'blues-rock' b'garage rock' b'blues' b'alter...\n",
       "1354    [b'art rock' b'piano rock' b'indie pop' b'alte...\n",
       "7847    [b'alternative metal' b'post-grunge' b'alterna...\n",
       "Name: artist terms, dtype: object"
      ]
     },
     "execution_count": 69,
     "metadata": {},
     "output_type": "execute_result"
    }
   ],
   "source": [
    "data[data['song hotttnesss'] > 0.9]['artist terms'].sort_values(ascending=False)"
   ]
  },
  {
   "cell_type": "code",
   "execution_count": 53,
   "metadata": {},
   "outputs": [
    {
     "data": {
      "image/png": "[encoded data removed]",
      "text/plain": [
       "<matplotlib.figure.Figure at 0x1635ac6e0b8>"
      ]
     },
     "metadata": {},
     "output_type": "display_data"
    }
   ],
   "source": [
    "data[data['song hotttnesss'] != 0].plot(kind='scatter', x='duration', y='song hotttnesss', figsize=(14,5));"
   ]
  },
  {
   "cell_type": "code",
   "execution_count": 147,
   "metadata": {
    "collapsed": true
   },
   "outputs": [],
   "source": [
    "#data['artist terms']"
   ]
  },
  {
   "cell_type": "code",
   "execution_count": 20,
   "metadata": {},
   "outputs": [
    {
     "data": {
      "text/plain": [
       "['get_num_songs',\n",
       " 'get_artist_familiarity',\n",
       " 'get_artist_hotttnesss',\n",
       " 'get_artist_id',\n",
       " 'get_artist_mbid',\n",
       " 'get_artist_playmeid',\n",
       " 'get_artist_7digitalid',\n",
       " 'get_artist_latitude',\n",
       " 'get_artist_longitude',\n",
       " 'get_artist_location',\n",
       " 'get_artist_name',\n",
       " 'get_release',\n",
       " 'get_release_7digitalid',\n",
       " 'get_song_id',\n",
       " 'get_song_hotttnesss',\n",
       " 'get_title',\n",
       " 'get_track_7digitalid',\n",
       " 'get_similar_artists',\n",
       " 'get_artist_terms',\n",
       " 'get_artist_terms_freq',\n",
       " 'get_artist_terms_weight',\n",
       " 'get_analysis_sample_rate',\n",
       " 'get_audio_md5',\n",
       " 'get_danceability',\n",
       " 'get_duration',\n",
       " 'get_end_of_fade_in',\n",
       " 'get_energy',\n",
       " 'get_key',\n",
       " 'get_key_confidence',\n",
       " 'get_loudness',\n",
       " 'get_mode',\n",
       " 'get_mode_confidence',\n",
       " 'get_start_of_fade_out',\n",
       " 'get_tempo',\n",
       " 'get_time_signature',\n",
       " 'get_time_signature_confidence',\n",
       " 'get_track_id',\n",
       " 'get_segments_start',\n",
       " 'get_segments_confidence',\n",
       " 'get_segments_pitches',\n",
       " 'get_segments_timbre',\n",
       " 'get_segments_loudness_max',\n",
       " 'get_segments_loudness_max_time',\n",
       " 'get_segments_loudness_start',\n",
       " 'get_sections_start',\n",
       " 'get_sections_confidence',\n",
       " 'get_beats_start',\n",
       " 'get_beats_confidence',\n",
       " 'get_bars_start',\n",
       " 'get_bars_confidence',\n",
       " 'get_tatums_start',\n",
       " 'get_tatums_confidence',\n",
       " 'get_artist_mbtags',\n",
       " 'get_artist_mbtags_count',\n",
       " 'get_year']"
      ]
     },
     "execution_count": 20,
     "metadata": {},
     "output_type": "execute_result"
    }
   ],
   "source": [
    "all_getters"
   ]
  }
 ],
 "metadata": {
  "kernelspec": {
   "display_name": "Python 3",
   "language": "python",
   "name": "python3"
  },
  "language_info": {
   "codemirror_mode": {
    "name": "ipython",
    "version": 3
   },
   "file_extension": ".py",
   "mimetype": "text/x-python",
   "name": "python",
   "nbconvert_exporter": "python",
   "pygments_lexer": "ipython3",
   "version": "3.6.1"
  }
 },
 "nbformat": 4,
 "nbformat_minor": 2
}
