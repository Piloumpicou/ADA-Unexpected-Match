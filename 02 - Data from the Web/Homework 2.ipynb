{
 "cells": [
  {
   "cell_type": "markdown",
   "metadata": {},
   "source": [
    "# Data from the web"
   ]
  },
  {
   "cell_type": "code",
   "execution_count": 7,
   "metadata": {
    "collapsed": true
   },
   "outputs": [],
   "source": [
    "import requests\n",
    "from bs4 import BeautifulSoup\n",
    "\n",
    "import pandas as pd\n",
    "import seaborn\n",
    "%matplotlib inline\n",
    "\n",
    "import selenium\n",
    "from selenium import webdriver\n",
    "import time"
   ]
  },
  {
   "cell_type": "code",
   "execution_count": null,
   "metadata": {
    "collapsed": true
   },
   "outputs": [],
   "source": []
  },
  {
   "cell_type": "code",
   "execution_count": 5,
   "metadata": {
    "collapsed": true
   },
   "outputs": [],
   "source": [
    "URLs = [\"https://www.topuniversities.com/university-rankings/world-university-rankings/2018\", \"https://www.timeshighereducation.com/world-university-rankings/2018/world-ranking\"]"
   ]
  },
  {
   "cell_type": "code",
   "execution_count": 448,
   "metadata": {
    "collapsed": true
   },
   "outputs": [],
   "source": []
  },
  {
   "cell_type": "markdown",
   "metadata": {},
   "source": [
    "### Times Higher Education University Ranking"
   ]
  },
  {
   "cell_type": "code",
   "execution_count": 11,
   "metadata": {},
   "outputs": [],
   "source": [
    "gecko_driver_path = r'geckodriver-v0.19.0-win64\\geckodriver.exe'\n",
    "url = 'https://www.timeshighereducation.com/world-university-rankings/2018/world-ranking#!/page/0/length/-1/sort_by/rank/sort_order/asc/cols/stats'\n",
    "\n",
    "driver = selenium.webdriver.Firefox(executable_path=gecko_driver_path)\n",
    "driver.get(url)\n",
    "driver.execute_script(\"window.scrollTo(0, document.body.scrollHeight);\")\n",
    "time.sleep(5) # wait for the page to load\n",
    "\n",
    "page_source = driver.page_source"
   ]
  },
  {
   "cell_type": "code",
   "execution_count": 12,
   "metadata": {
    "collapsed": true
   },
   "outputs": [],
   "source": [
    "soup = BeautifulSoup(page_source, 'html.parser')\n",
    "table = soup.find('table', id='datatable-1')\n",
    "entries = table.find_all('tr')"
   ]
  },
  {
   "cell_type": "code",
   "execution_count": 13,
   "metadata": {
    "collapsed": true
   },
   "outputs": [],
   "source": [
    "university_names = [entry.text.strip() for entry in soup.findAll(\"a\", { \"class\" : \"ranking-institution-title\" })]\n",
    "university_ranks = [entry.text.strip().split('=')[-1] for entry in soup.findAll(\"td\", { \"class\" : \"rank sorting_1 sorting_2\" })]\n",
    "fte_students = [entry.text.strip() for entry in soup.findAll(\"td\", { \"class\" : \" stats stats_number_students\" })]\n",
    "students_staff_ratio = [entry.text.strip() for entry in soup.findAll(\"td\", { \"class\" : \" stats stats_student_staff_ratio\" })]\n",
    "international_students = [entry.text.strip() for entry in soup.findAll(\"td\", { \"class\" : \" stats stats_pc_intl_students\" })]\n",
    "female_male_ratio = [entry.text.strip() for entry in soup.findAll(\"td\", { \"class\" : \" stats stats_female_male_ratio\" })]"
   ]
  },
  {
   "cell_type": "code",
   "execution_count": 14,
   "metadata": {},
   "outputs": [
    {
     "data": {
      "text/html": [
       "<div>\n",
       "<style>\n",
       "    .dataframe thead tr:only-child th {\n",
       "        text-align: right;\n",
       "    }\n",
       "\n",
       "    .dataframe thead th {\n",
       "        text-align: left;\n",
       "    }\n",
       "\n",
       "    .dataframe tbody tr th {\n",
       "        vertical-align: top;\n",
       "    }\n",
       "</style>\n",
       "<table border=\"1\" class=\"dataframe\">\n",
       "  <thead>\n",
       "    <tr style=\"text-align: right;\">\n",
       "      <th></th>\n",
       "      <th>Name</th>\n",
       "      <th>Rank</th>\n",
       "      <th>No. of FTE Students</th>\n",
       "      <th>Students:Staff Ratio</th>\n",
       "      <th>International Students</th>\n",
       "      <th>Female:Male Ratio</th>\n",
       "    </tr>\n",
       "  </thead>\n",
       "  <tbody>\n",
       "    <tr>\n",
       "      <th>0</th>\n",
       "      <td>University of Oxford</td>\n",
       "      <td>1</td>\n",
       "      <td>20,409</td>\n",
       "      <td>11.2</td>\n",
       "      <td>38%</td>\n",
       "      <td>46 : 54</td>\n",
       "    </tr>\n",
       "    <tr>\n",
       "      <th>1</th>\n",
       "      <td>University of Cambridge</td>\n",
       "      <td>2</td>\n",
       "      <td>18,389</td>\n",
       "      <td>10.9</td>\n",
       "      <td>35%</td>\n",
       "      <td>45 : 55</td>\n",
       "    </tr>\n",
       "    <tr>\n",
       "      <th>2</th>\n",
       "      <td>California Institute of Technology</td>\n",
       "      <td>3</td>\n",
       "      <td>2,209</td>\n",
       "      <td>6.5</td>\n",
       "      <td>27%</td>\n",
       "      <td>31 : 69</td>\n",
       "    </tr>\n",
       "    <tr>\n",
       "      <th>3</th>\n",
       "      <td>Stanford University</td>\n",
       "      <td>3</td>\n",
       "      <td>15,845</td>\n",
       "      <td>7.5</td>\n",
       "      <td>22%</td>\n",
       "      <td>42 : 58</td>\n",
       "    </tr>\n",
       "    <tr>\n",
       "      <th>4</th>\n",
       "      <td>Massachusetts Institute of Technology</td>\n",
       "      <td>5</td>\n",
       "      <td>11,177</td>\n",
       "      <td>8.7</td>\n",
       "      <td>34%</td>\n",
       "      <td>37 : 63</td>\n",
       "    </tr>\n",
       "  </tbody>\n",
       "</table>\n",
       "</div>"
      ],
      "text/plain": [
       "                                    Name Rank No. of FTE Students  \\\n",
       "0                   University of Oxford    1              20,409   \n",
       "1                University of Cambridge    2              18,389   \n",
       "2     California Institute of Technology    3               2,209   \n",
       "3                    Stanford University    3              15,845   \n",
       "4  Massachusetts Institute of Technology    5              11,177   \n",
       "\n",
       "  Students:Staff Ratio International Students Female:Male Ratio  \n",
       "0                 11.2                    38%           46 : 54  \n",
       "1                 10.9                    35%           45 : 55  \n",
       "2                  6.5                    27%           31 : 69  \n",
       "3                  7.5                    22%           42 : 58  \n",
       "4                  8.7                    34%           37 : 63  "
      ]
     },
     "execution_count": 14,
     "metadata": {},
     "output_type": "execute_result"
    }
   ],
   "source": [
    "data = pd.DataFrame()\n",
    "data['Name'] = university_names\n",
    "data['Rank'] = university_ranks\n",
    "data['No. of FTE Students'] = fte_students\n",
    "data['Students:Staff Ratio'] = students_staff_ratio\n",
    "data['International Students'] = international_students\n",
    "data['Female:Male Ratio'] = female_male_ratio\n",
    "data.head()"
   ]
  },
  {
   "cell_type": "markdown",
   "metadata": {},
   "source": [
    "### 200 top universities"
   ]
  },
  {
   "cell_type": "code",
   "execution_count": 15,
   "metadata": {
    "scrolled": true
   },
   "outputs": [
    {
     "name": "stderr",
     "output_type": "stream",
     "text": [
      "C:\\Users\\Emily\\Anaconda3\\lib\\site-packages\\pandas\\core\\indexing.py:601: SettingWithCopyWarning: \n",
      "A value is trying to be set on a copy of a slice from a DataFrame.\n",
      "Try using .loc[row_indexer,col_indexer] = value instead\n",
      "\n",
      "See the caveats in the documentation: http://pandas.pydata.org/pandas-docs/stable/indexing.html#indexing-view-versus-copy\n",
      "  self.obj[item_labels[indexer[info_axis]]] = value\n",
      "C:\\Users\\Emily\\Anaconda3\\lib\\site-packages\\pandas\\core\\indexing.py:517: SettingWithCopyWarning: \n",
      "A value is trying to be set on a copy of a slice from a DataFrame.\n",
      "Try using .loc[row_indexer,col_indexer] = value instead\n",
      "\n",
      "See the caveats in the documentation: http://pandas.pydata.org/pandas-docs/stable/indexing.html#indexing-view-versus-copy\n",
      "  self.obj[item] = s\n"
     ]
    }
   ],
   "source": [
    "#TODO: fix the warning (?)\n",
    "top_200 = data.head(200)\n",
    "top_200.loc[:, 'International Students'] = top_200['International Students'].apply(lambda x: int(x.split('%')[0]) / 100)\n",
    "top_200.loc[:, 'Students:Staff Ratio'] = top_200['Students:Staff Ratio'].apply(lambda x: float(x))"
   ]
  },
  {
   "cell_type": "code",
   "execution_count": 16,
   "metadata": {
    "scrolled": true
   },
   "outputs": [
    {
     "data": {
      "text/html": [
       "<div>\n",
       "<style>\n",
       "    .dataframe thead tr:only-child th {\n",
       "        text-align: right;\n",
       "    }\n",
       "\n",
       "    .dataframe thead th {\n",
       "        text-align: left;\n",
       "    }\n",
       "\n",
       "    .dataframe tbody tr th {\n",
       "        vertical-align: top;\n",
       "    }\n",
       "</style>\n",
       "<table border=\"1\" class=\"dataframe\">\n",
       "  <thead>\n",
       "    <tr style=\"text-align: right;\">\n",
       "      <th></th>\n",
       "      <th>Name</th>\n",
       "      <th>Rank</th>\n",
       "      <th>No. of FTE Students</th>\n",
       "      <th>Students:Staff Ratio</th>\n",
       "      <th>International Students</th>\n",
       "      <th>Female:Male Ratio</th>\n",
       "    </tr>\n",
       "  </thead>\n",
       "  <tbody>\n",
       "    <tr>\n",
       "      <th>24</th>\n",
       "      <td>London School of Economics and Political Science</td>\n",
       "      <td>25</td>\n",
       "      <td>10,065</td>\n",
       "      <td>12.2</td>\n",
       "      <td>0.71</td>\n",
       "      <td>52 : 48</td>\n",
       "    </tr>\n",
       "    <tr>\n",
       "      <th>178</th>\n",
       "      <td>University of Luxembourg</td>\n",
       "      <td>179</td>\n",
       "      <td>4,969</td>\n",
       "      <td>14.6</td>\n",
       "      <td>0.57</td>\n",
       "      <td>50 : 50</td>\n",
       "    </tr>\n",
       "    <tr>\n",
       "      <th>37</th>\n",
       "      <td>École Polytechnique Fédérale de Lausanne</td>\n",
       "      <td>38</td>\n",
       "      <td>9,928</td>\n",
       "      <td>11.2</td>\n",
       "      <td>0.55</td>\n",
       "      <td>28 : 72</td>\n",
       "    </tr>\n",
       "    <tr>\n",
       "      <th>7</th>\n",
       "      <td>Imperial College London</td>\n",
       "      <td>8</td>\n",
       "      <td>15,857</td>\n",
       "      <td>11.4</td>\n",
       "      <td>0.55</td>\n",
       "      <td>37 : 63</td>\n",
       "    </tr>\n",
       "    <tr>\n",
       "      <th>102</th>\n",
       "      <td>Maastricht University</td>\n",
       "      <td>103</td>\n",
       "      <td>16,727</td>\n",
       "      <td>18.0</td>\n",
       "      <td>0.50</td>\n",
       "      <td>58 : 42</td>\n",
       "    </tr>\n",
       "  </tbody>\n",
       "</table>\n",
       "</div>"
      ],
      "text/plain": [
       "                                                 Name Rank  \\\n",
       "24   London School of Economics and Political Science   25   \n",
       "178                          University of Luxembourg  179   \n",
       "37           École Polytechnique Fédérale de Lausanne   38   \n",
       "7                             Imperial College London    8   \n",
       "102                             Maastricht University  103   \n",
       "\n",
       "    No. of FTE Students  Students:Staff Ratio  International Students  \\\n",
       "24               10,065                  12.2                    0.71   \n",
       "178               4,969                  14.6                    0.57   \n",
       "37                9,928                  11.2                    0.55   \n",
       "7                15,857                  11.4                    0.55   \n",
       "102              16,727                  18.0                    0.50   \n",
       "\n",
       "    Female:Male Ratio  \n",
       "24            52 : 48  \n",
       "178           50 : 50  \n",
       "37            28 : 72  \n",
       "7             37 : 63  \n",
       "102           58 : 42  "
      ]
     },
     "execution_count": 16,
     "metadata": {},
     "output_type": "execute_result"
    }
   ],
   "source": [
    "top_international_students = top_200.sort_values('International Students', ascending=False)\n",
    "top_international_students.head()"
   ]
  },
  {
   "cell_type": "code",
   "execution_count": 17,
   "metadata": {},
   "outputs": [
    {
     "data": {
      "text/plain": [
       "<matplotlib.text.Text at 0x25211710d68>"
      ]
     },
     "execution_count": 17,
     "metadata": {},
     "output_type": "execute_result"
    },
    {
     "data": {
      "image/png": "[encoded data removed]",
      "text/plain": [
       "<matplotlib.figure.Figure at 0x25210428b70>"
      ]
     },
     "metadata": {},
     "output_type": "display_data"
    }
   ],
   "source": [
    "ax = top_international_students.head(60).plot(y='International Students', x='Name', kind='bar', grid=True, figsize=(20, 6), title='Data from: ' + URLs[1])\n",
    "ax.set_xlabel('University')\n",
    "ax.set_ylabel('International students proportion')"
   ]
  },
  {
   "cell_type": "code",
   "execution_count": 18,
   "metadata": {},
   "outputs": [
    {
     "data": {
      "text/html": [
       "<div>\n",
       "<style>\n",
       "    .dataframe thead tr:only-child th {\n",
       "        text-align: right;\n",
       "    }\n",
       "\n",
       "    .dataframe thead th {\n",
       "        text-align: left;\n",
       "    }\n",
       "\n",
       "    .dataframe tbody tr th {\n",
       "        vertical-align: top;\n",
       "    }\n",
       "</style>\n",
       "<table border=\"1\" class=\"dataframe\">\n",
       "  <thead>\n",
       "    <tr style=\"text-align: right;\">\n",
       "      <th></th>\n",
       "      <th>Name</th>\n",
       "      <th>Rank</th>\n",
       "      <th>No. of FTE Students</th>\n",
       "      <th>Students:Staff Ratio</th>\n",
       "      <th>International Students</th>\n",
       "      <th>Female:Male Ratio</th>\n",
       "    </tr>\n",
       "  </thead>\n",
       "  <tbody>\n",
       "    <tr>\n",
       "      <th>105</th>\n",
       "      <td>Vanderbilt University</td>\n",
       "      <td>105</td>\n",
       "      <td>12,011</td>\n",
       "      <td>3.3</td>\n",
       "      <td>0.13</td>\n",
       "      <td>53 : 47</td>\n",
       "    </tr>\n",
       "    <tr>\n",
       "      <th>109</th>\n",
       "      <td>University of Copenhagen</td>\n",
       "      <td>109</td>\n",
       "      <td>30,395</td>\n",
       "      <td>4.1</td>\n",
       "      <td>0.14</td>\n",
       "      <td>58 : 42</td>\n",
       "    </tr>\n",
       "    <tr>\n",
       "      <th>12</th>\n",
       "      <td>Johns Hopkins University</td>\n",
       "      <td>13</td>\n",
       "      <td>15,498</td>\n",
       "      <td>4.3</td>\n",
       "      <td>0.24</td>\n",
       "      <td>52 : 48</td>\n",
       "    </tr>\n",
       "    <tr>\n",
       "      <th>11</th>\n",
       "      <td>Yale University</td>\n",
       "      <td>12</td>\n",
       "      <td>12,155</td>\n",
       "      <td>4.3</td>\n",
       "      <td>0.21</td>\n",
       "      <td>49 : 51</td>\n",
       "    </tr>\n",
       "    <tr>\n",
       "      <th>153</th>\n",
       "      <td>University of Rochester</td>\n",
       "      <td>153</td>\n",
       "      <td>9,636</td>\n",
       "      <td>4.3</td>\n",
       "      <td>0.29</td>\n",
       "      <td>49 : 51</td>\n",
       "    </tr>\n",
       "  </tbody>\n",
       "</table>\n",
       "</div>"
      ],
      "text/plain": [
       "                         Name Rank No. of FTE Students  Students:Staff Ratio  \\\n",
       "105     Vanderbilt University  105              12,011                   3.3   \n",
       "109  University of Copenhagen  109              30,395                   4.1   \n",
       "12   Johns Hopkins University   13              15,498                   4.3   \n",
       "11            Yale University   12              12,155                   4.3   \n",
       "153   University of Rochester  153               9,636                   4.3   \n",
       "\n",
       "     International Students Female:Male Ratio  \n",
       "105                    0.13           53 : 47  \n",
       "109                    0.14           58 : 42  \n",
       "12                     0.24           52 : 48  \n",
       "11                     0.21           49 : 51  \n",
       "153                    0.29           49 : 51  "
      ]
     },
     "execution_count": 18,
     "metadata": {},
     "output_type": "execute_result"
    }
   ],
   "source": [
    "top_student_staff_ratio = top_200.sort_values('Students:Staff Ratio', ascending=True)\n",
    "top_student_staff_ratio.head()"
   ]
  },
  {
   "cell_type": "code",
   "execution_count": 19,
   "metadata": {
    "collapsed": true
   },
   "outputs": [],
   "source": [
    "#plot\n",
    "#..."
   ]
  },
  {
   "cell_type": "code",
   "execution_count": null,
   "metadata": {
    "collapsed": true
   },
   "outputs": [],
   "source": []
  },
  {
   "cell_type": "code",
   "execution_count": null,
   "metadata": {
    "collapsed": true
   },
   "outputs": [],
   "source": []
  },
  {
   "cell_type": "code",
   "execution_count": null,
   "metadata": {
    "collapsed": true
   },
   "outputs": [],
   "source": []
  },
  {
   "cell_type": "code",
   "execution_count": null,
   "metadata": {
    "collapsed": true
   },
   "outputs": [],
   "source": []
  },
  {
   "cell_type": "markdown",
   "metadata": {},
   "source": [
    "## QS World University Ranking"
   ]
  },
  {
   "cell_type": "code",
   "execution_count": 290,
   "metadata": {
    "collapsed": true
   },
   "outputs": [],
   "source": [
    "url = 'https://www.topuniversities.com/university-rankings/world-university-rankings/2018'\n",
    "\n",
    "driver = webdriver.Firefox(executable_path=gecko_driver_path)\n",
    "driver.get(url)\n",
    "driver.execute_script(\"window.scrollTo(0, document.body.scrollHeight);\")\n",
    "#driver.find_element_by_class_name('form-control input-sm').click()\n",
    "time.sleep(5) # wait to load\n",
    "\n",
    "page_source = driver.page_source"
   ]
  },
  {
   "cell_type": "code",
   "execution_count": 293,
   "metadata": {
    "collapsed": true
   },
   "outputs": [],
   "source": [
    "soup = BeautifulSoup(page_source, 'html.parser')\n",
    "table = soup.find('table', id='qs-rankings')\n",
    "entries = table.find_all('tr')"
   ]
  },
  {
   "cell_type": "code",
   "execution_count": null,
   "metadata": {
    "collapsed": true
   },
   "outputs": [],
   "source": []
  },
  {
   "cell_type": "code",
   "execution_count": null,
   "metadata": {
    "collapsed": true
   },
   "outputs": [],
   "source": []
  },
  {
   "cell_type": "code",
   "execution_count": null,
   "metadata": {
    "collapsed": true
   },
   "outputs": [],
   "source": []
  },
  {
   "cell_type": "code",
   "execution_count": null,
   "metadata": {
    "collapsed": true
   },
   "outputs": [],
   "source": []
  },
  {
   "cell_type": "code",
   "execution_count": null,
   "metadata": {
    "collapsed": true
   },
   "outputs": [],
   "source": []
  }
 ],
 "metadata": {
  "kernelspec": {
   "display_name": "Python 3",
   "language": "python",
   "name": "python3"
  },
  "language_info": {
   "codemirror_mode": {
    "name": "ipython",
    "version": 3
   },
   "file_extension": ".py",
   "mimetype": "text/x-python",
   "name": "python",
   "nbconvert_exporter": "python",
   "pygments_lexer": "ipython3",
   "version": "3.6.1"
  }
 },
 "nbformat": 4,
 "nbformat_minor": 2
}
