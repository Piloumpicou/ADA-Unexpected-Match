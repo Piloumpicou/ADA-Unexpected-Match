{
 "cells": [
  {
   "cell_type": "markdown",
   "metadata": {},
   "source": [
    "# Table of Contents\n",
    " <p><div class=\"lev1\"><a href=\"#Task-1.-Compiling-Ebola-Data\"><span class=\"toc-item-num\">Task 1.&nbsp;&nbsp;</span>Compiling Ebola Data</a></div>\n",
    " <div class=\"lev1\"><a href=\"#Task-2.-RNA-Sequences\"><span class=\"toc-item-num\">Task 2.&nbsp;&nbsp;</span>RNA Sequences</a></div>\n",
    " <div class=\"lev1\"><a href=\"#Task-3.-Class-War-in-Titanic\"><span class=\"toc-item-num\">Task 3.&nbsp;&nbsp;</span>Class War in Titanic</a></div></p>"
   ]
  },
  {
   "cell_type": "code",
   "execution_count": 1,
   "metadata": {
    "collapsed": true
   },
   "outputs": [],
   "source": [
    "%matplotlib inline\n",
    "import pandas as pd\n",
    "import numpy as np\n",
    "import matplotlib.pyplot as plt\n",
    "import glob\n",
    "import os"
   ]
  },
  {
   "cell_type": "code",
   "execution_count": 6,
   "metadata": {
    "collapsed": true
   },
   "outputs": [],
   "source": [
    "DATA_FOLDER = '../../ADA2017-Tutorials/02 - Intro to Pandas/Data/' # Use the data folder provided in Tutorial 02 - Intro to Pandas."
   ]
  },
  {
   "cell_type": "markdown",
   "metadata": {},
   "source": [
    "## Task 1. Compiling Ebola Data\n",
    "\n",
    "The `DATA_FOLDER/ebola` folder contains summarized reports of Ebola cases from three countries (Guinea, Liberia and Sierra Leone) during the recent outbreak of the disease in West Africa. For each country, there are daily reports that contain various information about the outbreak in several cities in each country.\n",
    "\n",
    "Use pandas to import these data files into a single `Dataframe`.\n",
    "Using this `DataFrame`, calculate for *each country*, the *daily average per month* of *new cases* and *deaths*.\n",
    "Make sure you handle all the different expressions for *new cases* and *deaths* that are used in the reports."
   ]
  },
  {
   "cell_type": "markdown",
   "metadata": {},
   "source": [
    "We start by having a look at the files: "
   ]
  },
  {
   "cell_type": "code",
   "execution_count": 9,
   "metadata": {},
   "outputs": [
    {
     "name": "stdout",
     "output_type": "stream",
     "text": [
      "Date,Description,Totals,Conakry,Gueckedou,Macenta,Dabola,Kissidougou,Dinguiraye,Telimele,Boffa,Kouroussa,Siguiri,Pita,Mzerekore,Yomou,Dubreka,Forecariah,Kerouane,Coyah,Dalaba,Beyla,Kindia,Lola\n",
      "2014-09-11,New cases of suspects,9,,4,1,,,,,,,,,,,,1,3,,,,,\n",
      "\n",
      "\n",
      "Date,Variable,National,Bomi County,Bong County,Gbarpolu County,Grand Bassa,Grand Cape Mount,Grand Gedeh,Grand Kru,Lofa County,Margibi County,Maryland County,Montserrado County,Nimba County,River Gee County,RiverCess County,Sinoe County\n",
      "9/17/2014,Specimens collected,,,,,,,,,,,,,,,,\n",
      "\n",
      "\n",
      "date,variable,Kailahun,Kenema,Kono,Kambia,Koinadugu,Bombali,Tonkolili,Port Loko,Pujehun,Bo,Moyamba,Bonthe,Western area urban,Western area rural,National\n",
      "2014-08-18,population,\"465,048\",\"653,013\",\"325,003\",\"341,690\",\"335,471\",\"494,139\",\"434,937\",\"557,978\",\"335,574\",\"654,142\",\"278,119\",\"168,729\",\"1,040,888\",\"263,619\",\"6,348,350\"\n",
      "\n",
      "\n"
     ]
    }
   ],
   "source": [
    "!cat '../../ADA2017-Tutorials/02 - Intro to Pandas/Data/ebola/guinea_data/2014-09-11.csv' | head -n 2 \n",
    "! echo \"\\n\"\n",
    "!cat '../../ADA2017-Tutorials/02 - Intro to Pandas/Data/ebola/liberia_data/2014-09-17-v125.csv' | head -n 2\n",
    "! echo \"\\n\"\n",
    "!cat '../../ADA2017-Tutorials/02 - Intro to Pandas/Data/ebola/sl_data/2014-08-18-v83.csv' | head -n 2\n",
    "! echo \"\\n\""
   ]
  },
  {
   "cell_type": "markdown",
   "metadata": {},
   "source": [
    "We can see that each country has its own schema, however the schemas look the same in the form : <br/>\n",
    "* Date\n",
    "* Description/Variable\n",
    "* Total/National\n",
    "* Countys"
   ]
  },
  {
   "cell_type": "markdown",
   "metadata": {},
   "source": [
    "Let's have a look at the possible values of the second field :\n",
    "\n",
    "`cat ../../ADA2017-Tutorials/02-\\ Intro\\ to\\ Pandas/Data/ebola/*/* |  cut -d, -f2  | sort | uniq`"
   ]
  },
  {
   "cell_type": "markdown",
   "metadata": {},
   "source": [
    "We have indications about the number of deaths and new cases (and others).\n",
    "\n",
    "Several fields have quite the same meaning ; for instance : new deaths registered and new deaths registered today.\n",
    "\n",
    "We need to compute the total number of new cases and deaths by day, so we need to sum up this field to have a total.\n",
    "\n",
    "So we will build a table like this with new case and death in columns:\n",
    "Date, Country, County, NCountyew case, death ...\n",
    "\n",
    "This table wille be much easier to handle for the subsequent statistical analysis.\n",
    "\n",
    "However the data are in \"tranpose\" format, so we will tranpose it to have it in good shape for statistical analysis.\n"
   ]
  },
  {
   "cell_type": "code",
   "execution_count": 142,
   "metadata": {},
   "outputs": [
    {
     "data": {
      "text/plain": [
       "(3588, 144)"
      ]
     },
     "execution_count": 142,
     "metadata": {},
     "output_type": "execute_result"
    }
   ],
   "source": [
    "data = pd.DataFrame() # empty table\n",
    "\n",
    "# Limit the number of file to load : for debug purpose\n",
    "max_file = 10000\n",
    "max_file_i = 0\n",
    "\n",
    "# Browse all csv file\n",
    "for csv in glob.glob(DATA_FOLDER + \"ebola/*/*.csv\"): \n",
    "    \n",
    "    # Read the csv and replace '-' by nan, because \"-\" apers sometime\n",
    "    subframe =  pd.read_csv(csv, na_values=\"-\")\n",
    "    \n",
    "    # Rewrite columns indexes by lowercases\n",
    "    subframe.columns = [x.lower() for x in subframe.columns]\n",
    "    \n",
    "    # Rename 'description' to 'variable' (those columns are equivalent)\n",
    "    if(subframe.columns[1]==\"description\") : \n",
    "        subframe.rename(columns={'description': 'variable'}, inplace=True)\n",
    "\n",
    "    # Verify that the date is unique by files\n",
    "    assert len(subframe['date'].drop_duplicates()) == 1\n",
    "    uniquedate = pd.to_datetime(subframe['date'][0])\n",
    "    \n",
    "    # Remove the date column\n",
    "    subframe.drop('date', axis=1, inplace=True)\n",
    "    \n",
    "    # Place 'variable' in indexes. Hence, after the transposition, variable will become columns\n",
    "    subframe = subframe.set_index(\"variable\")\n",
    "    \n",
    "    # Transpose the Dataframe : 'variable' becomes column names and regions name are indexes. \n",
    "    subframe = subframe.transpose()\n",
    "    \n",
    "    # Again, put all indexs in lowercases\n",
    "    subframe.columns = [x.lower() for x in subframe.columns]\n",
    "    \n",
    "    # Convert if possible data to number\n",
    "    subframe = subframe.apply(pd.to_numeric,errors='ignore')\n",
    "    \n",
    "    # Put back the date\n",
    "    subframe['date'] = uniquedate\n",
    "\n",
    "    # Add a column for the country, depending on the file\n",
    "    if \"guinea\" in csv :\n",
    "        subframe['country'] = \"Guinea\"\n",
    "    if \"liberia\" in csv :\n",
    "        subframe['country'] = \"Liberia\"\n",
    "    if \"sl\" in csv :\n",
    "        subframe['country'] = \"Sierra Leone\"\n",
    "        \n",
    "\n",
    "    # Reset index to have no county in index\n",
    "    subframe.reset_index(level=0, inplace=True)  \n",
    "    \n",
    "    # Rename index to regions\n",
    "    subframe.rename(columns={'index': 'regions'}, inplace=True)\n",
    "\n",
    "    # Remove duplicated columns\n",
    "    subframe = subframe.loc[:,~subframe.columns.duplicated()]\n",
    "\n",
    "    # Reorder column names : first date, country, regions\n",
    "    #cols = ['date','country','regions'] + [col for col in subframe if (col != 'date' and col != 'country' and col != 'regions') ]\n",
    "    #subframe = subframe[cols]\n",
    "    \n",
    "    # Concatenate the file with the global dataframe\n",
    "    data = pd.concat([data,subframe], axis=0, ignore_index=True)\n",
    "    # Reorder columns\n",
    "    cols = ['date','country','regions']  + [col for col in data if (col != 'date' and col != 'country' and col != 'regions') ]\n",
    "    data = data[cols]\n",
    "       \n",
    "    # Break the loop if too much files\n",
    "    if(max_file_i>max_file):\n",
    "           break\n",
    "    max_file_i +=1\n",
    "\n",
    "data.shape"
   ]
  },
  {
   "cell_type": "markdown",
   "metadata": {},
   "source": [
    "We add the 2 columns for new cases and deaths by day. <br>\n",
    "We arbitrary chose to count each of <b>probable, suspect, and confirmed</b> cases."
   ]
  },
  {
   "cell_type": "code",
   "execution_count": 143,
   "metadata": {
    "collapsed": true
   },
   "outputs": [],
   "source": [
    "data['total_new_death'] = data['new deaths registered'].fillna(0) + \\\n",
    "                        data['new deaths registered today'].fillna(0) + \\\n",
    "                        data['newly reported deaths'].fillna(0) + \\\n",
    "                        data['etc_new_deaths'].fillna(0)\n",
    "\n",
    "data['total_newcase'] = data[\"total new cases registered so far\"].fillna(0) + \\\n",
    "                        data['new case/s (confirmed)'].fillna(0) + \\\n",
    "                        data['new case/s (probable)'].fillna(0) + \\\n",
    "                        data['new case/s (suspected)'].fillna(0) + \\\n",
    "                        data['new_confirmed'].fillna(0) + \\\n",
    "                        data['new_probable'].fillna(0) + \\\n",
    "                        data['new_suspected'].fillna(0); "
   ]
  },
  {
   "cell_type": "markdown",
   "metadata": {
    "collapsed": true
   },
   "source": [
    "And finaly compute the daily mean by country, and by month "
   ]
  },
  {
   "cell_type": "code",
   "execution_count": 243,
   "metadata": {},
   "outputs": [
    {
     "data": {
      "text/plain": [
       "country       date      \n",
       "Guinea        2014-08-31      25.800000\n",
       "              2014-09-30      19.625000\n",
       "              2014-10-31      34.000000\n",
       "Liberia       2014-06-30       5.714286\n",
       "              2014-07-31       8.545455\n",
       "              2014-08-31      37.222222\n",
       "              2014-09-30      63.833333\n",
       "              2014-10-31      45.560000\n",
       "              2014-11-30      26.466667\n",
       "              2014-12-31    5178.555556\n",
       "Sierra Leone  2014-08-31      25.150000\n",
       "              2014-09-30      40.689655\n",
       "              2014-10-31      70.928571\n",
       "              2014-11-30      75.238095\n",
       "              2014-12-31      41.000000\n",
       "Name: total_newcase, dtype: float64"
      ]
     },
     "execution_count": 243,
     "metadata": {},
     "output_type": "execute_result"
    }
   ],
   "source": [
    "gb_data = data[data['regions'].isin([\"national\" ,\"totals\"])].set_index(\"date\").groupby(['country',pd.TimeGrouper(freq='M')])\n",
    "\n",
    "n_c_mean = gb_data['total_newcase'].mean()\n",
    "n_c_mean"
   ]
  },
  {
   "cell_type": "code",
   "execution_count": 247,
   "metadata": {},
   "outputs": [
    {
     "data": {
      "text/plain": [
       "<matplotlib.text.Text at 0x2a03a1c0978>"
      ]
     },
     "execution_count": 247,
     "metadata": {},
     "output_type": "execute_result"
    },
    {
     "data": {
      "image/png": "[encoded data removed]",
      "text/plain": [
       "<matplotlib.figure.Figure at 0x2a03b24f668>"
      ]
     },
     "metadata": {},
     "output_type": "display_data"
    }
   ],
   "source": [
    "plt.figure(figsize=(15, 8))\n",
    "#n_c_mean.drop([('Liberia', pd.to_datetime('2014-12-31'))]).plot()\n",
    "n_c_mean.loc['Guinea'].plot(logy = True)\n",
    "n_c_mean.loc['Liberia'].plot(logy = True)\n",
    "n_c_mean.loc['Sierra Leone'].plot(logy = True)\n",
    "plt.legend(['Guinea', 'Liberia', 'Sierra Leone'], loc='upper left')\n",
    "plt.ylabel(\"# of new cases (log scale)\")\n",
    "plt.xlabel(\"Month\")\n",
    "plt.title('Mean number of new cases by month, by country')\n",
    "#plt.xlim((pd.to_datetime('2014-06-30'),pd.to_datetime('2015-01-31')))"
   ]
  },
  {
   "cell_type": "code",
   "execution_count": 246,
   "metadata": {},
   "outputs": [
    {
     "data": {
      "text/plain": [
       "country       date      \n",
       "Guinea        2014-08-31     3.400000\n",
       "              2014-09-30     3.562500\n",
       "              2014-10-31    15.000000\n",
       "Liberia       2014-06-30     2.000000\n",
       "              2014-07-31     4.272727\n",
       "              2014-08-31    23.222222\n",
       "              2014-09-30    36.041667\n",
       "              2014-10-31    28.040000\n",
       "              2014-11-30    13.466667\n",
       "              2014-12-31     0.000000\n",
       "Sierra Leone  2014-08-31     0.000000\n",
       "              2014-09-30     0.275862\n",
       "              2014-10-31     3.535714\n",
       "              2014-11-30     0.571429\n",
       "              2014-12-31     2.200000\n",
       "Name: total_new_death, dtype: float64"
      ]
     },
     "execution_count": 246,
     "metadata": {},
     "output_type": "execute_result"
    }
   ],
   "source": [
    "deaths_mean = gb_data['total_new_death'].mean()\n",
    "deaths_mean"
   ]
  },
  {
   "cell_type": "code",
   "execution_count": 211,
   "metadata": {},
   "outputs": [
    {
     "data": {
      "text/plain": [
       "<matplotlib.text.Text at 0x2a042768c88>"
      ]
     },
     "execution_count": 211,
     "metadata": {},
     "output_type": "execute_result"
    },
    {
     "data": {
      "image/png": "[encoded data removed]",
      "text/plain": [
       "<matplotlib.figure.Figure at 0x2a042304358>"
      ]
     },
     "metadata": {},
     "output_type": "display_data"
    }
   ],
   "source": [
    "plt.figure(figsize=(15, 8))\n",
    "#n_c_mean.drop([('Liberia', pd.to_datetime('2014-12-31'))]).plot()\n",
    "deaths_mean.loc['Guinea'].plot()\n",
    "deaths_mean.loc['Liberia'].plot()\n",
    "deaths_mean.loc['Sierra Leone'].plot()\n",
    "plt.legend(['Guinea', 'Liberia', 'Sierra Leone'], loc='upper left')\n",
    "plt.ylabel(\"# of deaths\")\n",
    "plt.xlabel(\"Month\")\n",
    "plt.title('Deaths daily average, by country, by month')\n",
    "#plt.xlim((pd.to_datetime('2014-06-30'),pd.to_datetime('2015-01-31')))"
   ]
  },
  {
   "cell_type": "markdown",
   "metadata": {},
   "source": [
    "By seeing the drop of deaths in decembre for Liberia, we can imagine that there is an error in the exploding number of new cases for the same country"
   ]
  },
  {
   "cell_type": "code",
   "execution_count": 288,
   "metadata": {},
   "outputs": [
    {
     "data": {
      "text/plain": [
       "country  date      \n",
       "Liberia  2014-11-30    26.466667\n",
       "         2014-12-31     5.000000\n",
       "Name: total_newcase, dtype: float64"
      ]
     },
     "execution_count": 288,
     "metadata": {},
     "output_type": "execute_result"
    }
   ],
   "source": [
    "lib_expect = n_c_mean.iloc[8:10,].copy()\n",
    "lib_expect[1] = 5\n",
    "lib_expect"
   ]
  },
  {
   "cell_type": "code",
   "execution_count": 297,
   "metadata": {},
   "outputs": [
    {
     "data": {
      "image/png": "[encoded data removed]",
      "text/plain": [
       "<matplotlib.figure.Figure at 0x2a04058c908>"
      ]
     },
     "metadata": {},
     "output_type": "display_data"
    }
   ],
   "source": [
    "plt.figure(figsize=(15, 8))\n",
    "deaths_mean.loc['Guinea'].plot(color='blue', style='--')\n",
    "deaths_mean.loc['Liberia'].plot(color='green', style='--')\n",
    "deaths_mean.loc['Sierra Leone'].plot(color='red', style='--')\n",
    "n_c_mean.loc['Guinea'].plot(color='blue', style='-')\n",
    "n_c_mean.loc['Liberia'].drop(pd.to_datetime('2014-12-31')).plot(color='green')\n",
    "#n_c_mean.loc['Liberia'].iloc[-2:,].plot(color='black', style=':')\n",
    "lib_expect['Liberia'].plot(color='grey', style = ':')\n",
    "n_c_mean.loc['Sierra Leone'].plot(color='red')\n",
    "\n",
    "\n",
    "plt.legend(['Guinea (#deaths)', 'Liberia (#deaths)', 'Sierra Leone (#deaths)', \\\n",
    "            'Guinea', 'Liberia', 'Expected new cases for Liberia', 'Sierra Leone'], loc='upper left')\n",
    "plt.xlabel(\"Month\")\n",
    "plt.ylim(0,85)\n",
    "plt.title(\"Average daily new cases and deaths by month, for 3 African countries\")\n",
    "plt.grid(True)"
   ]
  },
  {
   "cell_type": "markdown",
   "metadata": {},
   "source": [
    "## Task 2. RNA Sequences\n",
    "\n",
    "In the `DATA_FOLDER/microbiome` subdirectory, there are 9 spreadsheets of microbiome data that was acquired from high-throughput RNA sequencing procedures, along with a 10<sup>th</sup> file that describes the content of each. \n",
    "\n",
    "Use pandas to import the first 9 spreadsheets into a single `DataFrame`.\n",
    "Then, add the metadata information from the 10<sup>th</sup> spreadsheet as columns in the combined `DataFrame`.\n",
    "Make sure that the final `DataFrame` has a unique index and all the `NaN` values have been replaced by the tag `unknown`."
   ]
  },
  {
   "cell_type": "markdown",
   "metadata": {},
   "source": [
    "Here, each xml file have a bacterie name and a value.The name of file is he same as the name in the metadata.xml \n",
    "\n",
    "To begin , we merge xml file with bacterie name for key, after we rename collumn with name in metadata. "
   ]
  },
  {
   "cell_type": "code",
   "execution_count": 3,
   "metadata": {
    "collapsed": true
   },
   "outputs": [],
   "source": [
    "files_name = os.listdir(DATA_FOLDER + 'microbiome/')"
   ]
  },
  {
   "cell_type": "code",
   "execution_count": 4,
   "metadata": {
    "collapsed": true
   },
   "outputs": [],
   "source": [
    "rna_data = pd.DataFrame()\n",
    "\n",
    "for e,f in enumerate(list(filter(lambda n: 'MID' in n, files_name))) :\n",
    "    tmp = pd.read_excel(DATA_FOLDER + 'microbiome/' + f, 'Sheet 1', index_col=0, header=None)\n",
    "    #tmp.columns = ['MID'+ str(e+1)]  \n",
    "    rna_data = pd.concat([rna_data, tmp], axis=1)\n",
    "\n",
    "rna_data.fillna(\"unknown\", inplace = True)\n",
    "rna_data.index.name = 'Taxonomy'  "
   ]
  },
  {
   "cell_type": "markdown",
   "metadata": {},
   "source": [
    "Let's have a look at what we find in the metadata :"
   ]
  },
  {
   "cell_type": "code",
   "execution_count": 5,
   "metadata": {},
   "outputs": [
    {
     "data": {
      "text/html": [
       "<div>\n",
       "<table border=\"1\" class=\"dataframe\">\n",
       "  <thead>\n",
       "    <tr style=\"text-align: right;\">\n",
       "      <th></th>\n",
       "      <th>BARCODE</th>\n",
       "      <th>GROUP</th>\n",
       "      <th>SAMPLE</th>\n",
       "    </tr>\n",
       "  </thead>\n",
       "  <tbody>\n",
       "    <tr>\n",
       "      <th>0</th>\n",
       "      <td>MID1</td>\n",
       "      <td>EXTRACTION CONTROL</td>\n",
       "      <td>unknown</td>\n",
       "    </tr>\n",
       "    <tr>\n",
       "      <th>1</th>\n",
       "      <td>MID2</td>\n",
       "      <td>NEC 1</td>\n",
       "      <td>tissue</td>\n",
       "    </tr>\n",
       "    <tr>\n",
       "      <th>2</th>\n",
       "      <td>MID3</td>\n",
       "      <td>Control 1</td>\n",
       "      <td>tissue</td>\n",
       "    </tr>\n",
       "    <tr>\n",
       "      <th>3</th>\n",
       "      <td>MID4</td>\n",
       "      <td>NEC 2</td>\n",
       "      <td>tissue</td>\n",
       "    </tr>\n",
       "    <tr>\n",
       "      <th>4</th>\n",
       "      <td>MID5</td>\n",
       "      <td>Control 2</td>\n",
       "      <td>tissue</td>\n",
       "    </tr>\n",
       "    <tr>\n",
       "      <th>5</th>\n",
       "      <td>MID6</td>\n",
       "      <td>NEC 1</td>\n",
       "      <td>stool</td>\n",
       "    </tr>\n",
       "    <tr>\n",
       "      <th>6</th>\n",
       "      <td>MID7</td>\n",
       "      <td>Control 1</td>\n",
       "      <td>stool</td>\n",
       "    </tr>\n",
       "    <tr>\n",
       "      <th>7</th>\n",
       "      <td>MID8</td>\n",
       "      <td>NEC 2</td>\n",
       "      <td>stool</td>\n",
       "    </tr>\n",
       "    <tr>\n",
       "      <th>8</th>\n",
       "      <td>MID9</td>\n",
       "      <td>Control 2</td>\n",
       "      <td>stool</td>\n",
       "    </tr>\n",
       "  </tbody>\n",
       "</table>\n",
       "</div>"
      ],
      "text/plain": [
       "  BARCODE               GROUP   SAMPLE\n",
       "0    MID1  EXTRACTION CONTROL  unknown\n",
       "1    MID2               NEC 1   tissue\n",
       "2    MID3           Control 1   tissue\n",
       "3    MID4               NEC 2   tissue\n",
       "4    MID5           Control 2   tissue\n",
       "5    MID6               NEC 1    stool\n",
       "6    MID7           Control 1    stool\n",
       "7    MID8               NEC 2    stool\n",
       "8    MID9           Control 2    stool"
      ]
     },
     "execution_count": 5,
     "metadata": {},
     "output_type": "execute_result"
    }
   ],
   "source": [
    "meta = pd.read_excel(DATA_FOLDER+\"microbiome/metadata.xls\")\n",
    "meta.fillna(\"unknown\", inplace = True)\n",
    "meta"
   ]
  },
  {
   "cell_type": "markdown",
   "metadata": {},
   "source": [
    "We will add the values of metadata as columns in the data, and columns of metadata as column names : <br>\n",
    "\n",
    "\n",
    "Metadata's values $\\rightarrow$ Data's columns <br>\n",
    "Metadata's columns $\\rightarrow$ Data's columns name"
   ]
  },
  {
   "cell_type": "code",
   "execution_count": 6,
   "metadata": {},
   "outputs": [
    {
     "data": {
      "text/html": [
       "<div>\n",
       "<table border=\"1\" class=\"dataframe\">\n",
       "  <thead>\n",
       "    <tr>\n",
       "      <th>SAMPLE</th>\n",
       "      <th>unknown</th>\n",
       "      <th colspan=\"4\" halign=\"left\">tissue</th>\n",
       "      <th colspan=\"4\" halign=\"left\">stool</th>\n",
       "    </tr>\n",
       "    <tr>\n",
       "      <th>GROUP</th>\n",
       "      <th>EXTRACTION CONTROL</th>\n",
       "      <th>NEC 1</th>\n",
       "      <th>Control 1</th>\n",
       "      <th>NEC 2</th>\n",
       "      <th>Control 2</th>\n",
       "      <th>NEC 1</th>\n",
       "      <th>Control 1</th>\n",
       "      <th>NEC 2</th>\n",
       "      <th>Control 2</th>\n",
       "    </tr>\n",
       "    <tr>\n",
       "      <th>BARCODE</th>\n",
       "      <th>MID1</th>\n",
       "      <th>MID2</th>\n",
       "      <th>MID3</th>\n",
       "      <th>MID4</th>\n",
       "      <th>MID5</th>\n",
       "      <th>MID6</th>\n",
       "      <th>MID7</th>\n",
       "      <th>MID8</th>\n",
       "      <th>MID9</th>\n",
       "    </tr>\n",
       "    <tr>\n",
       "      <th>Taxonomy</th>\n",
       "      <th></th>\n",
       "      <th></th>\n",
       "      <th></th>\n",
       "      <th></th>\n",
       "      <th></th>\n",
       "      <th></th>\n",
       "      <th></th>\n",
       "      <th></th>\n",
       "      <th></th>\n",
       "    </tr>\n",
       "  </thead>\n",
       "  <tbody>\n",
       "    <tr>\n",
       "      <th>Archaea \"Crenarchaeota\" Thermoprotei Acidilobales Acidilobaceae Acidilobus</th>\n",
       "      <td>unknown</td>\n",
       "      <td>2</td>\n",
       "      <td>1</td>\n",
       "      <td>unknown</td>\n",
       "      <td>5</td>\n",
       "      <td>unknown</td>\n",
       "      <td>unknown</td>\n",
       "      <td>unknown</td>\n",
       "      <td>unknown</td>\n",
       "    </tr>\n",
       "    <tr>\n",
       "      <th>Archaea \"Crenarchaeota\" Thermoprotei Acidilobales Caldisphaeraceae Caldisphaera</th>\n",
       "      <td>unknown</td>\n",
       "      <td>14</td>\n",
       "      <td>15</td>\n",
       "      <td>unknown</td>\n",
       "      <td>26</td>\n",
       "      <td>unknown</td>\n",
       "      <td>1</td>\n",
       "      <td>unknown</td>\n",
       "      <td>1</td>\n",
       "    </tr>\n",
       "    <tr>\n",
       "      <th>Archaea \"Crenarchaeota\" Thermoprotei Desulfurococcales Desulfurococcaceae Ignisphaera</th>\n",
       "      <td>7</td>\n",
       "      <td>23</td>\n",
       "      <td>14</td>\n",
       "      <td>2</td>\n",
       "      <td>28</td>\n",
       "      <td>7</td>\n",
       "      <td>8</td>\n",
       "      <td>unknown</td>\n",
       "      <td>16</td>\n",
       "    </tr>\n",
       "    <tr>\n",
       "      <th>Archaea \"Crenarchaeota\" Thermoprotei Desulfurococcales Desulfurococcaceae Stetteria</th>\n",
       "      <td>unknown</td>\n",
       "      <td>unknown</td>\n",
       "      <td>unknown</td>\n",
       "      <td>unknown</td>\n",
       "      <td>1</td>\n",
       "      <td>unknown</td>\n",
       "      <td>unknown</td>\n",
       "      <td>unknown</td>\n",
       "      <td>unknown</td>\n",
       "    </tr>\n",
       "    <tr>\n",
       "      <th>Archaea \"Crenarchaeota\" Thermoprotei Desulfurococcales Desulfurococcaceae Sulfophobococcus</th>\n",
       "      <td>unknown</td>\n",
       "      <td>1</td>\n",
       "      <td>4</td>\n",
       "      <td>unknown</td>\n",
       "      <td>5</td>\n",
       "      <td>1</td>\n",
       "      <td>2</td>\n",
       "      <td>unknown</td>\n",
       "      <td>2</td>\n",
       "    </tr>\n",
       "  </tbody>\n",
       "</table>\n",
       "</div>"
      ],
      "text/plain": [
       "SAMPLE                                                        unknown  \\\n",
       "GROUP                                              EXTRACTION CONTROL   \n",
       "BARCODE                                                          MID1   \n",
       "Taxonomy                                                                \n",
       "Archaea \"Crenarchaeota\" Thermoprotei Acidilobal...            unknown   \n",
       "Archaea \"Crenarchaeota\" Thermoprotei Acidilobal...            unknown   \n",
       "Archaea \"Crenarchaeota\" Thermoprotei Desulfuroc...                  7   \n",
       "Archaea \"Crenarchaeota\" Thermoprotei Desulfuroc...            unknown   \n",
       "Archaea \"Crenarchaeota\" Thermoprotei Desulfuroc...            unknown   \n",
       "\n",
       "SAMPLE                                               tissue            \\\n",
       "GROUP                                                 NEC 1 Control 1   \n",
       "BARCODE                                                MID2      MID3   \n",
       "Taxonomy                                                                \n",
       "Archaea \"Crenarchaeota\" Thermoprotei Acidilobal...        2         1   \n",
       "Archaea \"Crenarchaeota\" Thermoprotei Acidilobal...       14        15   \n",
       "Archaea \"Crenarchaeota\" Thermoprotei Desulfuroc...       23        14   \n",
       "Archaea \"Crenarchaeota\" Thermoprotei Desulfuroc...  unknown   unknown   \n",
       "Archaea \"Crenarchaeota\" Thermoprotei Desulfuroc...        1         4   \n",
       "\n",
       "SAMPLE                                                                 \\\n",
       "GROUP                                                 NEC 2 Control 2   \n",
       "BARCODE                                                MID4      MID5   \n",
       "Taxonomy                                                                \n",
       "Archaea \"Crenarchaeota\" Thermoprotei Acidilobal...  unknown         5   \n",
       "Archaea \"Crenarchaeota\" Thermoprotei Acidilobal...  unknown        26   \n",
       "Archaea \"Crenarchaeota\" Thermoprotei Desulfuroc...        2        28   \n",
       "Archaea \"Crenarchaeota\" Thermoprotei Desulfuroc...  unknown         1   \n",
       "Archaea \"Crenarchaeota\" Thermoprotei Desulfuroc...  unknown         5   \n",
       "\n",
       "SAMPLE                                                stool            \\\n",
       "GROUP                                                 NEC 1 Control 1   \n",
       "BARCODE                                                MID6      MID7   \n",
       "Taxonomy                                                                \n",
       "Archaea \"Crenarchaeota\" Thermoprotei Acidilobal...  unknown   unknown   \n",
       "Archaea \"Crenarchaeota\" Thermoprotei Acidilobal...  unknown         1   \n",
       "Archaea \"Crenarchaeota\" Thermoprotei Desulfuroc...        7         8   \n",
       "Archaea \"Crenarchaeota\" Thermoprotei Desulfuroc...  unknown   unknown   \n",
       "Archaea \"Crenarchaeota\" Thermoprotei Desulfuroc...        1         2   \n",
       "\n",
       "SAMPLE                                                                 \n",
       "GROUP                                                 NEC 2 Control 2  \n",
       "BARCODE                                                MID8      MID9  \n",
       "Taxonomy                                                               \n",
       "Archaea \"Crenarchaeota\" Thermoprotei Acidilobal...  unknown   unknown  \n",
       "Archaea \"Crenarchaeota\" Thermoprotei Acidilobal...  unknown         1  \n",
       "Archaea \"Crenarchaeota\" Thermoprotei Desulfuroc...  unknown        16  \n",
       "Archaea \"Crenarchaeota\" Thermoprotei Desulfuroc...  unknown   unknown  \n",
       "Archaea \"Crenarchaeota\" Thermoprotei Desulfuroc...  unknown         2  "
      ]
     },
     "execution_count": 6,
     "metadata": {},
     "output_type": "execute_result"
    }
   ],
   "source": [
    "rna_data.columns = meta.transpose().values.tolist()[::-1]\n",
    "rna_data.columns.names = meta.transpose().index.values.tolist()[::-1]\n",
    "rna_data.head()"
   ]
  },
  {
   "cell_type": "markdown",
   "metadata": {},
   "source": [
    "Let's finally check that the indexes are unique :"
   ]
  },
  {
   "cell_type": "code",
   "execution_count": 7,
   "metadata": {},
   "outputs": [
    {
     "data": {
      "text/plain": [
       "True"
      ]
     },
     "execution_count": 7,
     "metadata": {},
     "output_type": "execute_result"
    }
   ],
   "source": [
    "rna_data.index.is_unique"
   ]
  },
  {
   "cell_type": "markdown",
   "metadata": {},
   "source": [
    "## Task 3. Class War in Titanic\n",
    "\n",
    "Use pandas to import the data file `Data/titanic.xls`. It contains data on all the passengers that travelled on the Titanic."
   ]
  },
  {
   "cell_type": "code",
   "execution_count": 8,
   "metadata": {},
   "outputs": [
    {
     "data": {
      "text/html": [
       "<hr><h2>Data frame:titanic3</h2>1309 observations and 14 variables, maximum # NAs:1188<hr>\n",
       "<TABLE BORDER>\n",
       "<tr><td>Name</td><td>Labels</td><td>Units</td><td>Levels</td><td>Storage</td><td>NAs</td></tr>\n",
       "<tr><td>pclass</td><td></td><td></td><td><a href=\"#pclass\"><div align=right>  3</div></a></td><td>integer</td><td><div align=right>   0</div></td></tr>\n",
       "<tr><td>survived</td><td>Survived</td><td></td><td><div align=right></div></td><td>double</td><td><div align=right>   0</div></td></tr>\n",
       "<tr><td>name</td><td>Name</td><td></td><td><div align=right></div></td><td>character</td><td><div align=right>   0</div></td></tr>\n",
       "<tr><td>sex</td><td></td><td></td><td><a href=\"#sex\"><div align=right>  2</div></a></td><td>integer</td><td><div align=right>   0</div></td></tr>\n",
       "<tr><td>age</td><td>Age</td><td>Year</td><td><div align=right></div></td><td>double</td><td><div align=right> 263</div></td></tr>\n",
       "<tr><td>sibsp</td><td>Number of Siblings/Spouses Aboard</td><td></td><td><div align=right></div></td><td>double</td><td><div align=right>   0</div></td></tr>\n",
       "<tr><td>parch</td><td>Number of Parents/Children Aboard</td><td></td><td><div align=right></div></td><td>double</td><td><div align=right>   0</div></td></tr>\n",
       "<tr><td>ticket</td><td>Ticket Number</td><td></td><td><div align=right></div></td><td>character</td><td><div align=right>   0</div></td></tr>\n",
       "<tr><td>fare</td><td>Passenger Fare</td><td>British Pound (\\243)</td><td><div align=right></div></td><td>double</td><td><div align=right>   1</div></td></tr>\n",
       "<tr><td>cabin</td><td></td><td></td><td><a href=\"#cabin\"><div align=right>187</div></a></td><td>integer</td><td><div align=right>   0</div></td></tr>\n",
       "<tr><td>embarked</td><td></td><td></td><td><a href=\"#embarked\"><div align=right>  3</div></a></td><td>integer</td><td><div align=right>   2</div></td></tr>\n",
       "<tr><td>boat</td><td></td><td></td><td><a href=\"#boat\"><div align=right> 28</div></a></td><td>integer</td><td><div align=right>   0</div></td></tr>\n",
       "<tr><td>body</td><td>Body Identification Number</td><td></td><td><div align=right></div></td><td>double</td><td><div align=right>1188</div></td></tr>\n",
       "<tr><td>home.dest</td><td>Home/Destination</td><td></td><td><div align=right></div></td><td>character</td><td><div align=right>   0</div></td></tr>\n",
       "</TABLE>\n",
       "<hr>\n",
       "<TABLE BORDER>\n",
       "<tr><td>Variable</td><td>Levels</td></tr>\n",
       "<tr><td><a name=\"pclass\">pclass</a></td><td>1st</td></tr>\n",
       "<tr><td></td><td>2nd</td></tr>\n",
       "<tr><td></td><td>3rd</td></tr>\n",
       "<tr><td><a name=\"sex\">sex</a></td><td>female</td></tr>\n",
       "<tr><td></td><td>male</td></tr>\n",
       "<tr><td><a name=\"cabin\">cabin</a></td><td></td></tr>\n",
       "<tr><td></td><td>A10</td></tr>\n",
       "<tr><td></td><td>A11</td></tr>\n",
       "<tr><td></td><td>A14</td></tr>\n",
       "<tr><td></td><td>A16</td></tr>\n",
       "<tr><td></td><td>A18</td></tr>\n",
       "<tr><td></td><td>A19</td></tr>\n",
       "<tr><td></td><td>A20</td></tr>\n",
       "<tr><td></td><td>A21</td></tr>\n",
       "<tr><td></td><td>A23</td></tr>\n",
       "<tr><td></td><td>A24</td></tr>\n",
       "<tr><td></td><td>A26</td></tr>\n",
       "<tr><td></td><td>A29</td></tr>\n",
       "<tr><td></td><td>A31</td></tr>\n",
       "<tr><td></td><td>A32</td></tr>\n",
       "<tr><td></td><td>A34</td></tr>\n",
       "<tr><td></td><td>A36</td></tr>\n",
       "<tr><td></td><td>A5</td></tr>\n",
       "<tr><td></td><td>A6</td></tr>\n",
       "<tr><td></td><td>A7</td></tr>\n",
       "<tr><td></td><td>A9</td></tr>\n",
       "<tr><td></td><td>B10</td></tr>\n",
       "<tr><td></td><td>B101</td></tr>\n",
       "<tr><td></td><td>B102</td></tr>\n",
       "<tr><td></td><td>B11</td></tr>\n",
       "<tr><td></td><td>B18</td></tr>\n",
       "<tr><td></td><td>B19</td></tr>\n",
       "<tr><td></td><td>B20</td></tr>\n",
       "<tr><td></td><td>B22</td></tr>\n",
       "<tr><td></td><td>B24</td></tr>\n",
       "<tr><td></td><td>B26</td></tr>\n",
       "<tr><td></td><td>B28</td></tr>\n",
       "<tr><td></td><td>B3</td></tr>\n",
       "<tr><td></td><td>B30</td></tr>\n",
       "<tr><td></td><td>B35</td></tr>\n",
       "<tr><td></td><td>B36</td></tr>\n",
       "<tr><td></td><td>B37</td></tr>\n",
       "<tr><td></td><td>B38</td></tr>\n",
       "<tr><td></td><td>B39</td></tr>\n",
       "<tr><td></td><td>B4</td></tr>\n",
       "<tr><td></td><td>B41</td></tr>\n",
       "<tr><td></td><td>B42</td></tr>\n",
       "<tr><td></td><td>B45</td></tr>\n",
       "<tr><td></td><td>B49</td></tr>\n",
       "<tr><td></td><td>B5</td></tr>\n",
       "<tr><td></td><td>B50</td></tr>\n",
       "<tr><td></td><td>B51 B53 B55</td></tr>\n",
       "<tr><td></td><td>B52 B54 B56</td></tr>\n",
       "<tr><td></td><td>B57 B59 B63 B66</td></tr>\n",
       "<tr><td></td><td>B58 B60</td></tr>\n",
       "<tr><td></td><td>B61</td></tr>\n",
       "<tr><td></td><td>B69</td></tr>\n",
       "<tr><td></td><td>B71</td></tr>\n",
       "<tr><td></td><td>B73</td></tr>\n",
       "<tr><td></td><td>B77</td></tr>\n",
       "<tr><td></td><td>B78</td></tr>\n",
       "<tr><td></td><td>B79</td></tr>\n",
       "<tr><td></td><td>B80</td></tr>\n",
       "<tr><td></td><td>B82 B84</td></tr>\n",
       "<tr><td></td><td>B86</td></tr>\n",
       "<tr><td></td><td>B94</td></tr>\n",
       "<tr><td></td><td>B96 B98</td></tr>\n",
       "<tr><td></td><td>C101</td></tr>\n",
       "<tr><td></td><td>C103</td></tr>\n",
       "<tr><td></td><td>C104</td></tr>\n",
       "<tr><td></td><td>C105</td></tr>\n",
       "<tr><td></td><td>C106</td></tr>\n",
       "<tr><td></td><td>C110</td></tr>\n",
       "<tr><td></td><td>C111</td></tr>\n",
       "<tr><td></td><td>C116</td></tr>\n",
       "<tr><td></td><td>C118</td></tr>\n",
       "<tr><td></td><td>C123</td></tr>\n",
       "<tr><td></td><td>C124</td></tr>\n",
       "<tr><td></td><td>C125</td></tr>\n",
       "<tr><td></td><td>C126</td></tr>\n",
       "<tr><td></td><td>C128</td></tr>\n",
       "<tr><td></td><td>C130</td></tr>\n",
       "<tr><td></td><td>C132</td></tr>\n",
       "<tr><td></td><td>C148</td></tr>\n",
       "<tr><td></td><td>C2</td></tr>\n",
       "<tr><td></td><td>C22 C26</td></tr>\n",
       "<tr><td></td><td>C23 C25 C27</td></tr>\n",
       "<tr><td></td><td>C28</td></tr>\n",
       "<tr><td></td><td>C30</td></tr>\n",
       "<tr><td></td><td>C31</td></tr>\n",
       "<tr><td></td><td>C32</td></tr>\n",
       "<tr><td></td><td>C39</td></tr>\n",
       "<tr><td></td><td>C45</td></tr>\n",
       "<tr><td></td><td>C46</td></tr>\n",
       "<tr><td></td><td>C47</td></tr>\n",
       "<tr><td></td><td>C49</td></tr>\n",
       "<tr><td></td><td>C50</td></tr>\n",
       "<tr><td></td><td>C51</td></tr>\n",
       "<tr><td></td><td>C52</td></tr>\n",
       "<tr><td></td><td>C53</td></tr>\n",
       "<tr><td></td><td>C54</td></tr>\n",
       "<tr><td></td><td>C55 C57</td></tr>\n",
       "<tr><td></td><td>C6</td></tr>\n",
       "<tr><td></td><td>C62 C64</td></tr>\n",
       "<tr><td></td><td>C65</td></tr>\n",
       "<tr><td></td><td>C68</td></tr>\n",
       "<tr><td></td><td>C7</td></tr>\n",
       "<tr><td></td><td>C70</td></tr>\n",
       "<tr><td></td><td>C78</td></tr>\n",
       "<tr><td></td><td>C80</td></tr>\n",
       "<tr><td></td><td>C82</td></tr>\n",
       "<tr><td></td><td>C83</td></tr>\n",
       "<tr><td></td><td>C85</td></tr>\n",
       "<tr><td></td><td>C86</td></tr>\n",
       "<tr><td></td><td>C87</td></tr>\n",
       "<tr><td></td><td>C89</td></tr>\n",
       "<tr><td></td><td>C90</td></tr>\n",
       "<tr><td></td><td>C91</td></tr>\n",
       "<tr><td></td><td>C92</td></tr>\n",
       "<tr><td></td><td>C93</td></tr>\n",
       "<tr><td></td><td>C95</td></tr>\n",
       "<tr><td></td><td>C97</td></tr>\n",
       "<tr><td></td><td>C99</td></tr>\n",
       "<tr><td></td><td>D</td></tr>\n",
       "<tr><td></td><td>D10 D12</td></tr>\n",
       "<tr><td></td><td>D11</td></tr>\n",
       "<tr><td></td><td>D15</td></tr>\n",
       "<tr><td></td><td>D17</td></tr>\n",
       "<tr><td></td><td>D19</td></tr>\n",
       "<tr><td></td><td>D20</td></tr>\n",
       "<tr><td></td><td>D21</td></tr>\n",
       "<tr><td></td><td>D22</td></tr>\n",
       "<tr><td></td><td>D26</td></tr>\n",
       "<tr><td></td><td>D28</td></tr>\n",
       "<tr><td></td><td>D30</td></tr>\n",
       "<tr><td></td><td>D33</td></tr>\n",
       "<tr><td></td><td>D34</td></tr>\n",
       "<tr><td></td><td>D35</td></tr>\n",
       "<tr><td></td><td>D36</td></tr>\n",
       "<tr><td></td><td>D37</td></tr>\n",
       "<tr><td></td><td>D38</td></tr>\n",
       "<tr><td></td><td>D40</td></tr>\n",
       "<tr><td></td><td>D43</td></tr>\n",
       "<tr><td></td><td>D45</td></tr>\n",
       "<tr><td></td><td>D46</td></tr>\n",
       "<tr><td></td><td>D47</td></tr>\n",
       "<tr><td></td><td>D48</td></tr>\n",
       "<tr><td></td><td>D49</td></tr>\n",
       "<tr><td></td><td>D50</td></tr>\n",
       "<tr><td></td><td>D56</td></tr>\n",
       "<tr><td></td><td>D6</td></tr>\n",
       "<tr><td></td><td>D7</td></tr>\n",
       "<tr><td></td><td>D9</td></tr>\n",
       "<tr><td></td><td>E10</td></tr>\n",
       "<tr><td></td><td>E101</td></tr>\n",
       "<tr><td></td><td>E12</td></tr>\n",
       "<tr><td></td><td>E121</td></tr>\n",
       "<tr><td></td><td>E17</td></tr>\n",
       "<tr><td></td><td>E24</td></tr>\n",
       "<tr><td></td><td>E25</td></tr>\n",
       "<tr><td></td><td>E31</td></tr>\n",
       "<tr><td></td><td>E33</td></tr>\n",
       "<tr><td></td><td>E34</td></tr>\n",
       "<tr><td></td><td>E36</td></tr>\n",
       "<tr><td></td><td>E38</td></tr>\n",
       "<tr><td></td><td>E39 E41</td></tr>\n",
       "<tr><td></td><td>E40</td></tr>\n",
       "<tr><td></td><td>E44</td></tr>\n",
       "<tr><td></td><td>E45</td></tr>\n",
       "<tr><td></td><td>E46</td></tr>\n",
       "<tr><td></td><td>E49</td></tr>\n",
       "<tr><td></td><td>E50</td></tr>\n",
       "<tr><td></td><td>E52</td></tr>\n",
       "<tr><td></td><td>E58</td></tr>\n",
       "<tr><td></td><td>E60</td></tr>\n",
       "<tr><td></td><td>E63</td></tr>\n",
       "<tr><td></td><td>E67</td></tr>\n",
       "<tr><td></td><td>E68</td></tr>\n",
       "<tr><td></td><td>E77</td></tr>\n",
       "<tr><td></td><td>E8</td></tr>\n",
       "<tr><td></td><td>F</td></tr>\n",
       "<tr><td></td><td>F E46</td></tr>\n",
       "<tr><td></td><td>F E57</td></tr>\n",
       "<tr><td></td><td>F E69</td></tr>\n",
       "<tr><td></td><td>F G63</td></tr>\n",
       "<tr><td></td><td>F G73</td></tr>\n",
       "<tr><td></td><td>F2</td></tr>\n",
       "<tr><td></td><td>F33</td></tr>\n",
       "<tr><td></td><td>F38</td></tr>\n",
       "<tr><td></td><td>F4</td></tr>\n",
       "<tr><td></td><td>G6</td></tr>\n",
       "<tr><td></td><td>T</td></tr>\n",
       "<tr><td><a name=\"embarked\">embarked</a></td><td>Cherbourg</td></tr>\n",
       "<tr><td></td><td>Queenstown</td></tr>\n",
       "<tr><td></td><td>Southampton</td></tr>\n",
       "<tr><td><a name=\"boat\">boat</a></td><td></td></tr>\n",
       "<tr><td></td><td>1</td></tr>\n",
       "<tr><td></td><td>10</td></tr>\n",
       "<tr><td></td><td>11</td></tr>\n",
       "<tr><td></td><td>12</td></tr>\n",
       "<tr><td></td><td>13</td></tr>\n",
       "<tr><td></td><td>13 15</td></tr>\n",
       "<tr><td></td><td>13 15 B</td></tr>\n",
       "<tr><td></td><td>14</td></tr>\n",
       "<tr><td></td><td>15</td></tr>\n",
       "<tr><td></td><td>15 16</td></tr>\n",
       "<tr><td></td><td>16</td></tr>\n",
       "<tr><td></td><td>2</td></tr>\n",
       "<tr><td></td><td>3</td></tr>\n",
       "<tr><td></td><td>4</td></tr>\n",
       "<tr><td></td><td>5</td></tr>\n",
       "<tr><td></td><td>5 7</td></tr>\n",
       "<tr><td></td><td>5 9</td></tr>\n",
       "<tr><td></td><td>6</td></tr>\n",
       "<tr><td></td><td>7</td></tr>\n",
       "<tr><td></td><td>8</td></tr>\n",
       "<tr><td></td><td>8 10</td></tr>\n",
       "<tr><td></td><td>9</td></tr>\n",
       "<tr><td></td><td>A</td></tr>\n",
       "<tr><td></td><td>B</td></tr>\n",
       "<tr><td></td><td>C</td></tr>\n",
       "<tr><td></td><td>C D</td></tr>\n",
       "<tr><td></td><td>D</td></tr>\n",
       "</TABLE>\n",
       "<hr>\n"
      ],
      "text/plain": [
       "<IPython.core.display.HTML object>"
      ]
     },
     "execution_count": 8,
     "metadata": {},
     "output_type": "execute_result"
    }
   ],
   "source": [
    "from IPython.core.display import HTML\n",
    "HTML(filename=DATA_FOLDER+'/titanic.html')"
   ]
  },
  {
   "cell_type": "markdown",
   "metadata": {},
   "source": [
    "For each of the following questions state clearly your assumptions and discuss your findings:\n",
    "1. Describe the *type* and the *value range* of each attribute. Indicate and transform the attributes that can be `Categorical`. \n",
    "2. Plot histograms for the *travel class*, *embarkation port*, *sex* and *age* attributes. For the latter one, use *discrete decade intervals*. \n",
    "3. Calculate the proportion of passengers by *cabin floor*. Present your results in a *pie chart*.\n",
    "4. For each *travel class*, calculate the proportion of the passengers that survived. Present your results in *pie charts*.\n",
    "5. Calculate the proportion of the passengers that survived by *travel class* and *sex*. Present your results in *a single histogram*.\n",
    "6. Create 2 equally populated *age categories* and calculate survival proportions by *age category*, *travel class* and *sex*. Present your results in a `DataFrame` with unique index."
   ]
  },
  {
   "cell_type": "markdown",
   "metadata": {},
   "source": [
    "### <font face=\"verdana\" color=\"blue\">1. Type and value range of attributes</font>\n",
    "\n",
    "\n",
    "| Attribut       |   pclass |  suvived  |  name  |  sex        |  age     |  sibsp  |  parck  |  ticket     |  fare      |  cabin  |  embarked  |  boat    |  body   |  home.dest |\n",
    "| -------------- | -------- | --------- | ------ | ----------- | -------- | ------- | ------- | ----------- | ---------- | ------- | ---------- | -------- | ------- | ---------- |\n",
    "| **type**           | integer  | Boolean   | string | Bolean      | interger | integer | integer | String      | float      | String  | Char       | Sttring  | integer | String     |\n",
    "| **Value range**    | 1/2/3    | 1/2       | text   | male/female | 0 to 100 | 0-3     | 0-4     | PC + number | 0 to 100.0 | text    | S-C-Q      | D ou 1-9 | >0      | city name  |\n",
    "| **Categorisation** | Yes      | Yes       | No    | Yes         | No       | No      | No      | No          | No         | No     | Yes        | No       | No      | No         |"
   ]
  },
  {
   "cell_type": "code",
   "execution_count": 9,
   "metadata": {},
   "outputs": [],
   "source": [
    "# load data with categorization\n",
    "\n",
    "data  = pd.read_excel(DATA_FOLDER+\"titanic.xls\", \\\n",
    "                      type={'pclass':'category','survived':'category','sex':'category','embarked':'category'})"
   ]
  },
  {
   "cell_type": "markdown",
   "metadata": {},
   "source": [
    "###  <font face=\"verdana\" color=\"blue\">2. Histograms for several attributes </font>\n",
    "<p align=\"right\"><font color=\"#0094ff\"> **Attributes :** Travel class, Embarkation port, Sex and Age </font></p>\n",
    "\n",
    "\n",
    "For each case we use the groupby() function, and then take the size of categories :"
   ]
  },
  {
   "cell_type": "code",
   "execution_count": 10,
   "metadata": {},
   "outputs": [
    {
     "data": {
      "text/plain": [
       "<matplotlib.text.Text at 0x7f9e245a9208>"
      ]
     },
     "execution_count": 10,
     "metadata": {},
     "output_type": "execute_result"
    },
    {
     "data": {
      "image/png": "[encoded data removed]",
      "text/plain": [
       "<matplotlib.figure.Figure at 0x7f9e246aef60>"
      ]
     },
     "metadata": {},
     "output_type": "display_data"
    }
   ],
   "source": [
    "plt.figure(figsize=(15, 8))\n",
    "data.groupby('pclass').size().plot(kind='bar')\n",
    "plt.title('Travel class')\n",
    "plt.grid()\n",
    "plt.xlabel('Class')\n",
    "plt.ylabel('# People')"
   ]
  },
  {
   "cell_type": "code",
   "execution_count": 11,
   "metadata": {},
   "outputs": [
    {
     "data": {
      "text/plain": [
       "<matplotlib.text.Text at 0x7f9e242f0940>"
      ]
     },
     "execution_count": 11,
     "metadata": {},
     "output_type": "execute_result"
    },
    {
     "data": {
      "image/png": "[encoded data removed]",
      "text/plain": [
       "<matplotlib.figure.Figure at 0x7f9e246aeac8>"
      ]
     },
     "metadata": {},
     "output_type": "display_data"
    }
   ],
   "source": [
    "plt.figure(figsize=(15, 8))\n",
    "tmp = data.groupby('embarked').size()\n",
    "tmp.index = ['Cherbourg', 'Queenstown', 'Southampton']\n",
    "tmp.plot(kind='bar')\n",
    "plt.title('Embarkation city')\n",
    "plt.grid()\n",
    "plt.xlabel('City')\n",
    "plt.ylabel('# People')"
   ]
  },
  {
   "cell_type": "code",
   "execution_count": 12,
   "metadata": {},
   "outputs": [
    {
     "data": {
      "image/png": "[encoded data removed]",
      "text/plain": [
       "<matplotlib.figure.Figure at 0x7f9e24601160>"
      ]
     },
     "metadata": {},
     "output_type": "display_data"
    }
   ],
   "source": [
    "plt.figure(figsize=(15, 8))\n",
    "data.groupby('sex').size().plot(kind='bar')\n",
    "plt.title('Sex of passengers')\n",
    "plt.ylabel('# People')\n",
    "plt.grid(True)"
   ]
  },
  {
   "cell_type": "code",
   "execution_count": 13,
   "metadata": {},
   "outputs": [
    {
     "data": {
      "text/plain": [
       "<matplotlib.text.Text at 0x7f9e244adc18>"
      ]
     },
     "execution_count": 13,
     "metadata": {},
     "output_type": "execute_result"
    },
    {
     "data": {
      "image/png": "[encoded data removed]",
      "text/plain": [
       "<matplotlib.figure.Figure at 0x7f9e24481198>"
      ]
     },
     "metadata": {},
     "output_type": "display_data"
    }
   ],
   "source": [
    "plt.figure(figsize=(15, 8))\n",
    "pd.cut(data['age'], bins = 10 * np.arange(0,10)).value_counts(sort=False).plot(kind='bar')\n",
    "plt.title('Age of passengers')\n",
    "plt.xlabel('aged [From, to]')\n",
    "plt.ylabel('# People')"
   ]
  },
  {
   "cell_type": "markdown",
   "metadata": {},
   "source": [
    "Here we separated the ages in decades intervals, with the \n",
    "<div class=\"alert alert-block alert-info\"> pandas.cut()</div>function"
   ]
  },
  {
   "cell_type": "markdown",
   "metadata": {},
   "source": [
    "###  <font face=\"verdana\" color=\"blue\">3. Passengers by cabin floor in a pie chart</font>"
   ]
  },
  {
   "cell_type": "code",
   "execution_count": 14,
   "metadata": {},
   "outputs": [
    {
     "name": "stdout",
     "output_type": "stream",
     "text": [
      "C    31.864407\n",
      "B    22.033898\n",
      "D    15.593220\n",
      "E    13.898305\n",
      "A     7.457627\n",
      "F     7.118644\n",
      "G     1.694915\n",
      "T     0.338983\n",
      "Name: cabin, dtype: float64\n"
     ]
    },
    {
     "data": {
      "text/plain": [
       "<matplotlib.axes._subplots.AxesSubplot at 0x7f9e2450dba8>"
      ]
     },
     "execution_count": 14,
     "metadata": {},
     "output_type": "execute_result"
    },
    {
     "data": {
      "image/png": "[encoded data removed]",
      "text/plain": [
       "<matplotlib.figure.Figure at 0x7f9e244b26a0>"
      ]
     },
     "metadata": {},
     "output_type": "display_data"
    }
   ],
   "source": [
    "cabine = data['cabin']\n",
    "# We remove pasenger without cabine and get first letter(level) \n",
    "cabinefloor = cabine[cabine.notnull()].str[0]\n",
    "# We calculate the proportion with value_count/sum\n",
    "proportion = cabinefloor.value_counts()/(cabinefloor.value_counts().sum())\n",
    "print(proportion*100)\n",
    "plt.figure(figsize=(10,8))\n",
    "colors = ['#191970','#001CF0','#0038E2','#0055D4','#0071C6','#008DB8','#00AAAA','#00C69C','#00E28E','#00FF80']\n",
    "expl = (0, 0, 0, 0, 0.1,0.1, 0.2, 0.3)\n",
    "proportion.plot.pie(colors = colors, explode = expl)"
   ]
  },
  {
   "cell_type": "markdown",
   "metadata": {},
   "source": [
    "Somehow, a larger proportion of passengers which were on the bridge deck (C) or on the promenade deck (B) managed to survive. This may not be unrelated to the fact that these decks had a quick open air access: the passengers had higher chances of drowning in the Titanic if they were stuck in the more internal decks."
   ]
  },
  {
   "cell_type": "markdown",
   "metadata": {},
   "source": [
    "###  <font face=\"verdana\" color=\"blue\">4. Surviving passengers by class, in a pie chart</font>\n",
    "We perform a groupby() on the passengers in order to sort them by pclass, and then compute the survival proportion."
   ]
  },
  {
   "cell_type": "code",
   "execution_count": 15,
   "metadata": {},
   "outputs": [
    {
     "name": "stdout",
     "output_type": "stream",
     "text": [
      "pclass           1         2         3\n",
      "survived                              \n",
      "0         0.380805  0.570397  0.744711\n",
      "1         0.619195  0.429603  0.255289\n"
     ]
    },
    {
     "data": {
      "text/plain": [
       "<matplotlib.axes._subplots.AxesSubplot at 0x7f9e244a7860>"
      ]
     },
     "execution_count": 15,
     "metadata": {},
     "output_type": "execute_result"
    },
    {
     "data": {
      "image/png": "[encoded data removed]",
      "text/plain": [
       "<matplotlib.figure.Figure at 0x7f9e2445f400>"
      ]
     },
     "metadata": {},
     "output_type": "display_data"
    }
   ],
   "source": [
    "groupsurvived = data.groupby(\"pclass\").apply( lambda x : x['survived'].value_counts(sort=False)/(x['survived'].value_counts().sum())  ) \n",
    "groupsurvived = groupsurvived.transpose()\n",
    "print(groupsurvived)\n",
    "colors = ['#045FB4', '#FC8607']\n",
    "labels = [\"survived\", \"died\"]\n",
    "groupsurvived[1].plot.pie(labels=labels, colors = colors, title='First class')"
   ]
  },
  {
   "cell_type": "code",
   "execution_count": 16,
   "metadata": {},
   "outputs": [
    {
     "data": {
      "text/plain": [
       "<matplotlib.axes._subplots.AxesSubplot at 0x7f9e240c6978>"
      ]
     },
     "execution_count": 16,
     "metadata": {},
     "output_type": "execute_result"
    },
    {
     "data": {
      "image/png": "[encoded data removed]",
      "text/plain": [
       "<matplotlib.figure.Figure at 0x7f9e24439e10>"
      ]
     },
     "metadata": {},
     "output_type": "display_data"
    }
   ],
   "source": [
    "labels = [\"survived\", \"died\"]\n",
    "groupsurvived[2].plot.pie(labels=labels, colors = colors, title='Second class')"
   ]
  },
  {
   "cell_type": "code",
   "execution_count": 17,
   "metadata": {},
   "outputs": [
    {
     "ename": "NameError",
     "evalue": "name 'groupsuvived' is not defined",
     "output_type": "error",
     "traceback": [
      "\u001b[0;31m---------------------------------------------------------------------------\u001b[0m",
      "\u001b[0;31mNameError\u001b[0m                                 Traceback (most recent call last)",
      "\u001b[0;32m<ipython-input-17-4489d1a03138>\u001b[0m in \u001b[0;36m<module>\u001b[0;34m()\u001b[0m\n\u001b[1;32m      1\u001b[0m \u001b[0mlabels\u001b[0m \u001b[0;34m=\u001b[0m \u001b[0;34m[\u001b[0m\u001b[0;34m\"survived\"\u001b[0m\u001b[0;34m,\u001b[0m \u001b[0;34m\"died\"\u001b[0m\u001b[0;34m]\u001b[0m\u001b[0;34m\u001b[0m\u001b[0m\n\u001b[0;32m----> 2\u001b[0;31m \u001b[0mgroupsuvived\u001b[0m\u001b[0;34m[\u001b[0m\u001b[0;36m3\u001b[0m\u001b[0;34m]\u001b[0m\u001b[0;34m.\u001b[0m\u001b[0mplot\u001b[0m\u001b[0;34m.\u001b[0m\u001b[0mpie\u001b[0m\u001b[0;34m(\u001b[0m\u001b[0mlabels\u001b[0m\u001b[0;34m=\u001b[0m\u001b[0mlabels\u001b[0m\u001b[0;34m,\u001b[0m \u001b[0mcolors\u001b[0m\u001b[0;34m=\u001b[0m\u001b[0mcolors\u001b[0m\u001b[0;34m,\u001b[0m \u001b[0mtitle\u001b[0m\u001b[0;34m=\u001b[0m\u001b[0;34m'Third class'\u001b[0m\u001b[0;34m)\u001b[0m\u001b[0;34m\u001b[0m\u001b[0m\n\u001b[0m",
      "\u001b[0;31mNameError\u001b[0m: name 'groupsuvived' is not defined"
     ]
    }
   ],
   "source": [
    "labels = [\"survived\", \"died\"]\n",
    "groupsuvived[3].plot.pie(labels=labels, colors=colors, title='Third class')"
   ]
  },
  {
   "cell_type": "markdown",
   "metadata": {},
   "source": [
    "###  <font face=\"verdana\" color=\"blue\">5. Surviving proportion by class & sex </font>\n",
    "\n",
    "5. Calculate the proportion of the passengers that survived by *travel class* and *sex*. Present your results in *a single histogram*.\n",
    "6. Create 2 equally populated *age categories* and calculate survival proportions by *age category*, *travel class* and *sex*. Present your results in a `DataFrame` with unique index.\n",
    "\n",
    "We do the same as before, only that we now group by pclass **and** sex."
   ]
  },
  {
   "cell_type": "code",
   "execution_count": 18,
   "metadata": {},
   "outputs": [
    {
     "data": {
      "text/html": [
       "<div>\n",
       "<style>\n",
       "    .dataframe thead tr:only-child th {\n",
       "        text-align: right;\n",
       "    }\n",
       "\n",
       "    .dataframe thead th {\n",
       "        text-align: left;\n",
       "    }\n",
       "\n",
       "    .dataframe tbody tr th {\n",
       "        vertical-align: top;\n",
       "    }\n",
       "</style>\n",
       "<table border=\"1\" class=\"dataframe\">\n",
       "  <thead>\n",
       "    <tr>\n",
       "      <th>pclass</th>\n",
       "      <th colspan=\"2\" halign=\"left\">1</th>\n",
       "      <th colspan=\"2\" halign=\"left\">2</th>\n",
       "      <th colspan=\"2\" halign=\"left\">3</th>\n",
       "    </tr>\n",
       "    <tr>\n",
       "      <th>sex</th>\n",
       "      <th>female</th>\n",
       "      <th>male</th>\n",
       "      <th>female</th>\n",
       "      <th>male</th>\n",
       "      <th>female</th>\n",
       "      <th>male</th>\n",
       "    </tr>\n",
       "    <tr>\n",
       "      <th>survived</th>\n",
       "      <th></th>\n",
       "      <th></th>\n",
       "      <th></th>\n",
       "      <th></th>\n",
       "      <th></th>\n",
       "      <th></th>\n",
       "    </tr>\n",
       "  </thead>\n",
       "  <tbody>\n",
       "    <tr>\n",
       "      <th>1</th>\n",
       "      <td>0.965278</td>\n",
       "      <td>0.340782</td>\n",
       "      <td>0.886792</td>\n",
       "      <td>0.146199</td>\n",
       "      <td>0.490741</td>\n",
       "      <td>0.15213</td>\n",
       "    </tr>\n",
       "  </tbody>\n",
       "</table>\n",
       "</div>"
      ],
      "text/plain": [
       "pclass           1                   2                   3         \n",
       "sex         female      male    female      male    female     male\n",
       "survived                                                           \n",
       "1         0.965278  0.340782  0.886792  0.146199  0.490741  0.15213"
      ]
     },
     "execution_count": 18,
     "metadata": {},
     "output_type": "execute_result"
    }
   ],
   "source": [
    "gbsexclass = data.groupby([\"pclass\",\"sex\"])\n",
    "gbsexclass = gbsexclass.apply( lambda x : x['survived'].value_counts(sort=False)/(x['survived'].value_counts().sum())  )\n",
    "gbsexclass = gbsexclass.transpose()\n",
    "gbsexclass = gbsexclass.drop(0)\n",
    "gbsexclass"
   ]
  },
  {
   "cell_type": "code",
   "execution_count": 19,
   "metadata": {},
   "outputs": [
    {
     "data": {
      "text/plain": [
       "<matplotlib.axes._subplots.AxesSubplot at 0x7f9e2400e6d8>"
      ]
     },
     "execution_count": 19,
     "metadata": {},
     "output_type": "execute_result"
    },
    {
     "data": {
      "image/png": "[encoded data removed]",
      "text/plain": [
       "<matplotlib.figure.Figure at 0x7f9e2409c390>"
      ]
     },
     "metadata": {},
     "output_type": "display_data"
    }
   ],
   "source": [
    "gbsexclass.plot(kind=\"bar\", color=['#3A01DF', '#0080FF', '#04B404', '#01DF01', '#DF0101', '#FF4000'])"
   ]
  },
  {
   "cell_type": "markdown",
   "metadata": {},
   "source": [
    "###  <font face=\"verdana\" color=\"blue\">6. Survival proportions.... </font>\n",
    "\n",
    "Idem, but we use decade intervals"
   ]
  },
  {
   "cell_type": "code",
   "execution_count": 20,
   "metadata": {},
   "outputs": [
    {
     "data": {
      "text/html": [
       "<div>\n",
       "<style>\n",
       "    .dataframe thead tr:only-child th {\n",
       "        text-align: right;\n",
       "    }\n",
       "\n",
       "    .dataframe thead th {\n",
       "        text-align: left;\n",
       "    }\n",
       "\n",
       "    .dataframe tbody tr th {\n",
       "        vertical-align: top;\n",
       "    }\n",
       "</style>\n",
       "<table border=\"1\" class=\"dataframe\">\n",
       "  <thead>\n",
       "    <tr style=\"text-align: right;\">\n",
       "      <th></th>\n",
       "      <th></th>\n",
       "      <th>survived</th>\n",
       "      <th>0</th>\n",
       "      <th>1</th>\n",
       "    </tr>\n",
       "    <tr>\n",
       "      <th>pclass</th>\n",
       "      <th>sex</th>\n",
       "      <th>age_cat</th>\n",
       "      <th></th>\n",
       "      <th></th>\n",
       "    </tr>\n",
       "  </thead>\n",
       "  <tbody>\n",
       "    <tr>\n",
       "      <th rowspan=\"4\" valign=\"top\">1</th>\n",
       "      <th rowspan=\"2\" valign=\"top\">female</th>\n",
       "      <th>(0.166, 28.0]</th>\n",
       "      <td>0.048780</td>\n",
       "      <td>0.951220</td>\n",
       "    </tr>\n",
       "    <tr>\n",
       "      <th>(28.0, 80.0]</th>\n",
       "      <td>0.032609</td>\n",
       "      <td>0.967391</td>\n",
       "    </tr>\n",
       "    <tr>\n",
       "      <th rowspan=\"2\" valign=\"top\">male</th>\n",
       "      <th>(0.166, 28.0]</th>\n",
       "      <td>0.468750</td>\n",
       "      <td>0.531250</td>\n",
       "    </tr>\n",
       "    <tr>\n",
       "      <th>(28.0, 80.0]</th>\n",
       "      <td>0.697479</td>\n",
       "      <td>0.302521</td>\n",
       "    </tr>\n",
       "    <tr>\n",
       "      <th rowspan=\"4\" valign=\"top\">2</th>\n",
       "      <th rowspan=\"2\" valign=\"top\">female</th>\n",
       "      <th>(0.166, 28.0]</th>\n",
       "      <td>0.089286</td>\n",
       "      <td>0.910714</td>\n",
       "    </tr>\n",
       "    <tr>\n",
       "      <th>(28.0, 80.0]</th>\n",
       "      <td>0.127660</td>\n",
       "      <td>0.872340</td>\n",
       "    </tr>\n",
       "    <tr>\n",
       "      <th rowspan=\"2\" valign=\"top\">male</th>\n",
       "      <th>(0.166, 28.0]</th>\n",
       "      <td>0.783784</td>\n",
       "      <td>0.216216</td>\n",
       "    </tr>\n",
       "    <tr>\n",
       "      <th>(28.0, 80.0]</th>\n",
       "      <td>0.916667</td>\n",
       "      <td>0.083333</td>\n",
       "    </tr>\n",
       "    <tr>\n",
       "      <th rowspan=\"4\" valign=\"top\">3</th>\n",
       "      <th rowspan=\"2\" valign=\"top\">female</th>\n",
       "      <th>(0.166, 28.0]</th>\n",
       "      <td>0.486239</td>\n",
       "      <td>0.513761</td>\n",
       "    </tr>\n",
       "    <tr>\n",
       "      <th>(28.0, 80.0]</th>\n",
       "      <td>0.627907</td>\n",
       "      <td>0.372093</td>\n",
       "    </tr>\n",
       "    <tr>\n",
       "      <th rowspan=\"2\" valign=\"top\">male</th>\n",
       "      <th>(0.166, 28.0]</th>\n",
       "      <td>0.816964</td>\n",
       "      <td>0.183036</td>\n",
       "    </tr>\n",
       "    <tr>\n",
       "      <th>(28.0, 80.0]</th>\n",
       "      <td>0.856000</td>\n",
       "      <td>0.144000</td>\n",
       "    </tr>\n",
       "  </tbody>\n",
       "</table>\n",
       "</div>"
      ],
      "text/plain": [
       "survived                            0         1\n",
       "pclass sex    age_cat                          \n",
       "1      female (0.166, 28.0]  0.048780  0.951220\n",
       "              (28.0, 80.0]   0.032609  0.967391\n",
       "       male   (0.166, 28.0]  0.468750  0.531250\n",
       "              (28.0, 80.0]   0.697479  0.302521\n",
       "2      female (0.166, 28.0]  0.089286  0.910714\n",
       "              (28.0, 80.0]   0.127660  0.872340\n",
       "       male   (0.166, 28.0]  0.783784  0.216216\n",
       "              (28.0, 80.0]   0.916667  0.083333\n",
       "3      female (0.166, 28.0]  0.486239  0.513761\n",
       "              (28.0, 80.0]   0.627907  0.372093\n",
       "       male   (0.166, 28.0]  0.816964  0.183036\n",
       "              (28.0, 80.0]   0.856000  0.144000"
      ]
     },
     "execution_count": 20,
     "metadata": {},
     "output_type": "execute_result"
    }
   ],
   "source": [
    "datawithcat = data\n",
    "datawithcat['age_cat'] =  pd.qcut(data['age'],2)\n",
    "datawithcat = data.groupby([\"pclass\",\"sex\",\"age_cat\"]).apply( lambda x : x['survived'].value_counts(sort=False)/(x['survived'].value_counts().sum())  )\n",
    "datawithcat"
   ]
  },
  {
   "cell_type": "code",
   "execution_count": 21,
   "metadata": {},
   "outputs": [
    {
     "data": {
      "text/plain": [
       "<matplotlib.figure.Figure at 0x7f9e23fe6978>"
      ]
     },
     "metadata": {},
     "output_type": "display_data"
    },
    {
     "data": {
      "image/png": "[encoded data removed]",
      "text/plain": [
       "<matplotlib.figure.Figure at 0x7f9e23f06940>"
      ]
     },
     "metadata": {},
     "output_type": "display_data"
    }
   ],
   "source": [
    "plt.figure(figsize=(12,8))\n",
    "colors = ['#3A01DF', '#0080FF', '#04B404', '#01DF01', '#DF0101', '#FF4000', '#FFBF00', '#F7D358', '#FE2E64', '#FA5882']\n",
    "datawithcat.transpose().drop(0).plot(kind='bar', color=colors)\n",
    "plt.rcParams[\"figure.figsize\"] = [10,10]"
   ]
  },
  {
   "cell_type": "markdown",
   "metadata": {
    "collapsed": true
   },
   "source": [
    "Apparently, on the Titanic, being a female passenger (preferably in the first or second class!) seemed to increase the survival chances! (we keep in mind however, that there were nearly twice as many men as women on the ship)\n",
    "\n",
    "As for the male population, being in the younger half seemed to be what helped the most."
   ]
  }
 ],
 "metadata": {
  "kernelspec": {
   "display_name": "Python 3",
   "language": "python",
   "name": "python3"
  },
  "language_info": {
   "codemirror_mode": {
    "name": "ipython",
    "version": 3
   },
   "file_extension": ".py",
   "mimetype": "text/x-python",
   "name": "python",
   "nbconvert_exporter": "python",
   "pygments_lexer": "ipython3",
   "version": "3.6.1"
  }
 },
 "nbformat": 4,
 "nbformat_minor": 2
}
